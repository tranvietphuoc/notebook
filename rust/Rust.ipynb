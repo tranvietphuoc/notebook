{
 "cells": [
  {
   "cell_type": "code",
   "execution_count": 3,
   "id": "c86c0313-23aa-4302-88c4-7b653fa5c19a",
   "metadata": {},
   "outputs": [
    {
     "name": "stdout",
     "output_type": "stream",
     "text": [
      "hello world\n"
     ]
    }
   ],
   "source": [
    "println!(\"hello world\");\n"
   ]
  },
  {
   "cell_type": "code",
   "execution_count": 4,
   "id": "2ab4994b-1522-46ca-9ff7-26413a8c4b48",
   "metadata": {},
   "outputs": [],
   "source": [
    "use std::collections::HashMap;\n"
   ]
  },
  {
   "cell_type": "code",
   "execution_count": 7,
   "id": "0f128777-e70b-4386-ad0e-ffb18e4645a4",
   "metadata": {},
   "outputs": [
    {
     "ename": "Error",
     "evalue": "cannot find type `int` in this scope",
     "output_type": "error",
     "traceback": [
      "let h: HashMap<str, int> = HashMap::new();",
      "\u001b[91m                    ^^^\u001b[0m \u001b[94mnot found in this scope\u001b[0m",
      "cannot find type `int` in this scope",
      "\u001b[1mhelp\u001b[0m: perhaps you intended to use this type\n\ni32",
      "\u001b[1mhelp\u001b[0m: you might be missing a type parameter\n\n<int>"
     ]
    },
    {
     "ename": "Error",
     "evalue": "the size for values of type `str` cannot be known at compilation time",
     "output_type": "error",
     "traceback": [
      "let h: HashMap<str, int> = HashMap::new();",
      "\u001b[91m       ^^^^^^^^^^^^^^^^^\u001b[0m \u001b[94mdoesn't have a size known at compile-time\u001b[0m",
      "the size for values of type `str` cannot be known at compilation time",
      "\u001b[1mhelp\u001b[0m: the trait `Sized` is not implemented for `str`"
     ]
    }
   ],
   "source": [
    "let h: HashMap<str, int> = HashMap::new();"
   ]
  },
  {
   "cell_type": "code",
   "execution_count": null,
   "id": "db274bf3-b3f8-4fda-b288-ca039dcc7eea",
   "metadata": {},
   "outputs": [],
   "source": []
  }
 ],
 "metadata": {
  "kernelspec": {
   "display_name": "Rust",
   "language": "rust",
   "name": "rust"
  },
  "language_info": {
   "codemirror_mode": "rust",
   "file_extension": ".rs",
   "mimetype": "text/rust",
   "name": "Rust",
   "pygment_lexer": "rust",
   "version": ""
  }
 },
 "nbformat": 4,
 "nbformat_minor": 5
}
