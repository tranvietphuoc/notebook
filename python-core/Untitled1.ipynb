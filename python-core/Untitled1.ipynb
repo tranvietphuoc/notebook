{
 "cells": [
  {
   "cell_type": "code",
   "execution_count": 2,
   "id": "f2923b86",
   "metadata": {},
   "outputs": [
    {
     "name": "stdout",
     "output_type": "stream",
     "text": [
      "hello\n"
     ]
    }
   ],
   "source": [
    "println!(\"hello\");"
   ]
  },
  {
   "cell_type": "code",
   "execution_count": 6,
   "id": "b660c41f",
   "metadata": {},
   "outputs": [
    {
     "name": "stdout",
     "output_type": "stream",
     "text": [
      "phuoc\n"
     ]
    }
   ],
   "source": [
    "let name: String = String::from(\"phuoc\");\n",
    "println!(\"{}\", name);"
   ]
  },
  {
   "cell_type": "code",
   "execution_count": null,
   "id": "3bbfee1a",
   "metadata": {},
   "outputs": [],
   "source": []
  }
 ],
 "metadata": {
  "kernelspec": {
   "display_name": "Rust",
   "language": "rust",
   "name": "rust"
  },
  "language_info": {
   "codemirror_mode": "rust",
   "file_extension": ".rs",
   "mimetype": "text/rust",
   "name": "Rust",
   "pygment_lexer": "rust",
   "version": ""
  }
 },
 "nbformat": 4,
 "nbformat_minor": 5
}
