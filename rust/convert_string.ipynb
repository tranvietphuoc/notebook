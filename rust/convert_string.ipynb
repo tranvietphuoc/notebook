{
 "cells": [
  {
   "cell_type": "markdown",
   "id": "b7aa4552-6803-485a-9b5c-4c97f28f2a6d",
   "metadata": {},
   "source": [
    "**Problem:**\n",
    "Convert strings to pig latin\n",
    "The first consonant of each word is move to the end of the word and \"ay\" is added\n",
    "So \"first\" becomes \"ist-fay\". Words that start with a vowel have \"hay\" added to the end instead (\"apple\" becomes \"apple-hay\").\n",
    "Keep in mind the details about UTF-8 encoding!"
   ]
  },
  {
   "cell_type": "code",
   "execution_count": 2,
   "id": "0f36762d-c790-46b3-a842-09c585fc7984",
   "metadata": {},
   "outputs": [],
   "source": [
    "fn check_vowels(s: &str) -> bool {\n",
    "    let vowels = vec!['a', 'i', 'e', 'o', 'u'];\n",
    "    let mut list_of_string = vec![];\n",
    "    for c in s.chars() {\n",
    "        list_of_string.push(c);\n",
    "    }\n",
    "    for i in &vowels {\n",
    "        if list_of_string[0] == *i {\n",
    "            return true;\n",
    "        }\n",
    "    }\n",
    "    return false;\n",
    "}"
   ]
  },
  {
   "cell_type": "code",
   "execution_count": 3,
   "id": "942fbaaf-5037-48f6-8830-d5a8f703c5d9",
   "metadata": {},
   "outputs": [],
   "source": [
    "fn convert_pig_latin(s: &str) -> String {\n",
    "    let mut chars: Vec<char> = vec![];\n",
    "    let mut result: Vec<char> = vec![];\n",
    "    let mut tmp: String;\n",
    "    // turn a string into a list\n",
    "    for c in s.chars() {\n",
    "        chars.push(c);\n",
    "    }\n",
    "    // check vowels\n",
    "    if check_vowels(s) {\n",
    "        chars.push('-');\n",
    "        chars.push('h');\n",
    "        chars.push('a');\n",
    "        chars.push('y');\n",
    "        tmp = chars.into_iter().collect();  // turn vector into string\n",
    "        return tmp;\n",
    "    }\n",
    "    let first_char = &chars[0];\n",
    "    // slices the result vector from the second char of chars vector\n",
    "    for(index, c) in chars.iter().enumerate(){\n",
    "        if index == 0 {\n",
    "            continue;\n",
    "        } else {\n",
    "            result.push(*c);\n",
    "        }\n",
    "    }\n",
    "    result.push('-');\n",
    "    result.push(*first_char);\n",
    "    result.push('a');\n",
    "    result.push('y');\n",
    "    tmp = result.into_iter().collect();\n",
    "    return tmp;\n",
    "}\n",
    "\n",
    "\n",
    "        "
   ]
  },
  {
   "cell_type": "code",
   "execution_count": 6,
   "id": "dc75a058-b25a-4662-8f5b-861b12b03e54",
   "metadata": {},
   "outputs": [],
   "source": [
    "fn main() {\n",
    "    println!(\"result: {:?}\", convert_pig_latin(\"apple\"));\n",
    "    println!(\"result: {:?}\", convert_pig_latin(\"facebook\"));\n",
    "}\n"
   ]
  },
  {
   "cell_type": "code",
   "execution_count": null,
   "id": "cadaddc7-1fb8-45e0-b565-761b4cf01235",
   "metadata": {},
   "outputs": [],
   "source": []
  }
 ],
 "metadata": {
  "kernelspec": {
   "display_name": "Rust",
   "language": "rust",
   "name": "rust"
  },
  "language_info": {
   "codemirror_mode": "rust",
   "file_extension": ".rs",
   "mimetype": "text/rust",
   "name": "Rust",
   "pygment_lexer": "rust",
   "version": ""
  }
 },
 "nbformat": 4,
 "nbformat_minor": 5
}
