{
 "cells": [
  {
   "cell_type": "code",
   "execution_count": 2,
   "id": "d501b58d",
   "metadata": {},
   "outputs": [
    {
     "name": "stdout",
     "output_type": "stream",
     "text": [
      "Transaction(sender='Phuoc', amount=3000000, reciever='Tuyen')\n",
      "True\n"
     ]
    }
   ],
   "source": [
    "from dataclasses import dataclass, field\n",
    "from typing import Any, List\n",
    "from pprint import pprint\n",
    "import inspect\n",
    "\n",
    "\n",
    "@dataclass\n",
    "class Transaction:\n",
    "    sender: Any\n",
    "    amount: Any\n",
    "    reciever: Any\n",
    "\n",
    "\n",
    "trans = Transaction('Phuoc', 3000000, 'Tuyen')\n",
    "trans.sender\n",
    "trans.amount\n",
    "trans.reciever\n",
    "print(trans)  # auto implement __repr__() method\n",
    "print(trans == Transaction('Phuoc', 3000000, 'Tuyen'))  # auto implement __eq__() method\n"
   ]
  },
  {
   "cell_type": "code",
   "execution_count": 3,
   "id": "1f1aee37",
   "metadata": {},
   "outputs": [
    {
     "name": "stdout",
     "output_type": "stream",
     "text": [
      "[('__delattr__',\n",
      "  <function __create_fn__.<locals>.__delattr__ at 0x7fd460c42af0>),\n",
      " ('__eq__', <function __create_fn__.<locals>.__eq__ at 0x7fd460c42790>),\n",
      " ('__ge__', <function __create_fn__.<locals>.__ge__ at 0x7fd460c429d0>),\n",
      " ('__gt__', <function __create_fn__.<locals>.__gt__ at 0x7fd460c42940>),\n",
      " ('__hash__', <function __create_fn__.<locals>.__hash__ at 0x7fd460c42b80>),\n",
      " ('__init__', <function __create_fn__.<locals>.__init__ at 0x7fd460c42670>),\n",
      " ('__le__', <function __create_fn__.<locals>.__le__ at 0x7fd460c428b0>),\n",
      " ('__lt__', <function __create_fn__.<locals>.__lt__ at 0x7fd460c42820>),\n",
      " ('__repr__', <function __create_fn__.<locals>.__repr__ at 0x7fd460c423a0>),\n",
      " ('__setattr__',\n",
      "  <function __create_fn__.<locals>.__setattr__ at 0x7fd460c42a60>)]\n"
     ]
    }
   ],
   "source": [
    "@dataclass(frozen=True, order=True)\n",
    "class Employee:\n",
    "    age: int = field(default=0)\n",
    "    name: str = field(default=\"\")\n",
    "    agent: List[int] = field(default_factory=list, compare=True, hash=True, repr=True)\n",
    "\n",
    "\n",
    "pprint(inspect.getmembers(Employee, inspect.isfunction))"
   ]
  },
  {
   "cell_type": "code",
   "execution_count": null,
   "id": "09e0df41",
   "metadata": {},
   "outputs": [],
   "source": []
  }
 ],
 "metadata": {
  "kernelspec": {
   "display_name": "Python 3",
   "language": "python",
   "name": "python3"
  },
  "language_info": {
   "codemirror_mode": {
    "name": "ipython",
    "version": 3
   },
   "file_extension": ".py",
   "mimetype": "text/x-python",
   "name": "python",
   "nbconvert_exporter": "python",
   "pygments_lexer": "ipython3",
   "version": "3.8.8"
  }
 },
 "nbformat": 4,
 "nbformat_minor": 5
}
