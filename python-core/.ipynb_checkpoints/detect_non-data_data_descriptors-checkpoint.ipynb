{
 "cells": [
  {
   "cell_type": "markdown",
   "metadata": {},
   "source": [
    "# This chapter, I'll explain which descriptor is non-data descriptors and which one is data descriptors\n",
    "When I tried to understand how descriptors worked, I found this topic on [Stack Overflow](https://stackoverflow.com/questions/3798835/understanding-get-and-set-and-python-descriptors), and the explaination part of [Aaron Hall](https://stackoverflow.com/users/541136/aaron-hall) gave me an amazing clearly look about descriptor protocol in **Python**.\n",
    "#### Thus, Descriptors are class attributes with any of following special methods:\n",
    "* `__get__` (non-data descriptor method, for example on a method/function)\n",
    "* `__set__` (data descriptor method, for example on a property instance)\n",
    "* `__delete__` (data descriptor method)\\\n",
    "These descriptor objects can be used as attribute on other object class definitions. (That is, they live in the `__dict__` of the class object.\\\n",
    "Descriptor objects can be used to programmatically manage the results of dotted lookup (e.g: `foo.descriptor`) in normal expression, an assignment, and even the deletion.\\\n",
    "Function/methods, bound methods, `property`, `classmedthod` and `staticmethod` all use thes special methods to control how they accessed via the dotted lookup.\\\n",
    "Another data descriptor, a `member_descriptor`, created by `__slot__` allow memory savings by allowing the class to store data in a mutable tuple-like datastructure instead of the more flexible but space-consuming `__dict__`.\\\n",
    "Non-data descriptors, usually instance, class, and static methods, get their implicit first arguments (usually named `cls` and `self`, respectively) from their non-data descriptor method, `__get__`.\\\n",
    "#### In Depth\n",
    "A descriptor is an object with any following methods (`__get__`, `__set__` or `__delete__`), intended to be used via dotted-lookup as if it're a typical attribute of an instance. For an **owner-object**, `obj_instance` with a descriptor object.\\\n",
    "* `obj_instance.descriptor` invokes `descriptor.__get__(self, obj_instance, owner_class)` returning a *value*.\n",
    "* `obj_instance.descriptor = value` invokes `descriptor.__set__(self, obj_instance, value)` returning `None`.\n",
    "* `del obj_instance.descriptor` invokes `descriptor.__delete__(self, obj_instance)` returning `None`.\\\n",
    "#### Here we'll define some function to detect a method is non-data or data descriptor\n",
    "\n"
   ]
  },
  {
   "cell_type": "code",
   "execution_count": 11,
   "metadata": {},
   "outputs": [
    {
     "data": {
      "text/plain": [
       "({'__get__'}, {'__get__'}, {'__delete__', '__get__', '__set__'})"
      ]
     },
     "execution_count": 11,
     "metadata": {},
     "output_type": "execute_result"
    }
   ],
   "source": [
    "def has_descriptor_attrs(obj):\n",
    "    return set(['__get__','__set__','__delete__']).intersection(dir(obj))\n",
    "\n",
    "\n",
    "def is_descriptor(obj):\n",
    "    '''obj can be instance of descriptor or the descriptor class'''\n",
    "    return bool(has_descriptor_attrs(obj))\n",
    "\n",
    "# example\n",
    "\n",
    "# is_descriptor(classmethod), is_descriptor(staticmethod), is_descriptor(property)\n",
    "has_descriptor_attrs(classmethod), has_descriptor_attrs(staticmethod), has_descriptor_attrs(property)"
   ]
  },
  {
   "cell_type": "markdown",
   "metadata": {},
   "source": [
    "#### A data descriptor has a `__set__` and/or `__delete__`\n",
    "#### A non-data descriptor has neither `__set__` nor `__delete__`"
   ]
  },
  {
   "cell_type": "code",
   "execution_count": 14,
   "metadata": {},
   "outputs": [
    {
     "data": {
      "text/plain": [
       "(set(), set(), {'__delete__', '__set__'})"
      ]
     },
     "execution_count": 14,
     "metadata": {},
     "output_type": "execute_result"
    }
   ],
   "source": [
    "def has_data_descriptor_attrs(obj):\n",
    "    return set(['__set__','__delete__'])&set(dir(obj))\n",
    "\n",
    "\n",
    "def is_data_descriptor(obj):\n",
    "    return bool(has_data_descriptor_attrs(obj))\n",
    "\n",
    "# example\n",
    "\n",
    "# is_data_descriptor(staticmethod), is_data_descriptor(classmethod), is_data_descriptor(property)\n",
    "has_data_descriptor_attrs(classmethod), has_data_descriptor_attrs(staticmethod), has_data_descriptor_attrs(property)"
   ]
  },
  {
   "cell_type": "markdown",
   "metadata": {},
   "source": [
    "#### Dotted lookup order\n",
    "These are important distinctions, as they affect the lookup order for dotted lookup\n",
    "`obj.instance.attribute`\n",
    "1. First the above looks to see if the attribute is a Data descriptor on the class of the instance,\n",
    "2. If not, it looks to see if the attribute is in the `obj_instance`'s `__dict__`, then\n",
    "3. It finally falls back to non-data descriptor\\\n",
    "The consequence of this lookup order is that non-data descriptors like functions/methods can be overriden by instances"
   ]
  }
 ],
 "metadata": {
  "kernelspec": {
   "display_name": "Python 3",
   "language": "python",
   "name": "python3"
  },
  "language_info": {
   "codemirror_mode": {
    "name": "ipython",
    "version": 3
   },
   "file_extension": ".py",
   "mimetype": "text/x-python",
   "name": "python",
   "nbconvert_exporter": "python",
   "pygments_lexer": "ipython3",
   "version": "3.8.8"
  }
 },
 "nbformat": 4,
 "nbformat_minor": 4
}
