{
 "cells": [
  {
   "cell_type": "code",
   "execution_count": 18,
   "metadata": {
    "scrolled": true
   },
   "outputs": [
    {
     "name": "stdout",
     "output_type": "stream",
     "text": [
      "None\n"
     ]
    },
    {
     "ename": "ValueError",
     "evalue": "This is constant, cannot be changed!",
     "output_type": "error",
     "traceback": [
      "\u001b[0;31m---------------------------------------------------------------------------\u001b[0m",
      "\u001b[0;31mValueError\u001b[0m                                Traceback (most recent call last)",
      "\u001b[0;32m<ipython-input-18-fbc41372ff79>\u001b[0m in \u001b[0;36m<module>\u001b[0;34m\u001b[0m\n\u001b[1;32m     21\u001b[0m \u001b[0mc\u001b[0m\u001b[0;34m=\u001b[0m\u001b[0mConstant\u001b[0m\u001b[0;34m(\u001b[0m\u001b[0;34m)\u001b[0m\u001b[0;34m\u001b[0m\u001b[0;34m\u001b[0m\u001b[0m\n\u001b[1;32m     22\u001b[0m \u001b[0mprint\u001b[0m\u001b[0;34m(\u001b[0m\u001b[0mc\u001b[0m\u001b[0;34m.\u001b[0m\u001b[0mCONST\u001b[0m\u001b[0;34m)\u001b[0m\u001b[0;34m\u001b[0m\u001b[0;34m\u001b[0m\u001b[0m\n\u001b[0;32m---> 23\u001b[0;31m \u001b[0mc\u001b[0m\u001b[0;34m.\u001b[0m\u001b[0mCONST\u001b[0m\u001b[0;34m=\u001b[0m\u001b[0;36m3\u001b[0m  \u001b[0;31m# Error will appear here\u001b[0m\u001b[0;34m\u001b[0m\u001b[0;34m\u001b[0m\u001b[0m\n\u001b[0m\u001b[1;32m     24\u001b[0m \u001b[0mprint\u001b[0m\u001b[0;34m(\u001b[0m\u001b[0mc\u001b[0m\u001b[0;34m.\u001b[0m\u001b[0mCONST\u001b[0m\u001b[0;34m)\u001b[0m\u001b[0;34m\u001b[0m\u001b[0;34m\u001b[0m\u001b[0m\n\u001b[1;32m     25\u001b[0m \u001b[0;34m\u001b[0m\u001b[0m\n",
      "\u001b[0;32m<ipython-input-18-fbc41372ff79>\u001b[0m in \u001b[0;36m__set__\u001b[0;34m(self, instance, value)\u001b[0m\n\u001b[1;32m     13\u001b[0m \u001b[0;34m\u001b[0m\u001b[0m\n\u001b[1;32m     14\u001b[0m     \u001b[0;32mdef\u001b[0m \u001b[0m__set__\u001b[0m\u001b[0;34m(\u001b[0m\u001b[0mself\u001b[0m\u001b[0;34m,\u001b[0m\u001b[0minstance\u001b[0m\u001b[0;34m,\u001b[0m\u001b[0mvalue\u001b[0m\u001b[0;34m)\u001b[0m\u001b[0;34m:\u001b[0m\u001b[0;34m\u001b[0m\u001b[0;34m\u001b[0m\u001b[0m\n\u001b[0;32m---> 15\u001b[0;31m         \u001b[0;32mraise\u001b[0m \u001b[0mValueError\u001b[0m\u001b[0;34m(\u001b[0m\u001b[0;34m\"This is constant, cannot be changed!\"\u001b[0m\u001b[0;34m)\u001b[0m\u001b[0;34m\u001b[0m\u001b[0;34m\u001b[0m\u001b[0m\n\u001b[0m\u001b[1;32m     16\u001b[0m \u001b[0;34m\u001b[0m\u001b[0m\n\u001b[1;32m     17\u001b[0m \u001b[0;34m\u001b[0m\u001b[0m\n",
      "\u001b[0;31mValueError\u001b[0m: This is constant, cannot be changed!"
     ]
    }
   ],
   "source": [
    "# Demonstrating how to define a constant in Python\n",
    "# By using Python descriptors\n",
    "class Const:\n",
    "    \n",
    "    # Giving default value for const attribute\n",
    "    \n",
    "    \n",
    "    def __init__(self,const=None):\n",
    "        self.const=const\n",
    "    \n",
    "    def __get__(self,instance,owner):\n",
    "        return self.const # instance.__dict__[self.const]\n",
    "    \n",
    "    def __set__(self,instance,value):\n",
    "        # use setter but does not change value\n",
    "        raise ValueError(\"This is constant, cannot be changed!\")\n",
    "        \n",
    "        \n",
    "class Constant:\n",
    "    CONST= Const()\n",
    "\n",
    "c=Constant()\n",
    "print(c.CONST)  \n",
    "c.CONST=3  # Error will appear here\n",
    "print(c.CONST)\n",
    "\n",
    "    "
   ]
  },
  {
   "cell_type": "code",
   "execution_count": 29,
   "metadata": {},
   "outputs": [
    {
     "name": "stdout",
     "output_type": "stream",
     "text": [
      "original person: \n",
      "My name is: Phuoc and I'm 1993-10-10\n",
      "change the information:\n",
      "after changed person: \n",
      "My name is: Tuyen and I'm 1995-11-23\n",
      "Person's information is deleted!\n"
     ]
    }
   ],
   "source": [
    "from datetime import datetime, date\n",
    "\n",
    "# use getter, setter and deleter by applying property decorator\n",
    "\n",
    "\n",
    "class Person:\n",
    "    \n",
    "    def __init__(self, name, birthday):\n",
    "        self.name = name\n",
    "        self.birthday = birthday   \n",
    "    \n",
    "    # calculate the age\n",
    "    def age(self):\n",
    "        current=datetime.now()\n",
    "        return current.year - self.birthday.year - ((current.month, current.day) < (self.birthday.month, self.birthday.day))\n",
    "    \n",
    "    @property\n",
    "    def info(self):\n",
    "        return \"My name is: {} and I'm {}\".format(self.name,self.birthday.strftime(\"%Y-%m-%d\"))\n",
    "    \n",
    "    # setter\n",
    "    @info.setter\n",
    "    def info(self, value):\n",
    "        # value with format: \"name yyyy-mm-dd\"\n",
    "        print(\"change the information:\")\n",
    "        new_name, new_birthday = value.split(' ')\n",
    "        self.name = new_name\n",
    "        year, month, day = map(int, new_birthday.split('-'))\n",
    "        self.birthday = date(year, month, day)\n",
    "    \n",
    "    #deleter\n",
    "    @info.deleter\n",
    "    def info(self):\n",
    "        print(\"Person's information is deleted!\")\n",
    "        del self.name\n",
    "        del self.birthday\n",
    "    \n",
    "        \n",
    "per1 = Person(\"Phuoc\", datetime(1993, 10, 10))\n",
    "print(\"original person: \")\n",
    "print(per1.info)  # GETTER\n",
    "# change the information using setter\n",
    "per1.info = \"Tuyen 1995-11-23\"\n",
    "print(\"after changed person: \")\n",
    "print(per1.info)  # getter after change\n",
    "del per1.info  # call deleter\n"
   ]
  },
  {
   "cell_type": "code",
   "execution_count": 22,
   "metadata": {},
   "outputs": [
    {
     "name": "stdout",
     "output_type": "stream",
     "text": [
      "overriden\n",
      "overriden\n",
      "overriden\n",
      "Phuoc\n"
     ]
    },
    {
     "ename": "AttributeError",
     "evalue": "'Example' object has no attribute '__name'",
     "output_type": "error",
     "traceback": [
      "\u001b[0;31m---------------------------------------------------------------------------\u001b[0m",
      "\u001b[0;31mAttributeError\u001b[0m                            Traceback (most recent call last)",
      "\u001b[0;32m<ipython-input-22-7dc5c0108360>\u001b[0m in \u001b[0;36m<module>\u001b[0;34m\u001b[0m\n\u001b[1;32m     78\u001b[0m \u001b[0mex1\u001b[0m \u001b[0;34m=\u001b[0m \u001b[0mExample\u001b[0m\u001b[0;34m(\u001b[0m\u001b[0;34m\"Phuoc\"\u001b[0m\u001b[0;34m)\u001b[0m\u001b[0;34m\u001b[0m\u001b[0;34m\u001b[0m\u001b[0m\n\u001b[1;32m     79\u001b[0m \u001b[0mprint\u001b[0m\u001b[0;34m(\u001b[0m\u001b[0mex1\u001b[0m\u001b[0;34m.\u001b[0m\u001b[0mget_name\u001b[0m\u001b[0;34m(\u001b[0m\u001b[0;34m)\u001b[0m\u001b[0;34m)\u001b[0m  \u001b[0;31m# print Phuoc\u001b[0m\u001b[0;34m\u001b[0m\u001b[0;34m\u001b[0m\u001b[0m\n\u001b[0;32m---> 80\u001b[0;31m \u001b[0mprint\u001b[0m\u001b[0;34m(\u001b[0m\u001b[0mex1\u001b[0m\u001b[0;34m.\u001b[0m\u001b[0m__name\u001b[0m\u001b[0;34m)\u001b[0m  \u001b[0;31m# Error here: 'Example' object has no attribute '__name'\u001b[0m\u001b[0;34m\u001b[0m\u001b[0;34m\u001b[0m\u001b[0m\n\u001b[0m\u001b[1;32m     81\u001b[0m \u001b[0mprint\u001b[0m\u001b[0;34m(\u001b[0m\u001b[0mex1\u001b[0m\u001b[0;34m.\u001b[0m\u001b[0m__private\u001b[0m\u001b[0;34m(\u001b[0m\u001b[0;34m)\u001b[0m\u001b[0;34m)\u001b[0m  \u001b[0;31m# We get error here: 'Example' object has no attribute '__private'\u001b[0m\u001b[0;34m\u001b[0m\u001b[0;34m\u001b[0m\u001b[0m\n\u001b[1;32m     82\u001b[0m \u001b[0;34m\u001b[0m\u001b[0m\n",
      "\u001b[0;31mAttributeError\u001b[0m: 'Example' object has no attribute '__name'"
     ]
    }
   ],
   "source": [
    "# Underscores in Python\n",
    "# 1. Use in interpreter for storing the result of expressions\n",
    "# >>> 2+5  # Will store the result in _\n",
    "# 2. Ignoring values\n",
    "# a, _, b = (1,2,3,4,5,6,7)  # a=1, b=7, _=(2,3,4,5,6)\n",
    "# 3. Use in looping\n",
    "# >>> for _ in range(10):\n",
    "# 4. Seperating digits of numbers\n",
    "# >>> 1_000_000  # will print out 1000000\n",
    "# 5. Naming\n",
    "# 5.1. _single_pre_underscore\n",
    "# this format use for internal use. It doesn't stop use to accessing the variables\n",
    "# but it effects the names that are imported from the module\n",
    "\n",
    "class Test:\n",
    "    \n",
    "    def __init__(self,a,b):\n",
    "        self.a = a\n",
    "        self._b = b  # you can access _b from instances of Test\n",
    "    \n",
    "    # this function is invisible when you try to access it from another module where it's imported\n",
    "    # using this format: from module.py import *\n",
    "    # But you can avoid this by import it normaly: import module.py\n",
    "    # then call _private_func like this: module._private_func()\n",
    "    \n",
    "    def _private_func(self):  \n",
    "        pass\n",
    "    \n",
    "# 5.2. single_post_underscore_\n",
    "# this format use for when you want to use Python keywords as variable\n",
    "# example: get_, set_, next_, iter_,...\n",
    "\n",
    "# 5.3. __double_pre_undescore\n",
    "# this format use for the \"name mangling\"\n",
    "# It tell Python interpreter to rewrite the attributes name of subclasses to avoid naming conflicts\n",
    "# name mangling: Python interpreter alters the variable name in way that it's challenging to clash when the class is inherited\n",
    "\n",
    "class Sample:\n",
    "    \n",
    "    def __init__(self, a = 0, b = 0, c = 0):\n",
    "        self.a = a\n",
    "        self._b = b\n",
    "        self.__c = c\n",
    "\n",
    "obj1 = Sample()\n",
    "dir(obj1) \n",
    "# self.__c become _Sample__c -> name mangling => avoid the overriding of the variable in subclasses\n",
    "\n",
    "class SubClass(Sample):\n",
    "    \n",
    "    def __init__(self):\n",
    "        super().__init__(self)  # inherit __init__() from the Sample class\n",
    "        self.a = \"overriden\"\n",
    "        self._b = \"overriden\"\n",
    "        self.__c = \"overriden\"\n",
    "\n",
    "obj2 = SubClass()\n",
    "print(obj2.a)\n",
    "print(obj2._b)\n",
    "# Error here: 'SubClass' object has no attribute '__c' => the name mangling worked\n",
    "# It changes obj2.__c to _SubClass__c\n",
    "# print(obj2.__c)  \n",
    "# Now print that element using _SubClass__c\n",
    "print(obj2._SubClass__c)  # print: \"overriden\"\n",
    "\n",
    "# You can access __double_pre_underscore variables using methods or __double_pre_underscore methods in class\n",
    "\n",
    "class Example:\n",
    "    \n",
    "    def __init__(self, name=None):\n",
    "        self.__name = name\n",
    "    \n",
    "    def get_name(self):\n",
    "        return self.__name\n",
    "    \n",
    "    def __private(self):\n",
    "        return \"Hey, I'm Phuoc\"\n",
    "ex1 = Example(\"Phuoc\")\n",
    "print(ex1.get_name())  # print Phuoc\n",
    "print(ex1.__name)  # Error here: 'Example' object has no attribute '__name'\n",
    "print(ex1.__private())  # We get error here: 'Example' object has no attribute '__private'\n",
    "\n",
    "# Look at the name mangling in another way\n",
    "\n",
    "_AnotherExample__name = \"Phuoc\"\n",
    "\n",
    "class AnotherExample:\n",
    "    \n",
    "    def get_name(self):\n",
    "        return __name\n",
    "\n",
    "obj3 = AnotherExample()\n",
    "print(obj3.get_name()) # It will print the __name variable\n",
    "\n",
    "# 5.4. __double_pre_and_post_underscores__\n",
    "# In Python, you will find different names which start and end with double underscores\n",
    "# They're called magic methods or dunder methods"
   ]
  },
  {
   "cell_type": "code",
   "execution_count": null,
   "metadata": {},
   "outputs": [],
   "source": [
    "# properpy decorator to make getter and setter\n"
   ]
  }
 ],
 "metadata": {
  "kernelspec": {
   "display_name": "Python 3",
   "language": "python",
   "name": "python3"
  },
  "language_info": {
   "codemirror_mode": {
    "name": "ipython",
    "version": 3
   },
   "file_extension": ".py",
   "mimetype": "text/x-python",
   "name": "python",
   "nbconvert_exporter": "python",
   "pygments_lexer": "ipython3",
   "version": "3.7.3"
  }
 },
 "nbformat": 4,
 "nbformat_minor": 2
}
