{
 "cells": [
  {
   "cell_type": "markdown",
   "metadata": {},
   "source": [
    "Desciptor is ***an object attribute with a binding behavior***. It's a way to create managed attributes\n",
    "Managed attributes are used to protect an attribute from change or auto update\n",
    "**Python doesn't have a private variables concept**, so\n",
    "Descriptor protocol can  be considered\n",
    "as *a Pythonic way* to specify what happens when an attribute is referenced on a model. By use special methods\n",
    "Those method are `__get__(self,obj,type=None) --> value`, `__set__(self,obj,value) --> None`, `__delete__(self,obj) --> None`.\n",
    "If any of those are defined for an object, it is said to be a descriptor. In Python 2.2+\n",
    "In other programming language, descriptors are referred to setter and getter.\n",
    "let's see this code below, and image what happens"
   ]
  },
  {
   "cell_type": "code",
   "execution_count": 1,
   "metadata": {},
   "outputs": [],
   "source": [
    "from sqlalchemy import Column, Integer, String\n",
    "\n",
    "\n",
    "class User:\n",
    "    id = Column(Integer, primary_key=True)\n",
    "    name = Column(String)\n"
   ]
  },
  {
   "cell_type": "markdown",
   "metadata": {},
   "source": [
    "If you ever wonder why don't use ***`__init__()`*** method to initialize for id and\n",
    "name bind to the instances like regular classes do.\n",
    "In Python, there are three ways to access attribute a of the object obj.\n",
    "***1. `some_variable=obj.a`***\n",
    "***2. `obj.a=some_value`*** \n",
    "***3. `del obj.a`***\n",
    "Why you want to use descriptors?"
   ]
  },
  {
   "cell_type": "code",
   "execution_count": 2,
   "metadata": {},
   "outputs": [
    {
     "name": "stdout",
     "output_type": "stream",
     "text": [
      "90000\n",
      "-90000\n"
     ]
    }
   ],
   "source": [
    "# example:\n",
    "class FoodOrder:\n",
    "\n",
    "    def __init__(self,name,price,quantity):\n",
    "        self._name=name\n",
    "        self._price=price\n",
    "        self._quantity=quantity\n",
    "\n",
    "    def getTotal(self):\n",
    "        return self._price*self._quantity\n",
    "\n",
    "noodle=FoodOrder(\"Beef Noodle\",45000,2)\n",
    "print(noodle.getTotal()) # OK, print 90000 here\n",
    "# But now we try to change the atttributes\n",
    "noodle._quantity=-2 # that's ok, but in fact, that's a bug\n",
    "print(noodle.getTotal()) # -90000"
   ]
  },
  {
   "cell_type": "code",
   "execution_count": 3,
   "metadata": {},
   "outputs": [],
   "source": [
    "# Instead of using getter and setter method to enforce _quantity be positive\n",
    "class FoodOrder:\n",
    "    def __init__(self,name,price,quantity):\n",
    "        self._name=name\n",
    "        self._price=price\n",
    "        self._quantity=quantity\n",
    "\n",
    "    @property\n",
    "    def quantity(self):\n",
    "        return self._quantity\n",
    "    @quantity.setter\n",
    "    def quantity(self,value):\n",
    "        if value<0:\n",
    "            raise ValueError(\"Value must be positve\")\n",
    "        self._quantity=value\n",
    "\n",
    "tea=FoodOrder(\"Tea\",20000,2)\n",
    "# tea.quantity=-2 # will raise error here\n",
    "tea.quantity=3 # that's OK"
   ]
  },
  {
   "cell_type": "markdown",
   "metadata": {},
   "source": [
    "Actually, in this example above, price attribute can be negative, we must fix that\n",
    "But we don't want to repeat the same things we do with quantity attribute to price (***it's DRY principle***)\n",
    "So, we must use descriptors\n",
    "When you call `obj.attribute_name`, Python will cause your object to look attribute_name\n",
    "in obj. If attribute_name happens to define `__get__()`, then `attribute_name.__get__(obj)`\n",
    "will get call."
   ]
  },
  {
   "cell_type": "code",
   "execution_count": 4,
   "metadata": {},
   "outputs": [
    {
     "ename": "ValueError",
     "evalue": "Value must be positive",
     "output_type": "error",
     "traceback": [
      "\u001b[0;31m---------------------------------------------------------------------------\u001b[0m",
      "\u001b[0;31mValueError\u001b[0m                                Traceback (most recent call last)",
      "\u001b[0;32m<ipython-input-4-7658126a8811>\u001b[0m in \u001b[0;36m<module>\u001b[0;34m\u001b[0m\n\u001b[1;32m     39\u001b[0m \u001b[0mrice\u001b[0m\u001b[0;34m.\u001b[0m\u001b[0mgetTotal\u001b[0m\u001b[0;34m(\u001b[0m\u001b[0;34m)\u001b[0m  \u001b[0;31m# 90000\u001b[0m\u001b[0;34m\u001b[0m\u001b[0;34m\u001b[0m\u001b[0m\n\u001b[1;32m     40\u001b[0m \u001b[0;34m\u001b[0m\u001b[0m\n\u001b[0;32m---> 41\u001b[0;31m \u001b[0mrice\u001b[0m\u001b[0;34m.\u001b[0m\u001b[0mprice\u001b[0m \u001b[0;34m=\u001b[0m \u001b[0;34m-\u001b[0m\u001b[0;36m10000\u001b[0m  \u001b[0;31m# ValueError\u001b[0m\u001b[0;34m\u001b[0m\u001b[0;34m\u001b[0m\u001b[0m\n\u001b[0m\u001b[1;32m     42\u001b[0m \u001b[0mrice\u001b[0m\u001b[0;34m.\u001b[0m\u001b[0mquantity\u001b[0m \u001b[0;34m=\u001b[0m \u001b[0;34m-\u001b[0m\u001b[0;36m4\u001b[0m  \u001b[0;31m# ValueError\u001b[0m\u001b[0;34m\u001b[0m\u001b[0;34m\u001b[0m\u001b[0m\n",
      "\u001b[0;32m<ipython-input-4-7658126a8811>\u001b[0m in \u001b[0;36m__set__\u001b[0;34m(self, instance, value)\u001b[0m\n\u001b[1;32m     10\u001b[0m     \u001b[0;32mdef\u001b[0m \u001b[0m__set__\u001b[0m\u001b[0;34m(\u001b[0m\u001b[0mself\u001b[0m\u001b[0;34m,\u001b[0m \u001b[0minstance\u001b[0m\u001b[0;34m,\u001b[0m \u001b[0mvalue\u001b[0m\u001b[0;34m)\u001b[0m\u001b[0;34m:\u001b[0m\u001b[0;34m\u001b[0m\u001b[0;34m\u001b[0m\u001b[0m\n\u001b[1;32m     11\u001b[0m         \u001b[0;32mif\u001b[0m \u001b[0mvalue\u001b[0m \u001b[0;34m<\u001b[0m \u001b[0;36m0\u001b[0m\u001b[0;34m:\u001b[0m\u001b[0;34m\u001b[0m\u001b[0;34m\u001b[0m\u001b[0m\n\u001b[0;32m---> 12\u001b[0;31m             \u001b[0;32mraise\u001b[0m \u001b[0mValueError\u001b[0m\u001b[0;34m(\u001b[0m\u001b[0;34m\"Value must be positive\"\u001b[0m\u001b[0;34m)\u001b[0m\u001b[0;34m\u001b[0m\u001b[0;34m\u001b[0m\u001b[0m\n\u001b[0m\u001b[1;32m     13\u001b[0m         \u001b[0minstance\u001b[0m\u001b[0;34m.\u001b[0m\u001b[0m__dict__\u001b[0m\u001b[0;34m[\u001b[0m\u001b[0mself\u001b[0m\u001b[0;34m.\u001b[0m\u001b[0mname\u001b[0m\u001b[0;34m]\u001b[0m \u001b[0;34m=\u001b[0m \u001b[0mvalue\u001b[0m\u001b[0;34m\u001b[0m\u001b[0;34m\u001b[0m\u001b[0m\n\u001b[1;32m     14\u001b[0m \u001b[0;34m\u001b[0m\u001b[0m\n",
      "\u001b[0;31mValueError\u001b[0m: Value must be positive"
     ]
    }
   ],
   "source": [
    "class NonNegative:\n",
    "    # If use __set_name(self,owner,name), we need to remove __init__()\n",
    "\n",
    "    def __init__(self, name):\n",
    "        self.name = name\n",
    "\n",
    "    def __get__(self, instance, owner):\n",
    "        return instance.__dict__[self.name]\n",
    "\n",
    "    def __set__(self, instance, value):\n",
    "        if value < 0:\n",
    "            raise ValueError(\"Value must be positive\")\n",
    "        instance.__dict__[self.name] = value\n",
    "\n",
    "    # in Python 3.6+. We use new API obj.__set_name(self,owner,name) like below\n",
    "    # And does not need __init__() method\n",
    "\n",
    "    # def __set_name__(self, name):\n",
    "    #     self.name = name\n",
    "\n",
    "\n",
    "class FoodOrder():\n",
    "    price = NonNegative('price')\n",
    "    quantity = NonNegative('quantity')\n",
    "    # If use __set_name__, it'll look like below\n",
    "    # price = NonNegative()\n",
    "    # quantity = NonNegative()\n",
    "\n",
    "    def __init__(self, name, price, quantity):\n",
    "        self._name = name\n",
    "        self.price = price\n",
    "        self.quantity = quantity\n",
    "\n",
    "    def getTotal(self):\n",
    "        return self.price * self.quantity\n",
    "\n",
    "\n",
    "rice = FoodOrder('rice', 30000, 3)\n",
    "rice.getTotal()  # 90000\n",
    "\n",
    "rice.price = -10000  # ValueError\n",
    "rice.quantity = -4  # ValueError"
   ]
  }
 ],
 "metadata": {
  "kernelspec": {
   "display_name": "Python 3",
   "language": "python",
   "name": "python3"
  },
  "language_info": {
   "codemirror_mode": {
    "name": "ipython",
    "version": 3
   },
   "file_extension": ".py",
   "mimetype": "text/x-python",
   "name": "python",
   "nbconvert_exporter": "python",
   "pygments_lexer": "ipython3",
   "version": "3.8.5"
  },
  "latex_envs": {
   "LaTeX_envs_menu_present": true,
   "autoclose": false,
   "autocomplete": true,
   "bibliofile": "biblio.bib",
   "cite_by": "apalike",
   "current_citInitial": 1,
   "eqLabelWithNumbers": true,
   "eqNumInitial": 1,
   "hotkeys": {
    "equation": "Ctrl-E",
    "itemize": "Ctrl-I"
   },
   "labels_anchors": false,
   "latex_user_defs": false,
   "report_style_numbering": false,
   "user_envs_cfg": false
  }
 },
 "nbformat": 4,
 "nbformat_minor": 2
}
