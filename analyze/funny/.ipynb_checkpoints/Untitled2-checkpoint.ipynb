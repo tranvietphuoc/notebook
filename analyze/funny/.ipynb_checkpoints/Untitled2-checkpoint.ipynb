{
 "cells": [
  {
   "cell_type": "code",
   "execution_count": 1,
   "id": "3919e1c5-543a-4864-be46-bc170db0f62b",
   "metadata": {},
   "outputs": [
    {
     "name": "stdout",
     "output_type": "stream",
     "text": [
      "Requirement already satisfied: openpyxl in /opt/conda/lib/python3.9/site-packages (3.0.10)\n",
      "Requirement already satisfied: et-xmlfile in /opt/conda/lib/python3.9/site-packages (from openpyxl) (1.1.0)\n"
     ]
    }
   ],
   "source": [
    "!pip install openpyxl"
   ]
  },
  {
   "cell_type": "code",
   "execution_count": 2,
   "id": "d3de9b9a-5d9f-4efe-ae1d-1a2d2e06f75b",
   "metadata": {},
   "outputs": [],
   "source": [
    "import glob\n",
    "import pandas as pd\n",
    "import numpy as np\n",
    "import re\n",
    "import os\n",
    "from sklearn.utils import shuffle"
   ]
  },
  {
   "cell_type": "code",
   "execution_count": 3,
   "id": "1ca533f3-7fe5-4b92-b14a-c7a2575989f7",
   "metadata": {},
   "outputs": [],
   "source": [
    "os.chdir('new-data/new-outcome')"
   ]
  },
  {
   "cell_type": "code",
   "execution_count": 4,
   "id": "74958607-986c-4c42-b282-3cb1487648ee",
   "metadata": {},
   "outputs": [
    {
     "data": {
      "text/plain": [
       "['data-00.xlsx',\n",
       " 'data-01.xlsx',\n",
       " 'data-02.xlsx',\n",
       " 'data-03.xlsx',\n",
       " 'data-04.xlsx',\n",
       " 'data-05.xlsx',\n",
       " 'data-06.xlsx',\n",
       " 'data-07.xlsx',\n",
       " 'data-08.xlsx',\n",
       " 'data-09.xlsx',\n",
       " 'data-10.xlsx',\n",
       " 'data-11.xlsx',\n",
       " 'data-12.xlsx',\n",
       " 'data-13.xlsx',\n",
       " 'data-14.xlsx',\n",
       " 'data-15.xlsx',\n",
       " 'data-16.xlsx',\n",
       " 'data-17.xlsx',\n",
       " 'data-18.xlsx',\n",
       " 'data-19.xlsx',\n",
       " 'data-20.xlsx',\n",
       " 'data-21.xlsx',\n",
       " 'data-22.xlsx',\n",
       " 'data-23.xlsx',\n",
       " 'data-24.xlsx',\n",
       " 'data-25.xlsx',\n",
       " 'data-26.xlsx',\n",
       " 'data-27.xlsx',\n",
       " 'data-28.xlsx',\n",
       " 'data-29.xlsx',\n",
       " 'data-30.xlsx',\n",
       " 'data-31.xlsx',\n",
       " 'data-32.xlsx',\n",
       " 'data-33.xlsx',\n",
       " 'data-34.xlsx',\n",
       " 'data-35.xlsx',\n",
       " 'data-36.xlsx',\n",
       " 'data-37.xlsx',\n",
       " 'data-38.xlsx',\n",
       " 'data-39.xlsx',\n",
       " 'data-40.xlsx',\n",
       " 'data-41.xlsx',\n",
       " 'data-42.xlsx',\n",
       " 'data-43.xlsx',\n",
       " 'data-44.xlsx',\n",
       " 'data-45.xlsx',\n",
       " 'data-46.xlsx',\n",
       " 'data-47.xlsx',\n",
       " 'data-48.xlsx',\n",
       " 'data-49.xlsx',\n",
       " 'data-50.xlsx',\n",
       " 'data-51.xlsx',\n",
       " 'data-52.xlsx',\n",
       " 'data-53.xlsx',\n",
       " 'data-54.xlsx',\n",
       " 'data-55.xlsx',\n",
       " 'data-56.xlsx',\n",
       " 'data-57.xlsx',\n",
       " 'data-58.xlsx',\n",
       " 'data-59.xlsx',\n",
       " 'data-60.xlsx',\n",
       " 'data-61.xlsx',\n",
       " 'data-62.xlsx',\n",
       " 'data-63.xlsx',\n",
       " 'data-64.xlsx',\n",
       " 'data-65.xlsx',\n",
       " 'data-66.xlsx',\n",
       " 'data-67.xlsx',\n",
       " 'data-68.xlsx',\n",
       " 'data-69.xlsx',\n",
       " 'data-70.xlsx',\n",
       " 'data-71.xlsx',\n",
       " 'data-72.xlsx',\n",
       " 'data-73.xlsx',\n",
       " 'data-74.xlsx',\n",
       " 'data-75.xlsx',\n",
       " 'data-76.xlsx',\n",
       " 'data-77.xlsx',\n",
       " 'data-78.xlsx',\n",
       " 'data-79.xlsx']"
      ]
     },
     "execution_count": 4,
     "metadata": {},
     "output_type": "execute_result"
    }
   ],
   "source": [
    "files = [f for f in glob.glob('data-*.xlsx')]\n",
    "files"
   ]
  },
  {
   "cell_type": "code",
   "execution_count": 15,
   "id": "6ffc548b-3445-48fc-acd9-b07282afa2a1",
   "metadata": {},
   "outputs": [],
   "source": [
    "# files.remove('data-00.xlsx')\n",
    "# files.remove('data-01.xlsx')\n",
    "# files"
   ]
  },
  {
   "cell_type": "code",
   "execution_count": 9,
   "id": "ef7c4640-0f49-4aae-8e47-88e69d00ba8c",
   "metadata": {},
   "outputs": [],
   "source": [
    "data = [pd.read_excel(file, converters={'To Contact': str}) for file in files]  # read excel do not parse number\n",
    "\n"
   ]
  },
  {
   "cell_type": "code",
   "execution_count": null,
   "id": "20842097-f1ed-4ab4-9e61-9f84fde84e84",
   "metadata": {},
   "outputs": [],
   "source": []
  },
  {
   "cell_type": "code",
   "execution_count": 10,
   "id": "2eae64f5-f22d-4304-aa4e-eba485c70c1e",
   "metadata": {},
   "outputs": [],
   "source": [
    "data = [shuffle(df) for df in data]"
   ]
  },
  {
   "cell_type": "code",
   "execution_count": 11,
   "id": "5d851fe0-201f-4ce9-b03c-cf6ec081dfcd",
   "metadata": {},
   "outputs": [
    {
     "data": {
      "text/html": [
       "<div>\n",
       "<style scoped>\n",
       "    .dataframe tbody tr th:only-of-type {\n",
       "        vertical-align: middle;\n",
       "    }\n",
       "\n",
       "    .dataframe tbody tr th {\n",
       "        vertical-align: top;\n",
       "    }\n",
       "\n",
       "    .dataframe thead th {\n",
       "        text-align: right;\n",
       "    }\n",
       "</style>\n",
       "<table border=\"1\" class=\"dataframe\">\n",
       "  <thead>\n",
       "    <tr style=\"text-align: right;\">\n",
       "      <th></th>\n",
       "      <th>To Name</th>\n",
       "      <th>To Contact</th>\n",
       "      <th>To Address</th>\n",
       "      <th>To Province</th>\n",
       "      <th>To District</th>\n",
       "      <th>sent</th>\n",
       "      <th>ISP</th>\n",
       "    </tr>\n",
       "  </thead>\n",
       "  <tbody>\n",
       "    <tr>\n",
       "      <th>4504</th>\n",
       "      <td>Tào Thu</td>\n",
       "      <td>0853168816</td>\n",
       "      <td>Cho e 1 đôi này size 35 Sđt 0853168816 Thôn gi...</td>\n",
       "      <td>Thanh Hóa</td>\n",
       "      <td>Huyện Bá Thước</td>\n",
       "      <td>False</td>\n",
       "      <td>Vinaphone</td>\n",
       "    </tr>\n",
       "    <tr>\n",
       "      <th>7709</th>\n",
       "      <td>Yu Miu</td>\n",
       "      <td>0336705687</td>\n",
       "      <td>47 Âu Cơ  , Xã Lộc Nga , Thành Phố Bảo Lộc , L...</td>\n",
       "      <td>Lâm Đồng</td>\n",
       "      <td>NaN</td>\n",
       "      <td>False</td>\n",
       "      <td>Viettel</td>\n",
       "    </tr>\n",
       "    <tr>\n",
       "      <th>16</th>\n",
       "      <td>NTD- Chị Thu</td>\n",
       "      <td>0926651631</td>\n",
       "      <td>23 Đường Suối Nhum - Phường Linh Xuân, Thành p...</td>\n",
       "      <td>Hồ Chí Minh</td>\n",
       "      <td>Thành phố Thủ Đức</td>\n",
       "      <td>False</td>\n",
       "      <td>Vietnammobile</td>\n",
       "    </tr>\n",
       "    <tr>\n",
       "      <th>6428</th>\n",
       "      <td>Mạnh Hà</td>\n",
       "      <td>0862176226</td>\n",
       "      <td>khu vui chơi victory ql 37b tây vinh  , Xã Yên...</td>\n",
       "      <td>Nam Định</td>\n",
       "      <td>NaN</td>\n",
       "      <td>False</td>\n",
       "      <td>Viettel</td>\n",
       "    </tr>\n",
       "    <tr>\n",
       "      <th>10899</th>\n",
       "      <td>Nguyễn Hoàng Thùy Lâm</td>\n",
       "      <td>0763725149</td>\n",
       "      <td>Công Viên Diên Hồng, Đường Tản Đà,Phường 1  , ...</td>\n",
       "      <td>Phú Yên</td>\n",
       "      <td>NaN</td>\n",
       "      <td>False</td>\n",
       "      <td>Mobifone</td>\n",
       "    </tr>\n",
       "  </tbody>\n",
       "</table>\n",
       "</div>"
      ],
      "text/plain": [
       "                     To Name  To Contact  \\\n",
       "4504                 Tào Thu  0853168816   \n",
       "7709                  Yu Miu  0336705687   \n",
       "16              NTD- Chị Thu  0926651631   \n",
       "6428                 Mạnh Hà  0862176226   \n",
       "10899  Nguyễn Hoàng Thùy Lâm  0763725149   \n",
       "\n",
       "                                              To Address  To Province  \\\n",
       "4504   Cho e 1 đôi này size 35 Sđt 0853168816 Thôn gi...    Thanh Hóa   \n",
       "7709   47 Âu Cơ  , Xã Lộc Nga , Thành Phố Bảo Lộc , L...     Lâm Đồng   \n",
       "16     23 Đường Suối Nhum - Phường Linh Xuân, Thành p...  Hồ Chí Minh   \n",
       "6428   khu vui chơi victory ql 37b tây vinh  , Xã Yên...     Nam Định   \n",
       "10899  Công Viên Diên Hồng, Đường Tản Đà,Phường 1  , ...      Phú Yên   \n",
       "\n",
       "             To District   sent            ISP  \n",
       "4504      Huyện Bá Thước  False      Vinaphone  \n",
       "7709                 NaN  False        Viettel  \n",
       "16     Thành phố Thủ Đức  False  Vietnammobile  \n",
       "6428                 NaN  False        Viettel  \n",
       "10899                NaN  False       Mobifone  "
      ]
     },
     "execution_count": 11,
     "metadata": {},
     "output_type": "execute_result"
    }
   ],
   "source": [
    "data[1].head()"
   ]
  },
  {
   "cell_type": "code",
   "execution_count": 12,
   "id": "4d50feac-0424-4917-8cd7-711fcf43a711",
   "metadata": {},
   "outputs": [],
   "source": [
    "i = 0\n",
    "for df in data:\n",
    "    df.to_excel('data-shuffle-{:02d}.xlsx'.format(i), index=False)\n",
    "    i += 1"
   ]
  },
  {
   "cell_type": "code",
   "execution_count": null,
   "id": "0b888727-080a-4b1c-ac2a-76d31cb504c6",
   "metadata": {},
   "outputs": [],
   "source": []
  },
  {
   "cell_type": "code",
   "execution_count": null,
   "id": "fccce226-7d69-4d2c-a8ed-9cf880f672f9",
   "metadata": {},
   "outputs": [],
   "source": []
  }
 ],
 "metadata": {
  "kernelspec": {
   "display_name": "Python 3 (ipykernel)",
   "language": "python",
   "name": "python3"
  },
  "language_info": {
   "codemirror_mode": {
    "name": "ipython",
    "version": 3
   },
   "file_extension": ".py",
   "mimetype": "text/x-python",
   "name": "python",
   "nbconvert_exporter": "python",
   "pygments_lexer": "ipython3",
   "version": "3.9.7"
  }
 },
 "nbformat": 4,
 "nbformat_minor": 5
}
