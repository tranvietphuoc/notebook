{
 "cells": [
  {
   "cell_type": "code",
   "execution_count": 2,
   "id": "chemical-sculpture",
   "metadata": {},
   "outputs": [
    {
     "data": {
      "text/plain": [
       "['__class__',\n",
       " '__contains__',\n",
       " '__copy__',\n",
       " '__delattr__',\n",
       " '__delitem__',\n",
       " '__dir__',\n",
       " '__doc__',\n",
       " '__eq__',\n",
       " '__format__',\n",
       " '__ge__',\n",
       " '__getattribute__',\n",
       " '__getitem__',\n",
       " '__gt__',\n",
       " '__hash__',\n",
       " '__init__',\n",
       " '__init_subclass__',\n",
       " '__iter__',\n",
       " '__le__',\n",
       " '__len__',\n",
       " '__lt__',\n",
       " '__missing__',\n",
       " '__ne__',\n",
       " '__new__',\n",
       " '__reduce__',\n",
       " '__reduce_ex__',\n",
       " '__repr__',\n",
       " '__reversed__',\n",
       " '__setattr__',\n",
       " '__setitem__',\n",
       " '__sizeof__',\n",
       " '__str__',\n",
       " '__subclasshook__',\n",
       " 'clear',\n",
       " 'copy',\n",
       " 'default_factory',\n",
       " 'fromkeys',\n",
       " 'get',\n",
       " 'items',\n",
       " 'keys',\n",
       " 'pop',\n",
       " 'popitem',\n",
       " 'setdefault',\n",
       " 'update',\n",
       " 'values']"
      ]
     },
     "execution_count": 2,
     "metadata": {},
     "output_type": "execute_result"
    }
   ],
   "source": [
    "from collections import defaultdict\n",
    "\n",
    "dir(defaultdict)"
   ]
  },
  {
   "cell_type": "code",
   "execution_count": 6,
   "id": "sustained-disposition",
   "metadata": {},
   "outputs": [
    {
     "name": "stdin",
     "output_type": "stream",
     "text": [
      " 2 3\n",
      " a\n",
      " b\n",
      " a\n"
     ]
    },
    {
     "name": "stdout",
     "output_type": "stream",
     "text": [
      "1\n"
     ]
    },
    {
     "name": "stdin",
     "output_type": "stream",
     "text": [
      " a\n"
     ]
    },
    {
     "name": "stdout",
     "output_type": "stream",
     "text": [
      "1\n"
     ]
    },
    {
     "name": "stdin",
     "output_type": "stream",
     "text": [
      " q\n"
     ]
    },
    {
     "name": "stdout",
     "output_type": "stream",
     "text": [
      "-1\n"
     ]
    }
   ],
   "source": [
    "dd = defaultdict(list)\n",
    "n, m = map(int, input().strip().split())\n",
    "\n",
    "for i in range(1, n+1):\n",
    "    word = input()\n",
    "    dd[word].append(str(i))\n",
    "    \n",
    "for i in range(m):\n",
    "    word = input()\n",
    "    print(\" \".join(dd[word]) or -1)"
   ]
  },
  {
   "cell_type": "code",
   "execution_count": 7,
   "id": "cleared-insured",
   "metadata": {},
   "outputs": [
    {
     "data": {
      "text/plain": [
       "defaultdict(int, {'m': 2, 'i': 6, 's': 18, 'a': 2, 'd': 6})"
      ]
     },
     "execution_count": 7,
     "metadata": {},
     "output_type": "execute_result"
    }
   ],
   "source": [
    "# count letters in string\n",
    "s = 'misssisssasssiddd'\n",
    "dd_i = defaultdict(int)\n",
    "for letter in s:\n",
    "    dd_i[letter] += i\n",
    "dd_i"
   ]
  },
  {
   "cell_type": "code",
   "execution_count": 8,
   "id": "bulgarian-spending",
   "metadata": {},
   "outputs": [
    {
     "data": {
      "text/plain": [
       "defaultdict(list,\n",
       "            {'Sales': ['John Doe', 'Martin Smith'],\n",
       "             'Accounting': ['Jane Doe'],\n",
       "             'Marketing': ['Elizabeth Smith'],\n",
       "             'Internal Audit': ['Ng Hoai Diem Tram'],\n",
       "             'Tech': ['Pham Ng Xuan Hoa'],\n",
       "             'Data Analyst': ['Tran Viet Phuoc']})"
      ]
     },
     "execution_count": 8,
     "metadata": {},
     "output_type": "execute_result"
    }
   ],
   "source": [
    "# defaultdict for grouping items\n",
    "dd_l = defaultdict(list)\n",
    "dep = [\n",
    "    (\"Sales\", \"John Doe\"),\n",
    "    (\"Sales\", \"Martin Smith\"),\n",
    "    (\"Accounting\", \"Jane Doe\"),\n",
    "    (\"Marketing\", \"Elizabeth Smith\"),\n",
    "    (\"Internal Audit\", \"Ng Hoai Diem Tram\"),\n",
    "    (\"Tech\", \"Pham Ng Xuan Hoa\"),\n",
    "    (\"Data Analyst\", \"Tran Viet Phuoc\"),\n",
    "]\n",
    "for department, employee in dep:\n",
    "    dd_l[department].append(employee)\n",
    "\n",
    "dd_l"
   ]
  },
  {
   "cell_type": "code",
   "execution_count": 9,
   "id": "smart-scoop",
   "metadata": {},
   "outputs": [
    {
     "name": "stdout",
     "output_type": "stream",
     "text": [
      "total income for: Books: $3,970.00\n",
      "total income for: Tutorials: $1,940.00\n",
      "total income for: Courses: $7,680.00\n"
     ]
    }
   ],
   "source": [
    "# defaultdict for accumulating values\n",
    "incomes = [\n",
    "    (\"Books\", 1250.00),\n",
    "    (\"Books\", 1300.00),\n",
    "    (\"Books\", 1420.00),\n",
    "    (\"Tutorials\", 560.00),\n",
    "    (\"Tutorials\", 630.00),\n",
    "    (\"Tutorials\", 750.00),\n",
    "    (\"Courses\", 2500.00),\n",
    "    (\"Courses\", 2430.00),\n",
    "    (\"Courses\", 2750.00),\n",
    "]\n",
    "dd_f = defaultdict(float)\n",
    "for product, income in incomes:\n",
    "    dd_f[product] += income\n",
    "\n",
    "for product, income in dd_f.items():\n",
    "    print(f'total income for: {product}: ${income:,.2f}')"
   ]
  },
  {
   "cell_type": "code",
   "execution_count": null,
   "id": "average-greeting",
   "metadata": {},
   "outputs": [],
   "source": []
  }
 ],
 "metadata": {
  "kernelspec": {
   "display_name": "Python 3",
   "language": "python",
   "name": "python3"
  },
  "language_info": {
   "codemirror_mode": {
    "name": "ipython",
    "version": 3
   },
   "file_extension": ".py",
   "mimetype": "text/x-python",
   "name": "python",
   "nbconvert_exporter": "python",
   "pygments_lexer": "ipython3",
   "version": "3.8.5"
  }
 },
 "nbformat": 4,
 "nbformat_minor": 5
}
