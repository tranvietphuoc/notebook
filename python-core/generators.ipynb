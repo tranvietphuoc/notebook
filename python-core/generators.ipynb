{
 "cells": [
  {
   "cell_type": "markdown",
   "metadata": {},
   "source": [
    "# Generator\n",
    "### Generator is an important concept in Python programming\n",
    "### Generator functions allow you to declare a function that behaves like  an iterator, i.e it can be used in a for loop\n",
    "###  To understand what is generator and its usefull, we need to know what is Iterable.\n",
    "* ***Iterable objects is one that can create Iterators that can traverses or loop through each element in Collections or Sequences that supports either Iteration Protocol and Sequence Protocol.***\n",
    "\n",
    "### So, what is Iterators?\n",
    "* ***Iterators provide a way to access the elements of a Collection or Sequence sequentially without exposing its underlying representation, in other words, it just returns each element of a collection sequentially, if the object has a `__next__()` method attached to it, it is an iterator***\n",
    "\n"
   ]
  },
  {
   "cell_type": "code",
   "execution_count": 1,
   "metadata": {},
   "outputs": [
    {
     "name": "stdout",
     "output_type": "stream",
     "text": [
      "1\n",
      "2\n",
      "3\n",
      "1\n",
      "2\n",
      "3\n",
      "one\n",
      "two\n",
      "1\n",
      "2\n",
      "3\n"
     ]
    },
    {
     "ename": "FileNotFoundError",
     "evalue": "[Errno 2] No such file or directory: 'myfile.txt'",
     "output_type": "error",
     "traceback": [
      "\u001b[0;31m---------------------------------------------------------------------------\u001b[0m",
      "\u001b[0;31mFileNotFoundError\u001b[0m                         Traceback (most recent call last)",
      "\u001b[0;32m<ipython-input-1-cec1e2a70124>\u001b[0m in \u001b[0;36m<module>\u001b[0;34m\u001b[0m\n\u001b[1;32m      7\u001b[0m \u001b[0;32mfor\u001b[0m \u001b[0mchar\u001b[0m \u001b[0;32min\u001b[0m \u001b[0;34m\"123\"\u001b[0m\u001b[0;34m:\u001b[0m\u001b[0;34m\u001b[0m\u001b[0;34m\u001b[0m\u001b[0m\n\u001b[1;32m      8\u001b[0m     \u001b[0mprint\u001b[0m\u001b[0;34m(\u001b[0m\u001b[0mchar\u001b[0m\u001b[0;34m)\u001b[0m\u001b[0;34m\u001b[0m\u001b[0;34m\u001b[0m\u001b[0m\n\u001b[0;32m----> 9\u001b[0;31m \u001b[0;32mfor\u001b[0m \u001b[0mline\u001b[0m \u001b[0;32min\u001b[0m \u001b[0mopen\u001b[0m\u001b[0;34m(\u001b[0m\u001b[0;34m\"myfile.txt\"\u001b[0m\u001b[0;34m)\u001b[0m\u001b[0;34m:\u001b[0m\u001b[0;34m\u001b[0m\u001b[0;34m\u001b[0m\u001b[0m\n\u001b[0m\u001b[1;32m     10\u001b[0m     \u001b[0mprint\u001b[0m\u001b[0;34m(\u001b[0m\u001b[0mline\u001b[0m\u001b[0;34m,\u001b[0m \u001b[0mend\u001b[0m\u001b[0;34m=\u001b[0m\u001b[0;34m''\u001b[0m\u001b[0;34m)\u001b[0m\u001b[0;34m\u001b[0m\u001b[0;34m\u001b[0m\u001b[0m\n",
      "\u001b[0;31mFileNotFoundError\u001b[0m: [Errno 2] No such file or directory: 'myfile.txt'"
     ]
    }
   ],
   "source": [
    "\n",
    "for element in [1, 2, 3]:\n",
    "    print(element)\n",
    "for element in (1, 2, 3):\n",
    "    print(element)\n",
    "for key in {'one':1, 'two':2}:\n",
    "    print(key)\n",
    "for char in \"123\":\n",
    "    print(char)\n",
    "for line in open(\"myfile.txt\"):\n",
    "    print(line, end='')"
   ]
  },
  {
   "cell_type": "markdown",
   "metadata": {},
   "source": [
    "**Behind the scenes, for statement call iter() on container object, the function return an iterator object that defines method `__next__()`, which are accesses elements in the container one at a time. When there are no more elements, `__next__()` raises a `StopIteration` exception which tells the for loop to terminate.**\n",
    "*You can call `__next__()` by use built-in function `next()`. This's called *iterator protocol**"
   ]
  },
  {
   "cell_type": "code",
   "execution_count": 12,
   "metadata": {},
   "outputs": [
    {
     "name": "stdout",
     "output_type": "stream",
     "text": [
      "<str_iterator object at 0x7fd047a63fd0>\n",
      "a\n",
      "b\n",
      "c\n"
     ]
    },
    {
     "ename": "StopIteration",
     "evalue": "",
     "output_type": "error",
     "traceback": [
      "\u001b[0;31m---------------------------------------------------------------------------\u001b[0m",
      "\u001b[0;31mStopIteration\u001b[0m                             Traceback (most recent call last)",
      "\u001b[0;32m<ipython-input-12-1815e440cf86>\u001b[0m in \u001b[0;36m<module>\u001b[0;34m\u001b[0m\n\u001b[1;32m      5\u001b[0m \u001b[0mprint\u001b[0m\u001b[0;34m(\u001b[0m\u001b[0mnext\u001b[0m\u001b[0;34m(\u001b[0m\u001b[0mit\u001b[0m\u001b[0;34m)\u001b[0m\u001b[0;34m)\u001b[0m  \u001b[0;31m# will print b\u001b[0m\u001b[0;34m\u001b[0m\u001b[0;34m\u001b[0m\u001b[0m\n\u001b[1;32m      6\u001b[0m \u001b[0mprint\u001b[0m\u001b[0;34m(\u001b[0m\u001b[0mnext\u001b[0m\u001b[0;34m(\u001b[0m\u001b[0mit\u001b[0m\u001b[0;34m)\u001b[0m\u001b[0;34m)\u001b[0m  \u001b[0;31m# will print c\u001b[0m\u001b[0;34m\u001b[0m\u001b[0;34m\u001b[0m\u001b[0m\n\u001b[0;32m----> 7\u001b[0;31m \u001b[0mprint\u001b[0m\u001b[0;34m(\u001b[0m\u001b[0mnext\u001b[0m\u001b[0;34m(\u001b[0m\u001b[0mit\u001b[0m\u001b[0;34m)\u001b[0m\u001b[0;34m)\u001b[0m  \u001b[0;31m# will raise StopIteration exception\u001b[0m\u001b[0;34m\u001b[0m\u001b[0;34m\u001b[0m\u001b[0m\n\u001b[0m",
      "\u001b[0;31mStopIteration\u001b[0m: "
     ]
    }
   ],
   "source": [
    "s='abc'\n",
    "it=iter(s) \n",
    "print(it)  # will print  <str_iterator object at 0x105fd0850>\n",
    "print(next(it))  # will print a\n",
    "print(next(it))  # will print b\n",
    "print(next(it))  # will print c\n",
    "print(next(it))  # will raise StopIteration exception\n"
   ]
  },
  {
   "cell_type": "markdown",
   "metadata": {},
   "source": [
    "**Let's start to explore this example**\n"
   ]
  },
  {
   "cell_type": "code",
   "execution_count": 3,
   "metadata": {},
   "outputs": [
    {
     "name": "stdout",
     "output_type": "stream",
     "text": [
      "1\n",
      "2\n",
      "3\n",
      "4\n",
      "5\n",
      "  1           0 SETUP_LOOP              20 (to 22)\n",
      "              2 LOAD_NAME                0 (l)\n",
      "              4 GET_ITER\n",
      "        >>    6 FOR_ITER                12 (to 20)\n",
      "              8 STORE_NAME               1 (each)\n",
      "             10 LOAD_NAME                2 (print)\n",
      "             12 LOAD_NAME                1 (each)\n",
      "             14 CALL_FUNCTION            1\n",
      "             16 POP_TOP\n",
      "             18 JUMP_ABSOLUTE            6\n",
      "        >>   20 POP_BLOCK\n",
      "        >>   22 LOAD_CONST               0 (None)\n",
      "             24 RETURN_VALUE\n",
      "None\n"
     ]
    }
   ],
   "source": [
    "import dis\n",
    "\n",
    "l = [1, 2, 3, 4, 5]\n",
    "for each in l:\n",
    "    print(each)\n",
    "    \n",
    "print(dis.dis('for each in l: print(each)'))"
   ]
  },
  {
   "cell_type": "markdown",
   "metadata": {},
   "source": [
    "**As can be seen in the disassembly of the Python code \n",
    "`print(dis.dis('for each in list: print(each)')`, the for statement \n",
    "makes a call `GET_ITER` method `iter(each)` thus creating an iterator\n",
    "than can now be invoked `FOR_ITER` equivalent to `next()` and will return the results.**"
   ]
  },
  {
   "cell_type": "markdown",
   "metadata": {},
   "source": [
    "**in Python, we can create an Iterable object by call two protocols, the fist\n",
    "is the Iteration (`__iter__()` method)), and the second is the Sequence\n",
    "(`__getitem__()`)**\\\n",
    "for example:"
   ]
  },
  {
   "cell_type": "code",
   "execution_count": 10,
   "metadata": {},
   "outputs": [
    {
     "ename": "TypeError",
     "evalue": "yrange() takes no arguments",
     "output_type": "error",
     "traceback": [
      "\u001b[0;31m---------------------------------------------------------------------------\u001b[0m",
      "\u001b[0;31mTypeError\u001b[0m                                 Traceback (most recent call last)",
      "\u001b[0;32m<ipython-input-10-a01b1595fe2f>\u001b[0m in \u001b[0;36m<module>\u001b[0;34m\u001b[0m\n\u001b[1;32m     15\u001b[0m                \u001b[0;32mraise\u001b[0m \u001b[0mStopIteration\u001b[0m\u001b[0;34m(\u001b[0m\u001b[0;34m)\u001b[0m\u001b[0;34m\u001b[0m\u001b[0;34m\u001b[0m\u001b[0m\n\u001b[1;32m     16\u001b[0m \u001b[0;34m\u001b[0m\u001b[0m\n\u001b[0;32m---> 17\u001b[0;31m \u001b[0my\u001b[0m \u001b[0;34m=\u001b[0m \u001b[0myrange\u001b[0m\u001b[0;34m(\u001b[0m\u001b[0;36m2\u001b[0m\u001b[0;34m)\u001b[0m\u001b[0;34m\u001b[0m\u001b[0;34m\u001b[0m\u001b[0m\n\u001b[0m\u001b[1;32m     18\u001b[0m \u001b[0my\u001b[0m\u001b[0;34m.\u001b[0m\u001b[0m__next__\u001b[0m\u001b[0;34m(\u001b[0m\u001b[0;34m)\u001b[0m \u001b[0;31m#0\u001b[0m\u001b[0;34m\u001b[0m\u001b[0;34m\u001b[0m\u001b[0m\n\u001b[1;32m     19\u001b[0m \u001b[0my\u001b[0m\u001b[0;34m.\u001b[0m\u001b[0m__next__\u001b[0m\u001b[0;34m(\u001b[0m\u001b[0;34m)\u001b[0m \u001b[0;31m#1\u001b[0m\u001b[0;34m\u001b[0m\u001b[0;34m\u001b[0m\u001b[0m\n",
      "\u001b[0;31mTypeError\u001b[0m: yrange() takes no arguments"
     ]
    }
   ],
   "source": [
    "class yrange:\n",
    "     def __inti__(self, n):\n",
    "          self.n = n\n",
    "          self.i = 0\n",
    "     \n",
    "     def __iter__(self):\n",
    "          return self\n",
    "     \n",
    "     def __next__(self):\n",
    "          if self.i < self.n:\n",
    "               i = self.i\n",
    "               self.i += 1\n",
    "               return i\n",
    "          else:\n",
    "               raise StopIteration()\n",
    "            \n",
    "y = yrange(2)\n",
    "y.__next__()  # 0\n",
    "y.__next__()  # 1\n",
    "y.__next__()  # StopIteration error\n"
   ]
  },
  {
   "cell_type": "markdown",
   "metadata": {},
   "source": [
    "### Iterator can traverse only once\n",
    "* Generator is functions that use one or more `yield` statement to return something whenever generator is called, it returns the generator object when `__next__` method is called, generator will run still it meet a `yield` statement."
   ]
  },
  {
   "cell_type": "code",
   "execution_count": 6,
   "metadata": {},
   "outputs": [
    {
     "name": "stdout",
     "output_type": "stream",
     "text": [
      "[1, 4, 9, 16, 25]\n"
     ]
    }
   ],
   "source": [
    "def integers():\n",
    "     '''Infinite sequence of integers'''\n",
    "     i = 1\n",
    "     while True:\n",
    "          yield i\n",
    "          i += 1\n",
    "\n",
    "def squares():\n",
    "     for i in integers():\n",
    "          yield i*i\n",
    "\n",
    "def take(n,seq):\n",
    "     '''Return first n values from the given sequence'''\n",
    "     seq = iter(seq)\n",
    "     result = []\n",
    "     try:\n",
    "          for i in range(n):\n",
    "               result.append(seq.__next__())\n",
    "     except StopIteration:\n",
    "          pass\n",
    "     return result\n",
    "print(take(5,squares()))  # will print [1,4,9,16,25]"
   ]
  },
  {
   "cell_type": "markdown",
   "metadata": {},
   "source": [
    "### Generator expression\n",
    "* **generator expression just look like a list comprehension**\n"
   ]
  },
  {
   "cell_type": "code",
   "execution_count": 13,
   "metadata": {},
   "outputs": [
    {
     "ename": "NameError",
     "evalue": "name 'x' is not defined",
     "output_type": "error",
     "traceback": [
      "\u001b[0;31m---------------------------------------------------------------------------\u001b[0m",
      "\u001b[0;31mNameError\u001b[0m                                 Traceback (most recent call last)",
      "\u001b[0;32m<ipython-input-13-132a62f51a0f>\u001b[0m in \u001b[0;36m<module>\u001b[0;34m\u001b[0m\n\u001b[1;32m      1\u001b[0m \u001b[0ma\u001b[0m\u001b[0;34m=\u001b[0m\u001b[0;34m(\u001b[0m\u001b[0mx\u001b[0m\u001b[0;34m**\u001b[0m\u001b[0;36m2\u001b[0m \u001b[0;32mfor\u001b[0m \u001b[0mi\u001b[0m \u001b[0;32min\u001b[0m \u001b[0mrange\u001b[0m\u001b[0;34m(\u001b[0m\u001b[0;36m3\u001b[0m\u001b[0;34m)\u001b[0m\u001b[0;34m)\u001b[0m  \u001b[0;31m# will return a generator object\u001b[0m\u001b[0;34m\u001b[0m\u001b[0;34m\u001b[0m\u001b[0m\n\u001b[0;32m----> 2\u001b[0;31m \u001b[0msum\u001b[0m\u001b[0;34m(\u001b[0m\u001b[0ma\u001b[0m\u001b[0;34m)\u001b[0m  \u001b[0;31m# will print out the sum of 0,1,4\u001b[0m\u001b[0;34m\u001b[0m\u001b[0;34m\u001b[0m\u001b[0m\n\u001b[0m\u001b[1;32m      3\u001b[0m \u001b[0;32mdef\u001b[0m \u001b[0mintegers\u001b[0m\u001b[0;34m(\u001b[0m\u001b[0;34m)\u001b[0m\u001b[0;34m:\u001b[0m\u001b[0;34m\u001b[0m\u001b[0;34m\u001b[0m\u001b[0m\n\u001b[1;32m      4\u001b[0m      \u001b[0;34m'''Infinite sequence of integers'''\u001b[0m\u001b[0;34m\u001b[0m\u001b[0;34m\u001b[0m\u001b[0m\n\u001b[1;32m      5\u001b[0m      \u001b[0mi\u001b[0m \u001b[0;34m=\u001b[0m \u001b[0;36m1\u001b[0m\u001b[0;34m\u001b[0m\u001b[0;34m\u001b[0m\u001b[0m\n",
      "\u001b[0;32m<ipython-input-13-132a62f51a0f>\u001b[0m in \u001b[0;36m<genexpr>\u001b[0;34m(.0)\u001b[0m\n\u001b[0;32m----> 1\u001b[0;31m \u001b[0ma\u001b[0m\u001b[0;34m=\u001b[0m\u001b[0;34m(\u001b[0m\u001b[0mx\u001b[0m\u001b[0;34m**\u001b[0m\u001b[0;36m2\u001b[0m \u001b[0;32mfor\u001b[0m \u001b[0mi\u001b[0m \u001b[0;32min\u001b[0m \u001b[0mrange\u001b[0m\u001b[0;34m(\u001b[0m\u001b[0;36m3\u001b[0m\u001b[0;34m)\u001b[0m\u001b[0;34m)\u001b[0m  \u001b[0;31m# will return a generator object\u001b[0m\u001b[0;34m\u001b[0m\u001b[0;34m\u001b[0m\u001b[0m\n\u001b[0m\u001b[1;32m      2\u001b[0m \u001b[0msum\u001b[0m\u001b[0;34m(\u001b[0m\u001b[0ma\u001b[0m\u001b[0;34m)\u001b[0m  \u001b[0;31m# will print out the sum of 0,1,4\u001b[0m\u001b[0;34m\u001b[0m\u001b[0;34m\u001b[0m\u001b[0m\n\u001b[1;32m      3\u001b[0m \u001b[0;32mdef\u001b[0m \u001b[0mintegers\u001b[0m\u001b[0;34m(\u001b[0m\u001b[0;34m)\u001b[0m\u001b[0;34m:\u001b[0m\u001b[0;34m\u001b[0m\u001b[0;34m\u001b[0m\u001b[0m\n\u001b[1;32m      4\u001b[0m      \u001b[0;34m'''Infinite sequence of integers'''\u001b[0m\u001b[0;34m\u001b[0m\u001b[0;34m\u001b[0m\u001b[0m\n\u001b[1;32m      5\u001b[0m      \u001b[0mi\u001b[0m \u001b[0;34m=\u001b[0m \u001b[0;36m1\u001b[0m\u001b[0;34m\u001b[0m\u001b[0;34m\u001b[0m\u001b[0m\n",
      "\u001b[0;31mNameError\u001b[0m: name 'x' is not defined"
     ]
    }
   ],
   "source": [
    "a = (x**2 for i in range(3))  # will return a generator object\n",
    "sum(a)  # will print out the sum of 0,1,4\n",
    "def integers():\n",
    "     '''Infinite sequence of integers'''\n",
    "     i = 1\n",
    "     while True:\n",
    "          yield i\n",
    "          i += 1\n",
    "\n",
    "def squares():\n",
    "     for i in integers():\n",
    "          yield i*i\n",
    "\n",
    "def take(n,seq):\n",
    "     '''Return first n values from the given sequence'''\n",
    "     seq = iter(seq)\n",
    "     result = []\n",
    "     try:\n",
    "          for i in range(n):\n",
    "               result.append(seq.__next__())\n",
    "     except StopIteration:\n",
    "          pass\n",
    "     return result\n",
    "\n",
    "# example to find out Pythagoras use generator expression\n",
    "pyt = ((x, y, z) for z in integers() for y in range(1, z) for x in range(1, y) if x*x + y*y == z*z)\n",
    "take(10, pyt)"
   ]
  },
  {
   "cell_type": "markdown",
   "metadata": {},
   "source": [
    "### So why use generator?\n",
    "1. to make code is simple\n",
    "2. to save memory\n",
    "3. to make better performances\n"
   ]
  },
  {
   "cell_type": "code",
   "execution_count": 14,
   "metadata": {},
   "outputs": [],
   "source": [
    "# example: make a function to return n positive intergers using function - list\n",
    "def firstn(n):\n",
    "     num=0\n",
    "     nums=[]\n",
    "     while num<n:\n",
    "          nums.append(num)\n",
    "          num+=1\n",
    "     return nums\n",
    "\n",
    "\n",
    "# this function above will run generally, except it has a problem, it'll save all list in memory\n",
    "# now we use an iterator\n",
    "class firstn:\n",
    "     def __init__(self, n):\n",
    "          self.n=n\n",
    "          self.num, self.nums = 0, []\n",
    "\n",
    "     def __iter__(self):\n",
    "          return self\n",
    "     \n",
    "     def __next__(self):\n",
    "          if self.num < self.n:\n",
    "               cur, self.num = self.num, self.num+1\n",
    "               return cur\n",
    "          else:\n",
    "               raise StopIteration()\n",
    "            \n",
    "\n",
    "# it's too complex and gassy\n",
    "# now we use generator\n",
    "def firstn(n):\n",
    "     num = 0\n",
    "     while num < n:\n",
    "          yield num\n",
    "          num += 1\n",
    "#=====>ok done\n",
    "#unless, generator can be used to optimize the performance\n",
    "## Python produce a module name itertools to work with iterators"
   ]
  },
  {
   "cell_type": "markdown",
   "metadata": {},
   "source": [
    "### Generator - `yield` deep dive\n",
    "* `yield` is simple statement but it's also special keyword in Python. Its primary job to control the flow of a generator function.\n",
    "* Whenever Python `yield` statement is hit, the program suspends function execution and return the yielded value to the caller. When function is suspended, the state of that function is saved included any variable bindings local to generator, the instruction pointer, the internal stack and exceptions handling.\n",
    "* **Generator like any iterators, it can be exhausted. Unless your generator is infinite, you can iterate through it one time only. Once all values have been evaluated, iteration will stop and the loop will exit. If you used `next()`, then instead you’ll get an explicit StopIteration exception.**"
   ]
  },
  {
   "cell_type": "markdown",
   "metadata": {},
   "source": [
    "#### Advanced generator methods\n",
    "In addition to `yield`, generator object can make use of following methods:\n",
    "1. `.send()`\n",
    "2. `.throw()`\n",
    "3. `.close()`\n"
   ]
  },
  {
   "cell_type": "markdown",
   "metadata": {},
   "source": [
    "##### How to use `.send()`\n",
    "* Take a look at this example. This program will print the numeric palindromes. Upon encountering a palindrome, your new program will add a digit and start a search for the next one from there."
   ]
  },
  {
   "cell_type": "code",
   "execution_count": 17,
   "metadata": {},
   "outputs": [
    {
     "name": "stdout",
     "output_type": "stream",
     "text": [
      "11\n",
      "111\n",
      "1111\n",
      "10101\n",
      "101101\n",
      "1001001\n",
      "10011001\n",
      "100010001\n",
      "1000110001\n",
      "10000100001\n"
     ]
    }
   ],
   "source": [
    "def is_palindrome(num):\n",
    "    if num // 10 == 0:\n",
    "        return False\n",
    "    tmp = num\n",
    "    reversed_num = 0\n",
    "    while tmp != 0:\n",
    "        reversed_num = reversed_num * 10 + tmp % 10\n",
    "        tmp = tmp // 10\n",
    "    \n",
    "    if num == reversed_num:\n",
    "        return True\n",
    "    else:\n",
    "        return False\n",
    "    \n",
    "\n",
    "def infinite_palindrome():\n",
    "    num = 0\n",
    "    while True:\n",
    "        if is_palindrome(num):\n",
    "            i = (yield num)  # take a look at here\n",
    "            if i is not None:\n",
    "                num = i\n",
    "        num += 1\n",
    "\n",
    "        \n",
    "palindrome_gen = infinite_palindrome()\n",
    "for i in palindrome_gen:\n",
    "    print(i)\n",
    "    digits  = len(str(i))\n",
    "    if digits > 10:\n",
    "        break\n",
    "    palindrome_gen.send(10 ** digits)\n",
    "   "
   ]
  },
  {
   "cell_type": "markdown",
   "metadata": {},
   "source": [
    "* `yield` is usually used as expression, but it's also used as statement. `i` takes the value is that yielded. This allow you to manipulate the yielded value. It also allows you to `.send()` back to generator. When execution picks up after `yield`, i will take the value is sent.\n",
    "* The function `infinite_palindrome` will yield the value if the palindrome is found. When the program send `10 ** digits` back to `infinite_palindrome` generator, this brings the execution back to generator logic and assign `10 ** digits` to `i`. Since `i` now has a value, the program update the `num` and check palindrome again.\n",
    "* Once your code finds and yields another palindrome, you'll iterate via the loop.\n",
    "* So, the application of `.send()` is assign the value back into generator and call `next()` iterator.\n",
    "* This example above is the same with **coroutines**, another advanced concept in Python."
   ]
  },
  {
   "cell_type": "markdown",
   "metadata": {},
   "source": [
    "##### How to use `.throw()`\n",
    "* `.throw()` allows use to throw exceptions with generator.\n",
    "* Let's look into this example:"
   ]
  },
  {
   "cell_type": "code",
   "execution_count": 12,
   "metadata": {},
   "outputs": [
    {
     "name": "stdout",
     "output_type": "stream",
     "text": [
      "11\n",
      "111\n",
      "1111\n",
      "10101\n"
     ]
    },
    {
     "ename": "ValueError",
     "evalue": "too large palindrome",
     "output_type": "error",
     "traceback": [
      "\u001b[0;31m---------------------------------------------------------------------------\u001b[0m",
      "\u001b[0;31mValueError\u001b[0m                                Traceback (most recent call last)",
      "\u001b[0;32m<ipython-input-12-4ee1f1d37379>\u001b[0m in \u001b[0;36m<module>\u001b[0;34m\u001b[0m\n\u001b[1;32m     29\u001b[0m     \u001b[0mdigits\u001b[0m  \u001b[0;34m=\u001b[0m \u001b[0mlen\u001b[0m\u001b[0;34m(\u001b[0m\u001b[0mstr\u001b[0m\u001b[0;34m(\u001b[0m\u001b[0mi\u001b[0m\u001b[0;34m)\u001b[0m\u001b[0;34m)\u001b[0m\u001b[0;34m\u001b[0m\u001b[0;34m\u001b[0m\u001b[0m\n\u001b[1;32m     30\u001b[0m     \u001b[0;32mif\u001b[0m \u001b[0mdigits\u001b[0m \u001b[0;34m==\u001b[0m \u001b[0;36m5\u001b[0m\u001b[0;34m:\u001b[0m\u001b[0;34m\u001b[0m\u001b[0;34m\u001b[0m\u001b[0m\n\u001b[0;32m---> 31\u001b[0;31m         \u001b[0mpalindrome_gen\u001b[0m\u001b[0;34m.\u001b[0m\u001b[0mthrow\u001b[0m\u001b[0;34m(\u001b[0m\u001b[0mValueError\u001b[0m\u001b[0;34m(\u001b[0m\u001b[0;34m\"too large palindrome\"\u001b[0m\u001b[0;34m)\u001b[0m\u001b[0;34m)\u001b[0m\u001b[0;34m\u001b[0m\u001b[0;34m\u001b[0m\u001b[0m\n\u001b[0m\u001b[1;32m     32\u001b[0m     \u001b[0mpalindrome_gen\u001b[0m\u001b[0;34m.\u001b[0m\u001b[0msend\u001b[0m\u001b[0;34m(\u001b[0m\u001b[0;36m10\u001b[0m \u001b[0;34m**\u001b[0m \u001b[0mdigits\u001b[0m\u001b[0;34m)\u001b[0m\u001b[0;34m\u001b[0m\u001b[0;34m\u001b[0m\u001b[0m\n",
      "\u001b[0;32m<ipython-input-12-4ee1f1d37379>\u001b[0m in \u001b[0;36minfinite_palindrome\u001b[0;34m()\u001b[0m\n\u001b[1;32m     18\u001b[0m     \u001b[0;32mwhile\u001b[0m \u001b[0;32mTrue\u001b[0m\u001b[0;34m:\u001b[0m\u001b[0;34m\u001b[0m\u001b[0;34m\u001b[0m\u001b[0m\n\u001b[1;32m     19\u001b[0m         \u001b[0;32mif\u001b[0m \u001b[0mis_palindrome\u001b[0m\u001b[0;34m(\u001b[0m\u001b[0mnum\u001b[0m\u001b[0;34m)\u001b[0m\u001b[0;34m:\u001b[0m\u001b[0;34m\u001b[0m\u001b[0;34m\u001b[0m\u001b[0m\n\u001b[0;32m---> 20\u001b[0;31m             \u001b[0mi\u001b[0m \u001b[0;34m=\u001b[0m \u001b[0;34m(\u001b[0m\u001b[0;32myield\u001b[0m \u001b[0mnum\u001b[0m\u001b[0;34m)\u001b[0m  \u001b[0;31m# take a look at here\u001b[0m\u001b[0;34m\u001b[0m\u001b[0;34m\u001b[0m\u001b[0m\n\u001b[0m\u001b[1;32m     21\u001b[0m             \u001b[0;32mif\u001b[0m \u001b[0mi\u001b[0m \u001b[0;32mis\u001b[0m \u001b[0;32mnot\u001b[0m \u001b[0;32mNone\u001b[0m\u001b[0;34m:\u001b[0m\u001b[0;34m\u001b[0m\u001b[0;34m\u001b[0m\u001b[0m\n\u001b[1;32m     22\u001b[0m                 \u001b[0mnum\u001b[0m \u001b[0;34m=\u001b[0m \u001b[0mi\u001b[0m\u001b[0;34m\u001b[0m\u001b[0;34m\u001b[0m\u001b[0m\n",
      "\u001b[0;31mValueError\u001b[0m: too large palindrome"
     ]
    }
   ],
   "source": [
    "def is_palindrome(num):\n",
    "    if num // 10 == 0:\n",
    "        return False\n",
    "    tmp = num\n",
    "    reversed_num = 0\n",
    "    while tmp != 0:\n",
    "        reversed_num = reversed_num * 10 + tmp % 10\n",
    "        tmp = tmp // 10\n",
    "    \n",
    "    if num == reversed_num:\n",
    "        return True\n",
    "    else:\n",
    "        return False\n",
    "    \n",
    "\n",
    "def infinite_palindrome():\n",
    "    num = 0\n",
    "    while True:\n",
    "        if is_palindrome(num):\n",
    "            i = (yield num)  # take a look at here\n",
    "            if i is not None:\n",
    "                num = i\n",
    "        num += 1\n",
    "\n",
    "        \n",
    "palindrome_gen = infinite_palindrome()\n",
    "for i in palindrome_gen:\n",
    "    print(i)\n",
    "    digits  = len(str(i))\n",
    "    if digits == 5:\n",
    "        palindrome_gen.throw(ValueError(\"too large palindrome\"))\n",
    "    palindrome_gen.send(10 ** digits)"
   ]
  },
  {
   "cell_type": "markdown",
   "metadata": {},
   "source": [
    "* `.throw()` is useful in any areas where you might need to catch exception. We've use `.throw()` to control when you stopped iterating through generator."
   ]
  },
  {
   "cell_type": "markdown",
   "metadata": {},
   "source": [
    "##### How to use `.close()`\n",
    "* We can control stop iterating generator elegantly with `.close()`. `.close()` allows us to stop a generator.\n",
    "* Let's look at the example:\n"
   ]
  },
  {
   "cell_type": "code",
   "execution_count": 13,
   "metadata": {},
   "outputs": [
    {
     "name": "stdout",
     "output_type": "stream",
     "text": [
      "11\n",
      "111\n",
      "1111\n",
      "10101\n"
     ]
    },
    {
     "ename": "StopIteration",
     "evalue": "",
     "output_type": "error",
     "traceback": [
      "\u001b[0;31m---------------------------------------------------------------------------\u001b[0m",
      "\u001b[0;31mStopIteration\u001b[0m                             Traceback (most recent call last)",
      "\u001b[0;32m<ipython-input-13-1bc56aa862ad>\u001b[0m in \u001b[0;36m<module>\u001b[0;34m\u001b[0m\n\u001b[1;32m     30\u001b[0m     \u001b[0;32mif\u001b[0m \u001b[0mdigits\u001b[0m \u001b[0;34m==\u001b[0m \u001b[0;36m5\u001b[0m\u001b[0;34m:\u001b[0m\u001b[0;34m\u001b[0m\u001b[0;34m\u001b[0m\u001b[0m\n\u001b[1;32m     31\u001b[0m         \u001b[0mpalindrome_gen\u001b[0m\u001b[0;34m.\u001b[0m\u001b[0mclose\u001b[0m\u001b[0;34m(\u001b[0m\u001b[0;34m)\u001b[0m\u001b[0;34m\u001b[0m\u001b[0;34m\u001b[0m\u001b[0m\n\u001b[0;32m---> 32\u001b[0;31m     \u001b[0mpalindrome_gen\u001b[0m\u001b[0;34m.\u001b[0m\u001b[0msend\u001b[0m\u001b[0;34m(\u001b[0m\u001b[0;36m10\u001b[0m \u001b[0;34m**\u001b[0m \u001b[0mdigits\u001b[0m\u001b[0;34m)\u001b[0m\u001b[0;34m\u001b[0m\u001b[0;34m\u001b[0m\u001b[0m\n\u001b[0m",
      "\u001b[0;31mStopIteration\u001b[0m: "
     ]
    }
   ],
   "source": [
    "def is_palindrome(num):\n",
    "    if num // 10 == 0:\n",
    "        return False\n",
    "    tmp = num\n",
    "    reversed_num = 0\n",
    "    while tmp != 0:\n",
    "        reversed_num = reversed_num * 10 + tmp % 10\n",
    "        tmp = tmp // 10\n",
    "    \n",
    "    if num == reversed_num:\n",
    "        return True\n",
    "    else:\n",
    "        return False\n",
    "    \n",
    "\n",
    "def infinite_palindrome():\n",
    "    num = 0\n",
    "    while True:\n",
    "        if is_palindrome(num):\n",
    "            i = (yield num)  # take a look at here\n",
    "            if i is not None:\n",
    "                num = i\n",
    "        num += 1\n",
    "\n",
    "        \n",
    "palindrome_gen = infinite_palindrome()\n",
    "for i in palindrome_gen:\n",
    "    print(i)\n",
    "    digits  = len(str(i))\n",
    "    if digits == 5:\n",
    "        palindrome_gen.close()\n",
    "    palindrome_gen.send(10 ** digits)"
   ]
  },
  {
   "cell_type": "markdown",
   "metadata": {},
   "source": [
    "* Instead calling `.throw()`, we use `.close()`. The advantage of `.close()` is that it raises StopIteration exception used to signal the end of a finite iterator."
   ]
  },
  {
   "cell_type": "markdown",
   "metadata": {},
   "source": [
    "#### Connecting generators\n",
    "* Python has a way to connect generators. It's using `yield from` statement\n"
   ]
  },
  {
   "cell_type": "code",
   "execution_count": 18,
   "metadata": {},
   "outputs": [
    {
     "name": "stdout",
     "output_type": "stream",
     "text": [
      "g1: 0\n",
      "g1: 1\n",
      "g1: 2\n",
      "g1: 3\n",
      "g1: 4\n",
      "g2: 0\n",
      "g2: -1\n",
      "g2: -2\n",
      "g2: -3\n",
      "g2: -4\n"
     ]
    }
   ],
   "source": [
    "def gen1(n):\n",
    "    for i in range (n):\n",
    "        yield f'g1: {i}'\n",
    "        \n",
    "\n",
    "def gen2(n):\n",
    "    for j in range(n):\n",
    "        yield f'g2: {-j}'\n",
    "        \n",
    "\n",
    "def gen_master(n):\n",
    "    yield from gen1(n)\n",
    "    yield from gen2(n)\n",
    "\n",
    "\n",
    "for result in gen_master(5):\n",
    "    print(result)"
   ]
  },
  {
   "cell_type": "markdown",
   "metadata": {},
   "source": [
    "* So, `gen_master` works as a connector to yield from both `gen1` and `gen2`"
   ]
  },
  {
   "cell_type": "code",
   "execution_count": null,
   "metadata": {},
   "outputs": [],
   "source": []
  }
 ],
 "metadata": {
  "kernelspec": {
   "display_name": "Python 3",
   "language": "python",
   "name": "python3"
  },
  "language_info": {
   "codemirror_mode": {
    "name": "ipython",
    "version": 3
   },
   "file_extension": ".py",
   "mimetype": "text/x-python",
   "name": "python",
   "nbconvert_exporter": "python",
   "pygments_lexer": "ipython3",
   "version": "3.8.8"
  }
 },
 "nbformat": 4,
 "nbformat_minor": 4
}
