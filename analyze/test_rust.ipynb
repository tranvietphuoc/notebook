{
 "cells": [
  {
   "cell_type": "code",
   "execution_count": 2,
   "id": "73d260a1-e52a-4c67-90c9-36560ada6df5",
   "metadata": {},
   "outputs": [
    {
     "name": "stdout",
     "output_type": "stream",
     "text": [
      "hello world\n"
     ]
    },
    {
     "data": {
      "text/plain": [
       "()"
      ]
     },
     "execution_count": 2,
     "metadata": {},
     "output_type": "execute_result"
    }
   ],
   "source": [
    "println!(\"hello world\")"
   ]
  },
  {
   "cell_type": "code",
   "execution_count": 4,
   "id": "ed5ea016-4674-4d18-9a6e-e0cbb48ffdbf",
   "metadata": {},
   "outputs": [
    {
     "ename": "Error",
     "evalue": "unused variable: `employee`",
     "output_type": "error",
     "traceback": [
      "    let employee: Test;",
      "\u001b[91m        ^^^^^^^^\u001b[0m \u001b[94m\u001b[0m",
      "unused variable: `employee`",
      "\u001b[1mhelp\u001b[0m: if this is intentional, prefix it with an underscore\n\n_employee"
     ]
    },
    {
     "ename": "Error",
     "evalue": "cannot assign to `self.name`, as `self` is not declared as mutable",
     "output_type": "error",
     "traceback": [
      "        self.name = String::from(\"phuoc\");",
      "\u001b[91m        ^^^^^^^^^\u001b[0m \u001b[94mcannot assign\u001b[0m",
      "cannot assign to `self.name`, as `self` is not declared as mutable",
      "\u001b[1mhelp\u001b[0m: consider changing this to be mutable\n\nmut self"
     ]
    },
    {
     "ename": "Error",
     "evalue": "cannot assign to `self.age`, as `self` is not declared as mutable",
     "output_type": "error",
     "traceback": [
      "        self.age = 27;",
      "\u001b[91m        ^^^^^^^^^^^^^\u001b[0m \u001b[94mcannot assign\u001b[0m",
      "cannot assign to `self.age`, as `self` is not declared as mutable",
      "\u001b[1mhelp\u001b[0m: consider changing this to be mutable\n\nmut self"
     ]
    }
   ],
   "source": [
    "struct Test {\n",
    "    name: String,\n",
    "    age: i32,\n",
    "}\n",
    "\n",
    "impl Test {\n",
    "    fn init(self) {\n",
    "        self.name = String::from(\"phuoc\");\n",
    "        self.age = 27;\n",
    "    }\n",
    "}\n",
    "\n",
    "fn main(){\n",
    "    let employee: Test;\n",
    "    \n",
    "}"
   ]
  },
  {
   "cell_type": "code",
   "execution_count": null,
   "id": "577bea9a-0523-4d6c-b965-628fdf363ddf",
   "metadata": {},
   "outputs": [],
   "source": []
  }
 ],
 "metadata": {
  "kernelspec": {
   "display_name": "Rust",
   "language": "rust",
   "name": "rust"
  },
  "language_info": {
   "codemirror_mode": "rust",
   "file_extension": ".rs",
   "mimetype": "text/rust",
   "name": "Rust",
   "pygment_lexer": "rust",
   "version": ""
  }
 },
 "nbformat": 4,
 "nbformat_minor": 5
}
