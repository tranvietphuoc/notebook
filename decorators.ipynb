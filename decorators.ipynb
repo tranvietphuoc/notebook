{
 "cells": [
  {
   "cell_type": "markdown",
   "metadata": {},
   "source": [
    "# All examples about decorator\n",
    "## A decorator is a function wraps another function and change the behavior of that function\n",
    "### ===> Part 1: the base of theory\n",
    "**A function can be assigned to a variable**\n"
   ]
  },
  {
   "cell_type": "code",
   "execution_count": 2,
   "metadata": {},
   "outputs": [
    {
     "name": "stdout",
     "output_type": "stream",
     "text": [
      "True\n",
      "AAA!\n"
     ]
    }
   ],
   "source": [
    "def talk():\n",
    "    return \"aaa\".upper()+\"!\"\n",
    "\n",
    "scream=talk\n",
    "print(scream == talk) #print True\n",
    "print(scream()) #print \"AAA\""
   ]
  },
  {
   "cell_type": "markdown",
   "metadata": {},
   "source": [
    "### A function can become a parameter of another function"
   ]
  },
  {
   "cell_type": "code",
   "execution_count": 3,
   "metadata": {},
   "outputs": [
    {
     "name": "stdout",
     "output_type": "stream",
     "text": [
      "aaa!...\n"
     ]
    }
   ],
   "source": [
    "def whisper(func):\n",
    "    return func.lower()+\"...\"\n",
    "\n",
    "print(whisper(talk())) #will print aaa!..."
   ]
  },
  {
   "cell_type": "markdown",
   "metadata": {},
   "source": [
    "### Functions in Python is first-class objects: can be assigned, passed as argument, defined inside another functions, e.g"
   ]
  },
  {
   "cell_type": "code",
   "execution_count": 4,
   "metadata": {},
   "outputs": [
    {
     "name": "stdout",
     "output_type": "stream",
     "text": [
      "HAHAHA!\n"
     ]
    }
   ],
   "source": [
    "def shout():\n",
    "    def laugh():\n",
    "        return \"hahaha\".upper()+\"!\"\n",
    "    return laugh\n",
    "\n",
    "print(shout()()) #will pri"
   ]
  },
  {
   "cell_type": "markdown",
   "metadata": {},
   "source": [
    "## ====> Part 2: now we explore the decorator\n",
    "### Define a function like this, we'll decorate another function manualy"
   ]
  },
  {
   "cell_type": "code",
   "execution_count": 5,
   "metadata": {},
   "outputs": [
    {
     "name": "stdout",
     "output_type": "stream",
     "text": [
      "<p>lorem ipsum dolor sit amet...phuoc</p>\n"
     ]
    }
   ],
   "source": [
    "def p_decor(func):\n",
    "    def wrapper(name):\n",
    "        return \"<p>{}</p>\".format(func(name))\n",
    "    return wrapper\n",
    "# there is function which we want to decorate\n",
    "def get_text(name):\n",
    "    return \"lorem ipsum dolor sit amet...{}\".format(name)\n",
    "\n",
    "get_text=p_decor(get_text) #get_text function is decorated\n",
    "print(get_text(\"phuoc\")) #this will print \"<p>lorem ipsum dolor sit amet...phuoc</p>\""
   ]
  },
  {
   "cell_type": "markdown",
   "metadata": {},
   "source": [
    "### OK, let's begin with decorator syntax in Python"
   ]
  },
  {
   "cell_type": "code",
   "execution_count": 6,
   "metadata": {},
   "outputs": [
    {
     "name": "stdout",
     "output_type": "stream",
     "text": [
      "<p>lorem ipsum dolor sit amet...phuoc</p>\n"
     ]
    }
   ],
   "source": [
    "def p_decor(func):\n",
    "    def wrapper(name):\n",
    "        return \"<p>{}</p>\".format(func(name))\n",
    "    return wrapper\n",
    "\n",
    "@p_decor\n",
    "def get_text(name): #note: get_text's argument will pass to wrapper function\n",
    "    return \"lorem ipsum dolor sit amet...{}\".format(name)\n",
    "\n",
    "# this equivalent to get_text=p_decor(get_text)\n",
    "print(get_text(\"phuoc\")) # this will print \"<p>lorem ipsum dolor sit amet...phuoc</p>\"\n"
   ]
  },
  {
   "cell_type": "markdown",
   "metadata": {},
   "source": [
    "### Decorator can be associated with lambda like this"
   ]
  },
  {
   "cell_type": "code",
   "execution_count": 7,
   "metadata": {},
   "outputs": [
    {
     "name": "stdout",
     "output_type": "stream",
     "text": [
      "<p>lorem ipsum dolo sit amet...phuoc</p>\n"
     ]
    }
   ],
   "source": [
    "def p_decor(func):\n",
    "    return lambda name: \"<p>{}</p>\".format(func(name))\n",
    "\n",
    "@p_decor\n",
    "def get_text(name):\n",
    "    return \"lorem ipsum dolo sit amet...{}\".format(name)\n",
    "\n",
    "print(get_text(\"phuoc\")) #will print <p>lorem ipsum dolor sit amet...phuoc</p>\n"
   ]
  },
  {
   "cell_type": "markdown",
   "metadata": {},
   "source": [
    "### Because decorator is a function, so it can be decorated by another decorator, example"
   ]
  },
  {
   "cell_type": "code",
   "execution_count": 8,
   "metadata": {},
   "outputs": [
    {
     "name": "stdout",
     "output_type": "stream",
     "text": [
      "<div><strong><p>lorem ipsum dolor sit amet...phuoc</p></strong></div>\n"
     ]
    }
   ],
   "source": [
    "def p_decor(func):\n",
    "    return lambda name: \"<p>{}</p>\".format(func(name))\n",
    "\n",
    "def strong_decor(func):\n",
    "    return lambda name: \"<strong>{}</strong>\".format(func(name))\n",
    "\n",
    "def div_decor(func):\n",
    "    return lambda name: \"<div>{}</div>\".format(func(name))\n",
    "@div_decor\n",
    "@strong_decor\n",
    "@p_decor\n",
    "def get_text(name):\n",
    "    return \"lorem ipsum dolor sit amet...{}\".format(name)\n",
    "\n",
    "print(get_text(\"phuoc\")) #will print <div><strong><p>lorem ipsum dolor sit amet...phuoc</p></strong></div>\n"
   ]
  },
  {
   "cell_type": "markdown",
   "metadata": {},
   "source": [
    "### methods of classes can be decorated"
   ]
  },
  {
   "cell_type": "code",
   "execution_count": 9,
   "metadata": {},
   "outputs": [
    {
     "name": "stdout",
     "output_type": "stream",
     "text": [
      "<p>tran phuoc</p>\n"
     ]
    }
   ],
   "source": [
    "def p_decor(func):\n",
    "    def wrapper(self): #wrapper's argument is self\n",
    "        return \"<p>{}</p>\".format(func(self))\n",
    "    return wrapper\n",
    "    #or use lambda like this\n",
    "    # return lambda self: \"<p>{}</p>\".format(func(self))\n",
    "\n",
    "class Person:\n",
    "    def __init__(self,first,last):\n",
    "        self.first=first\n",
    "        self.last=last\n",
    "\n",
    "    @p_decor\n",
    "    def get_fullname(self):\n",
    "        return self.first+\" \"+self.last\n",
    "\n",
    "per1=Person(\"tran\",\"phuoc\")\n",
    "print(per1.get_fullname()) #will print <p>tran phuoc</p>"
   ]
  },
  {
   "cell_type": "markdown",
   "metadata": {},
   "source": [
    "## ===> Part 3: decorator advanced\n",
    "### A much better approach would be to make our decorator useful for functions and methods alike. By putting args and *kargs as parameter of wrapper"
   ]
  },
  {
   "cell_type": "code",
   "execution_count": 10,
   "metadata": {},
   "outputs": [
    {
     "name": "stdout",
     "output_type": "stream",
     "text": [
      "<p>My name: phuoc tran</p>\n"
     ]
    }
   ],
   "source": [
    "def p_decor(func):\n",
    "    # def wrapper(*args,**kargs):\n",
    "    #     return \"<p>{}</p>\".format(func(*args,**kargs))\n",
    "    # return wrapper\n",
    "    return lambda *args,**kargs: \"<p>{}</p>\".format(func(*args,**kargs)) #wrapper - lambda version\n",
    "\n",
    "@p_decor\n",
    "def get_name(first,last):\n",
    "    return \"My name: {} {}\".format(first,last)\n",
    "\n",
    "print(get_name(\"phuoc\",\"tran\")) #will print <p>My name: phuoc tran</p>\n"
   ]
  },
  {
   "cell_type": "markdown",
   "metadata": {},
   "source": [
    "### how about class?"
   ]
  },
  {
   "cell_type": "code",
   "execution_count": 11,
   "metadata": {},
   "outputs": [
    {
     "name": "stdout",
     "output_type": "stream",
     "text": [
      "<p>My name: phuoc tran</p>\n"
     ]
    }
   ],
   "source": [
    "class Person:\n",
    "    def __init__(self,first,last):\n",
    "        self.first=first\n",
    "        self.last=last\n",
    "\n",
    "    @p_decor\n",
    "    def get_fullname(self):\n",
    "        return \"My name: {} {}\".format(self.first,self.last)\n",
    "\n",
    "per1=Person(\"phuoc\",\"tran\")\n",
    "print(per1.get_fullname())  #will print <p>My name: phuoc tran</p>\n"
   ]
  },
  {
   "cell_type": "markdown",
   "metadata": {},
   "source": [
    "### we can passing argument to decorators too"
   ]
  },
  {
   "cell_type": "code",
   "execution_count": 12,
   "metadata": {},
   "outputs": [
    {
     "name": "stdout",
     "output_type": "stream",
     "text": [
      "<p>lorem ipsum dolor sit amet...phuoc</p>\n",
      "<strong>lorem ipsum dolor sit amet...phuoc</strong>\n",
      "<div>lorem ipsum dolor sit amet...phuoc</div>\n",
      "<lambda>\n"
     ]
    }
   ],
   "source": [
    "def tags(tagname):\n",
    "    def tags_decor(func):\n",
    "        return lambda *args,**kargs: \"<{0}>{1}</{0}>\".format(tagname,func(*args,**kargs)) #notice here\n",
    "    return tags_decor\n",
    "\n",
    "@tags(\"p\")\n",
    "def get_text(name):\n",
    "    return \"lorem ipsum dolor sit amet...{}\".format(name)\n",
    "\n",
    "print(get_text(\"phuoc\")) #will print <p>lorem ipsum dolor sit amet...phuoc</p>\n",
    "\n",
    "@tags(\"strong\")\n",
    "def get_text(name):\n",
    "    return \"lorem ipsum dolor sit amet...{}\".format(name)\n",
    "\n",
    "print(get_text(\"phuoc\")) #will print <strong>lorem ipsum dolor sit amet...phuoc</strong>\n",
    "\n",
    "@tags(\"div\")\n",
    "def get_text(name):\n",
    "    return \"lorem ipsum dolor sit amet...{}\".format(name)\n",
    "\n",
    "print(get_text(\"phuoc\")) #will print <div>lorem ipsum dolor sit amet...phuoc</div>\n",
    "\n",
    "print(get_text.__name__) #will print lambda, what's wrong? we expected __name__ is get_text.\n",
    "# because the attributes of get_text (__name__,__doc__,__module__) is overidden by wrapper function\n"
   ]
  },
  {
   "cell_type": "markdown",
   "metadata": {},
   "source": [
    "## Python has functools module (from Python 2.5) to handle above problem"
   ]
  },
  {
   "cell_type": "code",
   "execution_count": 13,
   "metadata": {},
   "outputs": [
    {
     "name": "stdout",
     "output_type": "stream",
     "text": [
      "get_text\n",
      "None\n",
      "__main__\n"
     ]
    }
   ],
   "source": [
    "import functools\n",
    "\n",
    "\n",
    "def tags(tagname):\n",
    "    def tags_decor(func):\n",
    "        @functools.wraps(func)  # we will insert @functools.wraps(..) here\n",
    "        def wrapper(*args, **kargs):\n",
    "            # notice here\n",
    "            return \"<{0}>{1}</{0}>\".format(tagname, func(*args, **kargs))\n",
    "        return wrapper\n",
    "    return tags_decor\n",
    "\n",
    "\n",
    "@tags(\"p\")\n",
    "def get_text(name):\n",
    "    return \"lorem ipsum dolor sit amet...{}\".format(name)\n",
    "\n",
    "\n",
    "print(get_text.__name__)  # will print get_text here\n",
    "print(get_text.__doc__)  # will print None here\n",
    "print(get_text.__module__)  # will print __main__ here\n"
   ]
  },
  {
   "cell_type": "markdown",
   "metadata": {},
   "source": [
    "### =======================\n",
    "### Decorator can be used for debugging these lines of codes is borrowed from manhhomienbienthuy.bitbucket.io, many thanks to @naa write a decorator print out the times function is implemented\n"
   ]
  },
  {
   "cell_type": "code",
   "execution_count": 15,
   "metadata": {},
   "outputs": [
    {
     "name": "stdout",
     "output_type": "stream",
     "text": [
      "reverse_string (\"hello, I'm Tran Viet Phuoc\",) {}\n",
      "wrapper 0.00031289999969885685\n",
      "wrapper has been used: 1x\n",
      "couhP teiV narT m'I ,olleh\n",
      "reverse_string ('Lorem ipsum dolor sit amet, consectetur adipiscing elit,    sed do eiusmod tempor incididunt ut labore et dolore magna aliqua. Ut enim ad minim veniam,     quis nostrud exercitation ullamco laboris nisi ut aliquip ex ea commodo consequat',) {}\n",
      "wrapper 8.660000003146706e-05\n",
      "wrapper has been used: 2x\n",
      "tauqesnoc odommoc ae xe piuqila tu isin sirobal ocmallu noitaticrexe durtson siuq     ,mainev minim da mine tU .auqila angam erolod te erobal tu tnudidicni ropmet domsuie od des    ,tile gnicsipida rutetcesnoc ,tema tis rolod muspi meroL\n"
     ]
    },
    {
     "data": {
      "text/plain": [
       "'\\nreverse_string (\"hello, I\\'m Tran Viet Phuoc\",) {}\\nwrapper 2.8547000000003764e-05\\nwrapper has been used: 1x\\ncouhP teiV narT m\\'I ,olleh\\nreverse_string (\\'Lorem ipsum dolor sit amet, consectetur adipiscing elit,    sed do eiusmod tempor incididunt ut labore et dolore magna aliqua. Ut enim ad minim veniam,     quis nostrud exercitation ullamco laboris nisi ut aliquip ex ea commodo consequat\\',) {}\\nwrapper 1.0270999999999197e-05\\nwrapper has been used: 2x\\ntauqesnoc odommoc ae xe piuqila tu isin sirobal ocmallu noitaticrexe durtson siuq     ,mainev minim da mine tU .auqila angam erolod te erobal tu tnudidicni ropmet domsuie od des    ,tile gnicsipida rutetcesnoc ,tema tis rolod muspi meroL\\n'"
      ]
     },
     "execution_count": 15,
     "metadata": {},
     "output_type": "execute_result"
    }
   ],
   "source": [
    "def benmark(func):\n",
    "    import time\n",
    "\n",
    "    def wrapper(*args, **kargs):\n",
    "        t = time.perf_counter()\n",
    "        res = func(*args, **kargs)\n",
    "        print(func.__name__, time.perf_counter()-t)\n",
    "        return res\n",
    "    return wrapper\n",
    "# write a decorator to write log of codes - print the function's name, which is called\n",
    "\n",
    "\n",
    "def logging(func):\n",
    "    def wrapper(*args, **kargs):\n",
    "        res = func(*args, **kargs)\n",
    "        print(func.__name__, args, kargs)\n",
    "        return res\n",
    "    return wrapper\n",
    "\n",
    "# write a decorator to count and print out the number of time to be called of function\n",
    "\n",
    "\n",
    "def count(func):\n",
    "    def wrapper(*args, **kargs):\n",
    "        wrapper.count = wrapper.count+1\n",
    "        res = func(*args, **kargs)\n",
    "        print('{0} has been used: {1}x'.format(func.__name__, wrapper.count))\n",
    "        return res\n",
    "    wrapper.count = 0\n",
    "    return wrapper\n",
    "\n",
    "\n",
    "@count\n",
    "@benmark\n",
    "@logging\n",
    "def reverse_string(string):\n",
    "    return string[::-1]\n",
    "\n",
    "\n",
    "print(reverse_string(\"hello, I'm Tran Viet Phuoc\"))\n",
    "print(reverse_string(\"Lorem ipsum dolor sit amet, consectetur adipiscing elit,\\\n",
    "    sed do eiusmod tempor incididunt ut labore et dolore magna aliqua. Ut enim ad minim veniam, \\\n",
    "    quis nostrud exercitation ullamco laboris nisi ut aliquip ex ea commodo consequat\"))\n",
    "# will print out\n",
    "'''\n",
    "reverse_string (\"hello, I'm Tran Viet Phuoc\",) {}\n",
    "wrapper 2.8547000000003764e-05\n",
    "wrapper has been used: 1x\n",
    "couhP teiV narT m'I ,olleh\n",
    "reverse_string ('Lorem ipsum dolor sit amet, consectetur adipiscing elit,    sed do eiusmod tempor incididunt ut labore et dolore magna aliqua. Ut enim ad minim veniam,     quis nostrud exercitation ullamco laboris nisi ut aliquip ex ea commodo consequat',) {}\n",
    "wrapper 1.0270999999999197e-05\n",
    "wrapper has been used: 2x\n",
    "tauqesnoc odommoc ae xe piuqila tu isin sirobal ocmallu noitaticrexe durtson siuq     ,mainev minim da mine tU .auqila angam erolod te erobal tu tnudidicni ropmet domsuie od des    ,tile gnicsipida rutetcesnoc ,tema tis rolod muspi meroL\n",
    "'''"
   ]
  },
  {
   "cell_type": "code",
   "execution_count": null,
   "metadata": {},
   "outputs": [],
   "source": []
  }
 ],
 "metadata": {
  "kernelspec": {
   "display_name": "Python 3",
   "language": "python",
   "name": "python3"
  },
  "language_info": {
   "codemirror_mode": {
    "name": "ipython",
    "version": 3
   },
   "file_extension": ".py",
   "mimetype": "text/x-python",
   "name": "python",
   "nbconvert_exporter": "python",
   "pygments_lexer": "ipython3",
   "version": "3.7.3"
  }
 },
 "nbformat": 4,
 "nbformat_minor": 2
}
