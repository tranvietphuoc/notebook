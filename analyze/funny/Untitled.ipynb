{
 "cells": [
  {
   "cell_type": "code",
   "execution_count": 1,
   "id": "22d0dc3b-2e62-4c45-8474-42bf3cc34d1d",
   "metadata": {},
   "outputs": [],
   "source": [
    "import pandas as pd\n",
    "import os\n",
    "\n"
   ]
  },
  {
   "cell_type": "code",
   "execution_count": 2,
   "id": "5faaeb92-0ca7-4307-8258-760869cc8edb",
   "metadata": {},
   "outputs": [
    {
     "name": "stdout",
     "output_type": "stream",
     "text": [
      "Collecting openpyxl\n",
      "  Downloading openpyxl-3.0.10-py2.py3-none-any.whl (242 kB)\n",
      "     |████████████████████████████████| 242 kB 447 kB/s            \n",
      "\u001b[?25hCollecting et-xmlfile\n",
      "  Downloading et_xmlfile-1.1.0-py3-none-any.whl (4.7 kB)\n",
      "Installing collected packages: et-xmlfile, openpyxl\n",
      "Successfully installed et-xmlfile-1.1.0 openpyxl-3.0.10\n"
     ]
    }
   ],
   "source": [
    "!pip install openpyxl\n"
   ]
  },
  {
   "cell_type": "code",
   "execution_count": 3,
   "id": "d8fe4565-69a2-4ec5-8ae3-9f267a1c4d15",
   "metadata": {},
   "outputs": [
    {
     "data": {
      "text/plain": [
       "['.DS_Store',\n",
       " '.ipynb_checkpoints',\n",
       " 'Untitled.ipynb',\n",
       " 'Untitled1.ipynb',\n",
       " 'handle_duplicates.ipynb',\n",
       " 'handle_njv_data.ipynb',\n",
       " 'handle_snp_data.ipynb',\n",
       " 'handling_snp2.ipynb',\n",
       " 'new-data']"
      ]
     },
     "execution_count": 3,
     "metadata": {},
     "output_type": "execute_result"
    }
   ],
   "source": [
    "os.listdir()\n"
   ]
  },
  {
   "cell_type": "code",
   "execution_count": 4,
   "id": "d39c0924-353c-4a7d-a745-5b6775356081",
   "metadata": {},
   "outputs": [],
   "source": [
    "# read total of data\n",
    "os.chdir('new-data/fahasa')\n"
   ]
  },
  {
   "cell_type": "code",
   "execution_count": 5,
   "id": "608b1f89-9089-4fe3-8912-19313d0d3fe6",
   "metadata": {},
   "outputs": [
    {
     "data": {
      "text/html": [
       "<div>\n",
       "<style scoped>\n",
       "    .dataframe tbody tr th:only-of-type {\n",
       "        vertical-align: middle;\n",
       "    }\n",
       "\n",
       "    .dataframe tbody tr th {\n",
       "        vertical-align: top;\n",
       "    }\n",
       "\n",
       "    .dataframe thead th {\n",
       "        text-align: right;\n",
       "    }\n",
       "</style>\n",
       "<table border=\"1\" class=\"dataframe\">\n",
       "  <thead>\n",
       "    <tr style=\"text-align: right;\">\n",
       "      <th></th>\n",
       "      <th>To Name</th>\n",
       "      <th>To Contact</th>\n",
       "      <th>To Address</th>\n",
       "      <th>To Province</th>\n",
       "      <th>To District</th>\n",
       "    </tr>\n",
       "  </thead>\n",
       "  <tbody>\n",
       "    <tr>\n",
       "      <th>0</th>\n",
       "      <td>Huỳnh Phương</td>\n",
       "      <td>902898155</td>\n",
       "      <td>686 Xô Viết Nghệ Tĩnh, Phường 25, Quận Bình Th...</td>\n",
       "      <td>Hồ Chí Minh</td>\n",
       "      <td>Quận Bình Thạnh</td>\n",
       "    </tr>\n",
       "    <tr>\n",
       "      <th>1</th>\n",
       "      <td>Nguyen Hoai Linh</td>\n",
       "      <td>909594272</td>\n",
       "      <td>1396/77 Lê Đức Thọ, Phường 13, Quận Gò Vấp, Hồ...</td>\n",
       "      <td>Hồ Chí Minh</td>\n",
       "      <td>Quận Gò Vấp</td>\n",
       "    </tr>\n",
       "    <tr>\n",
       "      <th>2</th>\n",
       "      <td>Ngô minh phượng</td>\n",
       "      <td>919337854</td>\n",
       "      <td>205/29 phan văn hân, Phường 17, Quận Bình Thạn...</td>\n",
       "      <td>Hồ Chí Minh</td>\n",
       "      <td>Quận Bình Thạnh</td>\n",
       "    </tr>\n",
       "    <tr>\n",
       "      <th>3</th>\n",
       "      <td>Munh thanh Phạm</td>\n",
       "      <td>903334547</td>\n",
       "      <td>553/7 luỹ bán bích phường phú thanh quận tân p...</td>\n",
       "      <td>Hồ Chí Minh</td>\n",
       "      <td>Quận Tân Phú</td>\n",
       "    </tr>\n",
       "    <tr>\n",
       "      <th>4</th>\n",
       "      <td>Lê Thùy Linh</td>\n",
       "      <td>902829188</td>\n",
       "      <td>439/49 Cây Trâm, phường 8, Phường 8, Quận Gò V...</td>\n",
       "      <td>Hồ Chí Minh</td>\n",
       "      <td>Quận Gò Vấp</td>\n",
       "    </tr>\n",
       "  </tbody>\n",
       "</table>\n",
       "</div>"
      ],
      "text/plain": [
       "            To Name  To Contact  \\\n",
       "0      Huỳnh Phương   902898155   \n",
       "1  Nguyen Hoai Linh   909594272   \n",
       "2   Ngô minh phượng   919337854   \n",
       "3   Munh thanh Phạm   903334547   \n",
       "4      Lê Thùy Linh   902829188   \n",
       "\n",
       "                                          To Address  To Province  \\\n",
       "0  686 Xô Viết Nghệ Tĩnh, Phường 25, Quận Bình Th...  Hồ Chí Minh   \n",
       "1  1396/77 Lê Đức Thọ, Phường 13, Quận Gò Vấp, Hồ...  Hồ Chí Minh   \n",
       "2  205/29 phan văn hân, Phường 17, Quận Bình Thạn...  Hồ Chí Minh   \n",
       "3  553/7 luỹ bán bích phường phú thanh quận tân p...  Hồ Chí Minh   \n",
       "4  439/49 Cây Trâm, phường 8, Phường 8, Quận Gò V...  Hồ Chí Minh   \n",
       "\n",
       "       To District  \n",
       "0  Quận Bình Thạnh  \n",
       "1      Quận Gò Vấp  \n",
       "2  Quận Bình Thạnh  \n",
       "3     Quận Tân Phú  \n",
       "4      Quận Gò Vấp  "
      ]
     },
     "execution_count": 5,
     "metadata": {},
     "output_type": "execute_result"
    }
   ],
   "source": [
    "import glob\n",
    "\n",
    "\n",
    "cols = ['Người nhận', 'Địa chỉ', 'Tỉnh/ Thành phố giao', 'Quận/ Huyện giao', 'Số điện thoại']\n",
    "files = [i for i in glob.glob(f'trackings*.xlsx')]\n",
    "\n",
    "fahasa = pd.concat([pd.read_excel(f, names=cols) for f in files])\n",
    "\n",
    "fahasa = fahasa[['Người nhận', 'Số điện thoại', 'Địa chỉ', 'Tỉnh/ Thành phố giao', 'Quận/ Huyện giao']]\n",
    "fahasa.rename(columns={'Người nhận': 'To Name', 'Số điện thoại': 'To Contact', 'Địa chỉ': 'To Address', 'Tỉnh/ Thành phố giao': 'To Province', 'Quận/ Huyện giao': 'To District'}, inplace=True)\n",
    "fahasa.head()"
   ]
  },
  {
   "cell_type": "code",
   "execution_count": 6,
   "id": "d95b5a33-9b4a-48f7-8699-fed2d7439520",
   "metadata": {},
   "outputs": [
    {
     "data": {
      "text/html": [
       "<div>\n",
       "<style scoped>\n",
       "    .dataframe tbody tr th:only-of-type {\n",
       "        vertical-align: middle;\n",
       "    }\n",
       "\n",
       "    .dataframe tbody tr th {\n",
       "        vertical-align: top;\n",
       "    }\n",
       "\n",
       "    .dataframe thead th {\n",
       "        text-align: right;\n",
       "    }\n",
       "</style>\n",
       "<table border=\"1\" class=\"dataframe\">\n",
       "  <thead>\n",
       "    <tr style=\"text-align: right;\">\n",
       "      <th></th>\n",
       "      <th>To Name</th>\n",
       "      <th>To Contact</th>\n",
       "      <th>To Address</th>\n",
       "      <th>To Province</th>\n",
       "      <th>To District</th>\n",
       "    </tr>\n",
       "  </thead>\n",
       "  <tbody>\n",
       "    <tr>\n",
       "      <th>0</th>\n",
       "      <td>Huỳnh Phương</td>\n",
       "      <td>902898155</td>\n",
       "      <td>686 Xô Viết Nghệ Tĩnh, Phường 25, Quận Bình Th...</td>\n",
       "      <td>Hồ Chí Minh</td>\n",
       "      <td>Quận Bình Thạnh</td>\n",
       "    </tr>\n",
       "    <tr>\n",
       "      <th>1</th>\n",
       "      <td>Nguyen Hoai Linh</td>\n",
       "      <td>909594272</td>\n",
       "      <td>1396/77 Lê Đức Thọ, Phường 13, Quận Gò Vấp, Hồ...</td>\n",
       "      <td>Hồ Chí Minh</td>\n",
       "      <td>Quận Gò Vấp</td>\n",
       "    </tr>\n",
       "    <tr>\n",
       "      <th>2</th>\n",
       "      <td>Ngô minh phượng</td>\n",
       "      <td>919337854</td>\n",
       "      <td>205/29 phan văn hân, Phường 17, Quận Bình Thạn...</td>\n",
       "      <td>Hồ Chí Minh</td>\n",
       "      <td>Quận Bình Thạnh</td>\n",
       "    </tr>\n",
       "    <tr>\n",
       "      <th>3</th>\n",
       "      <td>Munh thanh Phạm</td>\n",
       "      <td>903334547</td>\n",
       "      <td>553/7 luỹ bán bích phường phú thanh quận tân p...</td>\n",
       "      <td>Hồ Chí Minh</td>\n",
       "      <td>Quận Tân Phú</td>\n",
       "    </tr>\n",
       "    <tr>\n",
       "      <th>4</th>\n",
       "      <td>Lê Thùy Linh</td>\n",
       "      <td>902829188</td>\n",
       "      <td>439/49 Cây Trâm, phường 8, Phường 8, Quận Gò V...</td>\n",
       "      <td>Hồ Chí Minh</td>\n",
       "      <td>Quận Gò Vấp</td>\n",
       "    </tr>\n",
       "  </tbody>\n",
       "</table>\n",
       "</div>"
      ],
      "text/plain": [
       "            To Name  To Contact  \\\n",
       "0      Huỳnh Phương   902898155   \n",
       "1  Nguyen Hoai Linh   909594272   \n",
       "2   Ngô minh phượng   919337854   \n",
       "3   Munh thanh Phạm   903334547   \n",
       "4      Lê Thùy Linh   902829188   \n",
       "\n",
       "                                          To Address  To Province  \\\n",
       "0  686 Xô Viết Nghệ Tĩnh, Phường 25, Quận Bình Th...  Hồ Chí Minh   \n",
       "1  1396/77 Lê Đức Thọ, Phường 13, Quận Gò Vấp, Hồ...  Hồ Chí Minh   \n",
       "2  205/29 phan văn hân, Phường 17, Quận Bình Thạn...  Hồ Chí Minh   \n",
       "3  553/7 luỹ bán bích phường phú thanh quận tân p...  Hồ Chí Minh   \n",
       "4  439/49 Cây Trâm, phường 8, Phường 8, Quận Gò V...  Hồ Chí Minh   \n",
       "\n",
       "       To District  \n",
       "0  Quận Bình Thạnh  \n",
       "1      Quận Gò Vấp  \n",
       "2  Quận Bình Thạnh  \n",
       "3     Quận Tân Phú  \n",
       "4      Quận Gò Vấp  "
      ]
     },
     "execution_count": 6,
     "metadata": {},
     "output_type": "execute_result"
    }
   ],
   "source": [
    "fahasa.drop_duplicates(subset=['To Contact'], inplace=True, keep='first')\n",
    "fahasa.head()"
   ]
  },
  {
   "cell_type": "code",
   "execution_count": 7,
   "id": "7c40a6ec-b4d2-48da-b036-d9f832b0a0c3",
   "metadata": {},
   "outputs": [],
   "source": [
    "def normalize_phones(s: str) -> str:\n",
    "    if s.startswith('84'):\n",
    "        return '0' + s[2:]\n",
    "    elif s.startswith('0'):\n",
    "        return s[:]\n",
    "    else:\n",
    "        return '0' + s"
   ]
  },
  {
   "cell_type": "code",
   "execution_count": 8,
   "id": "165750b7-8d99-4a23-bc7d-79f7be365e8d",
   "metadata": {},
   "outputs": [
    {
     "data": {
      "text/html": [
       "<div>\n",
       "<style scoped>\n",
       "    .dataframe tbody tr th:only-of-type {\n",
       "        vertical-align: middle;\n",
       "    }\n",
       "\n",
       "    .dataframe tbody tr th {\n",
       "        vertical-align: top;\n",
       "    }\n",
       "\n",
       "    .dataframe thead th {\n",
       "        text-align: right;\n",
       "    }\n",
       "</style>\n",
       "<table border=\"1\" class=\"dataframe\">\n",
       "  <thead>\n",
       "    <tr style=\"text-align: right;\">\n",
       "      <th></th>\n",
       "      <th>To Name</th>\n",
       "      <th>To Contact</th>\n",
       "      <th>To Address</th>\n",
       "      <th>To Province</th>\n",
       "      <th>To District</th>\n",
       "    </tr>\n",
       "  </thead>\n",
       "  <tbody>\n",
       "    <tr>\n",
       "      <th>0</th>\n",
       "      <td>Huỳnh Phương</td>\n",
       "      <td>0902898155</td>\n",
       "      <td>686 Xô Viết Nghệ Tĩnh, Phường 25, Quận Bình Th...</td>\n",
       "      <td>Hồ Chí Minh</td>\n",
       "      <td>Quận Bình Thạnh</td>\n",
       "    </tr>\n",
       "    <tr>\n",
       "      <th>1</th>\n",
       "      <td>Nguyen Hoai Linh</td>\n",
       "      <td>0909594272</td>\n",
       "      <td>1396/77 Lê Đức Thọ, Phường 13, Quận Gò Vấp, Hồ...</td>\n",
       "      <td>Hồ Chí Minh</td>\n",
       "      <td>Quận Gò Vấp</td>\n",
       "    </tr>\n",
       "    <tr>\n",
       "      <th>2</th>\n",
       "      <td>Ngô minh phượng</td>\n",
       "      <td>0919337854</td>\n",
       "      <td>205/29 phan văn hân, Phường 17, Quận Bình Thạn...</td>\n",
       "      <td>Hồ Chí Minh</td>\n",
       "      <td>Quận Bình Thạnh</td>\n",
       "    </tr>\n",
       "    <tr>\n",
       "      <th>3</th>\n",
       "      <td>Munh thanh Phạm</td>\n",
       "      <td>0903334547</td>\n",
       "      <td>553/7 luỹ bán bích phường phú thanh quận tân p...</td>\n",
       "      <td>Hồ Chí Minh</td>\n",
       "      <td>Quận Tân Phú</td>\n",
       "    </tr>\n",
       "    <tr>\n",
       "      <th>4</th>\n",
       "      <td>Lê Thùy Linh</td>\n",
       "      <td>0902829188</td>\n",
       "      <td>439/49 Cây Trâm, phường 8, Phường 8, Quận Gò V...</td>\n",
       "      <td>Hồ Chí Minh</td>\n",
       "      <td>Quận Gò Vấp</td>\n",
       "    </tr>\n",
       "  </tbody>\n",
       "</table>\n",
       "</div>"
      ],
      "text/plain": [
       "            To Name  To Contact  \\\n",
       "0      Huỳnh Phương  0902898155   \n",
       "1  Nguyen Hoai Linh  0909594272   \n",
       "2   Ngô minh phượng  0919337854   \n",
       "3   Munh thanh Phạm  0903334547   \n",
       "4      Lê Thùy Linh  0902829188   \n",
       "\n",
       "                                          To Address  To Province  \\\n",
       "0  686 Xô Viết Nghệ Tĩnh, Phường 25, Quận Bình Th...  Hồ Chí Minh   \n",
       "1  1396/77 Lê Đức Thọ, Phường 13, Quận Gò Vấp, Hồ...  Hồ Chí Minh   \n",
       "2  205/29 phan văn hân, Phường 17, Quận Bình Thạn...  Hồ Chí Minh   \n",
       "3  553/7 luỹ bán bích phường phú thanh quận tân p...  Hồ Chí Minh   \n",
       "4  439/49 Cây Trâm, phường 8, Phường 8, Quận Gò V...  Hồ Chí Minh   \n",
       "\n",
       "       To District  \n",
       "0  Quận Bình Thạnh  \n",
       "1      Quận Gò Vấp  \n",
       "2  Quận Bình Thạnh  \n",
       "3     Quận Tân Phú  \n",
       "4      Quận Gò Vấp  "
      ]
     },
     "execution_count": 8,
     "metadata": {},
     "output_type": "execute_result"
    }
   ],
   "source": [
    "fahasa['To Contact'] = fahasa['To Contact'].astype('str').apply(lambda x: normalize_phones(x))\n",
    "fahasa.head()"
   ]
  },
  {
   "cell_type": "code",
   "execution_count": 9,
   "id": "4d964d03-da5e-4d2c-9c2b-efe8fb8b75bb",
   "metadata": {},
   "outputs": [
    {
     "name": "stdout",
     "output_type": "stream",
     "text": [
      "<class 'pandas.core.frame.DataFrame'>\n",
      "Int64Index: 82590 entries, 0 to 2812\n",
      "Data columns (total 5 columns):\n",
      " #   Column       Non-Null Count  Dtype \n",
      "---  ------       --------------  ----- \n",
      " 0   To Name      82590 non-null  object\n",
      " 1   To Contact   82590 non-null  object\n",
      " 2   To Address   82590 non-null  object\n",
      " 3   To Province  82590 non-null  object\n",
      " 4   To District  82590 non-null  object\n",
      "dtypes: object(5)\n",
      "memory usage: 3.8+ MB\n"
     ]
    }
   ],
   "source": [
    "fahasa.info()"
   ]
  },
  {
   "cell_type": "code",
   "execution_count": null,
   "id": "74c7354e-0e7b-4e73-98cb-9680d41a0cfd",
   "metadata": {},
   "outputs": [],
   "source": []
  },
  {
   "cell_type": "code",
   "execution_count": 10,
   "id": "fb9e5747-79c2-490d-bd4e-14216869ed7f",
   "metadata": {},
   "outputs": [],
   "source": [
    "# fahasa_export = fahasa[0:20000]\n",
    "# fahasa_export.info()"
   ]
  },
  {
   "cell_type": "code",
   "execution_count": 11,
   "id": "c1eb7fb6-bc0a-4f54-bd13-cae64f3c312e",
   "metadata": {},
   "outputs": [],
   "source": [
    "import numpy as np\n",
    "\n",
    "\n",
    "isp_maps = {\n",
    "    70: 'Mobifone',\n",
    "    79: 'Mobifone',\n",
    "    77: 'Mobifone',\n",
    "    76: 'Mobifone',\n",
    "    78: 'Mobifone',\n",
    "    32: 'Viettel',\n",
    "    33: 'Viettel',\n",
    "    34: 'Viettel',\n",
    "    35: 'Viettel',\n",
    "    36: 'Viettel',\n",
    "    37: 'Viettel',\n",
    "    38: 'Viettel',\n",
    "    39: 'Viettel',\n",
    "    83: 'Vinaphone',\n",
    "    84: 'Vinaphone',\n",
    "    85: 'Vinaphone',\n",
    "    81: 'Vinaphone',\n",
    "    82: 'Vinaphone',\n",
    "    97: 'Viettel',\n",
    "    90: 'Mobifone',\n",
    "    93: 'Mobifone',\n",
    "    96: 'Viettel',\n",
    "    98: 'Viettel',\n",
    "    91: 'Vinaphone',\n",
    "    92: 'Vietnammobile',\n",
    "    94: 'Vinaphone',\n",
    "    89: 'Mobifone',\n",
    "    88: 'Vinaphone',\n",
    "    86: 'Viettel',\n",
    "    55: 'Vietnammobile',\n",
    "    56: 'Vietnammobile',\n",
    "    58: 'Vietnammobile',\n",
    "    87: 'I-telecom',\n",
    "    52: 'Vietnammobile'\n",
    "}\n",
    "\n",
    "\n",
    "def get_isp_name(maps, string):\n",
    "    # get isp name from mapping dict\n",
    "    try:\n",
    "        return maps.get(int(string[1:3]), np.nan)\n",
    "    except ValueError:\n",
    "        return np.nan"
   ]
  },
  {
   "cell_type": "code",
   "execution_count": 13,
   "id": "e0a0028c-9c32-43ff-b82d-804505e08436",
   "metadata": {},
   "outputs": [],
   "source": [
    "fahasa['ISP'] = fahasa['To Contact'].astype('str').apply(lambda x: get_isp_name(isp_maps, x))"
   ]
  },
  {
   "cell_type": "code",
   "execution_count": 14,
   "id": "432899b3-e3e7-448f-8c3e-b11c5f312cd7",
   "metadata": {},
   "outputs": [],
   "source": [
    "# fahasa_export.head()"
   ]
  },
  {
   "cell_type": "code",
   "execution_count": 23,
   "id": "ef7ee756-c6d2-4b98-8b62-c1b20797a753",
   "metadata": {},
   "outputs": [],
   "source": [
    "fahasa_export.to_excel('fahasa.19-8.xlsx', index=False)"
   ]
  },
  {
   "cell_type": "code",
   "execution_count": 116,
   "id": "57af8888-c5c1-4721-bae7-7cc833b8e07b",
   "metadata": {},
   "outputs": [
    {
     "ename": "NameError",
     "evalue": "name 'data' is not defined",
     "output_type": "error",
     "traceback": [
      "\u001b[0;31m---------------------------------------------------------------------------\u001b[0m",
      "\u001b[0;31mNameError\u001b[0m                                 Traceback (most recent call last)",
      "\u001b[0;32m/tmp/ipykernel_55/4056836102.py\u001b[0m in \u001b[0;36m<module>\u001b[0;34m\u001b[0m\n\u001b[1;32m      9\u001b[0m \u001b[0;31m# chunksize = 10000\u001b[0m\u001b[0;34m\u001b[0m\u001b[0;34m\u001b[0m\u001b[0m\n\u001b[1;32m     10\u001b[0m \u001b[0;31m# chunks = len(data) // chunksize\u001b[0m\u001b[0;34m\u001b[0m\u001b[0;34m\u001b[0m\u001b[0m\n\u001b[0;32m---> 11\u001b[0;31m \u001b[0mchunks\u001b[0m \u001b[0;34m=\u001b[0m \u001b[0msplit_df\u001b[0m\u001b[0;34m(\u001b[0m\u001b[0mdata\u001b[0m\u001b[0;34m)\u001b[0m\u001b[0;34m\u001b[0m\u001b[0;34m\u001b[0m\u001b[0m\n\u001b[0m\u001b[1;32m     12\u001b[0m \u001b[0;34m\u001b[0m\u001b[0m\n\u001b[1;32m     13\u001b[0m \u001b[0mi\u001b[0m \u001b[0;34m=\u001b[0m \u001b[0;36m0\u001b[0m\u001b[0;34m\u001b[0m\u001b[0;34m\u001b[0m\u001b[0m\n",
      "\u001b[0;31mNameError\u001b[0m: name 'data' is not defined"
     ]
    }
   ],
   "source": [
    "# split large file into chunks file\n",
    "def split_df(df, chunksize=10000):\n",
    "    chunks = []\n",
    "    num_chunks = len(df) // chunksize + 1\n",
    "    for i in range(num_chunks):\n",
    "        chunks.append(df[i*chunksize:(i+1)*chunksize])\n",
    "    return chunks\n",
    "\n",
    "# chunksize = 10000\n",
    "# chunks = len(data) // chunksize\n",
    "chunks = split_df(fahasa)\n",
    "\n",
    "i = 0\n",
    "for chunk in chunks:\n",
    "    chunk.to_excel('fahasa_{:02d}.xlsx'.format(i), index=False)\n",
    "    i += 1"
   ]
  },
  {
   "cell_type": "code",
   "execution_count": null,
   "id": "b293cc64-be3d-4ae0-bd6e-f60e4205e8b2",
   "metadata": {},
   "outputs": [],
   "source": []
  }
 ],
 "metadata": {
  "kernelspec": {
   "display_name": "Python 3 (ipykernel)",
   "language": "python",
   "name": "python3"
  },
  "language_info": {
   "codemirror_mode": {
    "name": "ipython",
    "version": 3
   },
   "file_extension": ".py",
   "mimetype": "text/x-python",
   "name": "python",
   "nbconvert_exporter": "python",
   "pygments_lexer": "ipython3",
   "version": "3.9.7"
  }
 },
 "nbformat": 4,
 "nbformat_minor": 5
}
