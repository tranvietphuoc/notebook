{
 "cells": [
  {
   "cell_type": "code",
   "execution_count": 7,
   "metadata": {},
   "outputs": [
    {
     "name": "stdout",
     "output_type": "stream",
     "text": [
      "[[0.76216428 0.26528053 0.20227599 0.6383298 ]\n",
      " [0.65112948 0.16447836 0.08139597 0.05045134]\n",
      " [0.05862051 0.38464944 0.70409801 0.26635428]]\n",
      "[[[  1   2   3]\n",
      "  [  8   9  10]]\n",
      "\n",
      " [[100 101 102]\n",
      "  [111 112 113]]]\n",
      "(2, 2, 3)\n",
      "[[100 101 102]\n",
      " [111 112 113]]\n",
      "[[  3  10]\n",
      " [102 113]]\n"
     ]
    }
   ],
   "source": [
    "import numpy as np\n",
    "from os import\n",
    "\n",
    "a = np.random.random((3,4))\n",
    "print(a)\n",
    "a.ravel()\n",
    "a.reshape(6,2)\n",
    "a.T\n",
    "np.set_printoptions(threshold=sys.maxsize)\n",
    "c = np.array([[[1,2,3],\n",
    "              [8, 9, 10]],\n",
    "             [[100,101,102],\n",
    "             [111,112,113]]])\n",
    "print(c)\n",
    "print(c.shape)\n",
    "print(c[1,...])\n",
    "print(c[...,2])"
   ]
  },
  {
   "cell_type": "code",
   "execution_count": 6,
   "metadata": {},
   "outputs": [
    {
     "ename": "ModuleNotFoundError",
     "evalue": "No module named 'matplotlib.osplot'",
     "output_type": "error",
     "traceback": [
      "\u001b[0;31m---------------------------------------------------------------------------\u001b[0m",
      "\u001b[0;31mModuleNotFoundError\u001b[0m                       Traceback (most recent call last)",
      "\u001b[0;32m<ipython-input-6-5aab56f66489>\u001b[0m in \u001b[0;36m<module>\u001b[0;34m\u001b[0m\n\u001b[1;32m      1\u001b[0m \u001b[0;32mimport\u001b[0m \u001b[0mnumpy\u001b[0m \u001b[0;32mas\u001b[0m \u001b[0mnp\u001b[0m\u001b[0;34m\u001b[0m\u001b[0;34m\u001b[0m\u001b[0m\n\u001b[0;32m----> 2\u001b[0;31m \u001b[0;32mimport\u001b[0m \u001b[0mmatplotlib\u001b[0m\u001b[0;34m.\u001b[0m\u001b[0mosplot\u001b[0m \u001b[0;32mas\u001b[0m \u001b[0mplt\u001b[0m\u001b[0;34m\u001b[0m\u001b[0;34m\u001b[0m\u001b[0m\n\u001b[0m\u001b[1;32m      3\u001b[0m \u001b[0;34m\u001b[0m\u001b[0m\n\u001b[1;32m      4\u001b[0m \u001b[0;34m\u001b[0m\u001b[0m\n\u001b[1;32m      5\u001b[0m \u001b[0;32mdef\u001b[0m \u001b[0mmandelbrot\u001b[0m\u001b[0;34m(\u001b[0m\u001b[0mh\u001b[0m\u001b[0;34m,\u001b[0m \u001b[0mw\u001b[0m\u001b[0;34m,\u001b[0m \u001b[0mmaxit\u001b[0m\u001b[0;34m=\u001b[0m\u001b[0;36m20\u001b[0m\u001b[0;34m)\u001b[0m\u001b[0;34m:\u001b[0m\u001b[0;34m\u001b[0m\u001b[0;34m\u001b[0m\u001b[0m\n",
      "\u001b[0;31mModuleNotFoundError\u001b[0m: No module named 'matplotlib.osplot'"
     ]
    }
   ],
   "source": [
    "import numpy as np\n",
    "import matplotlib.osplot as plt\n",
    "\n",
    "\n",
    "def mandelbrot(h, w, maxit=20):\n",
    "    \"\"\"Returns an image of the Mandelbrot fractal of size (h,w).\"\"\"\n",
    "    y, x = np.ogrid[-1.4:1.4:h*1j, -2:0.8:w*1j]\n",
    "    c = x+y*1j\n",
    "    z = c\n",
    "    divtime = maxit + np.zeros(z.shape, dtype=int)\n",
    "    for i in range(maxit):\n",
    "        z = z**2 + c\n",
    "        diverge = z*np.conj(z) > 2**2            # who is diverging\n",
    "        div_now = diverge & (divtime == maxit)  # who is diverging now\n",
    "        divtime[div_now] = i                  # note when\n",
    "        z[diverge] = 2                        # avoid diverging too much\n",
    "    return divtime\n",
    "\n",
    "\n",
    "plt.imshow(mandelbrot(400, 400))\n",
    "plt.show()"
   ]
  },
  {
   "cell_type": "code",
   "execution_count": 3,
   "metadata": {},
   "outputs": [
    {
     "name": "stdout",
     "output_type": "stream",
     "text": [
      "(1+2j)\n"
     ]
    }
   ],
   "source": [
    "import numpy as np\n",
    "\n",
    "\n",
    "c = np.array([[1,2], [3,4]], dtype=complex)\n",
    "com = 1+2*1j\n",
    "np.conj(com)\n",
    "print(com)"
   ]
  },
  {
   "cell_type": "code",
   "execution_count": 1,
   "metadata": {},
   "outputs": [],
   "source": [
    "%load_ext sql"
   ]
  },
  {
   "cell_type": "code",
   "execution_count": 7,
   "metadata": {},
   "outputs": [
    {
     "name": "stdout",
     "output_type": "stream",
     "text": [
      "Collecting openpyxl\n",
      "  Downloading openpyxl-3.0.7-py2.py3-none-any.whl (243 kB)\n",
      "\u001b[K     |████████████████████████████████| 243 kB 1.8 MB/s eta 0:00:01\n",
      "\u001b[?25hCollecting et-xmlfile\n",
      "  Downloading et_xmlfile-1.1.0-py3-none-any.whl (4.7 kB)\n",
      "Installing collected packages: et-xmlfile, openpyxl\n",
      "Successfully installed et-xmlfile-1.1.0 openpyxl-3.0.7\n"
     ]
    }
   ],
   "source": [
    "!pip install openpyxl"
   ]
  },
  {
   "cell_type": "code",
   "execution_count": 11,
   "metadata": {},
   "outputs": [
    {
     "data": {
      "text/plain": [
       "STT                        object\n",
       "Ngày vận đơn               object\n",
       "Số vận đơn                 object\n",
       "Từ tỉnh                    object\n",
       "Đến tỉnh                   object\n",
       "Từ huyện                   object\n",
       "Đến huyện                  object\n",
       "Đến xã                     object\n",
       "Tên người gửi              object\n",
       "HTTT                       object\n",
       "Địa chỉ người gửi          object\n",
       "SDT người nhận             object\n",
       "Tên người nhận             object\n",
       "Địa chỉ người nhận         object\n",
       "Tên DV                     object\n",
       "Mã DV                     float64\n",
       "Mã KH                     float64\n",
       "Trọng lượng               float64\n",
       "Số kiện                   float64\n",
       "Trọng lượng qui đổi       float64\n",
       "Trọng lượng qui đổi KS    float64\n",
       "Loại áp giá                object\n",
       "Tiền cước kiểm soát       float64\n",
       "Phí KS                    float64\n",
       "Phí 04                    float64\n",
       "Tiền cước vận đơn         float64\n",
       "Phí                       float64\n",
       "Tên hàng hóa               object\n",
       "Thời gian trả hàng         object\n",
       "Người nhận                 object\n",
       "Doanh thu                 float64\n",
       "TRA_NGAY                   object\n",
       "NV nhận                    object\n",
       "Bưu cục nhận               object\n",
       "NV Trả                     object\n",
       "Bưu cục trả                object\n",
       "Tiền thu hộ               float64\n",
       "Nvgn cuối                  object\n",
       "Bưu cục cuối               object\n",
       "NVKD                      float64\n",
       "Tiền chấm nợ              float64\n",
       "Chấm nợ gửi giá           float64\n",
       "ĐC trong kỳ               float64\n",
       "ĐC ngoài kỳ               float64\n",
       "Giá công bố               float64\n",
       "Ảnh VĐ trắng               object\n",
       "Ảnh VĐ hồng                object\n",
       "Ngày nl liên trăng         object\n",
       "Ngày nl liên hồng          object\n",
       "Số tham chiếu             float64\n",
       "Số kiên                    object\n",
       "BC thu ngay                object\n",
       "Tiền thu                  float64\n",
       "Khai Giá                  float64\n",
       "dtype: object"
      ]
     },
     "execution_count": 11,
     "metadata": {},
     "output_type": "execute_result"
    }
   ],
   "source": [
    "import os\n",
    "import pandas as pd\n",
    "\n",
    "\n",
    "os.chdir('/Users/phuoc/Downloads')\n",
    "df = pd.read_excel('KVLHCM.xlsx')\n",
    "df.dtypes"
   ]
  },
  {
   "cell_type": "code",
   "execution_count": 16,
   "metadata": {},
   "outputs": [
    {
     "data": {
      "text/plain": [
       "0      NaN\n",
       "1      NaN\n",
       "2      NaN\n",
       "3      NaN\n",
       "4      NaN\n",
       "        ..\n",
       "6709   NaN\n",
       "6710   NaN\n",
       "6711   NaN\n",
       "6712   NaN\n",
       "6713   NaN\n",
       "Name: Số tham chiếu, Length: 6714, dtype: float64"
      ]
     },
     "execution_count": 16,
     "metadata": {},
     "output_type": "execute_result"
    }
   ],
   "source": [
    "df['Số tham chiếu']"
   ]
  },
  {
   "cell_type": "code",
   "execution_count": null,
   "metadata": {},
   "outputs": [],
   "source": []
  }
 ],
 "metadata": {
  "gist": {
   "data": {
    "description": "numpy.ipynb",
    "public": false
   },
   "id": ""
  },
  "kernelspec": {
   "display_name": "Python 3",
   "language": "python",
   "name": "python3"
  },
  "language_info": {
   "codemirror_mode": {
    "name": "ipython",
    "version": 3
   },
   "file_extension": ".py",
   "mimetype": "text/x-python",
   "name": "python",
   "nbconvert_exporter": "python",
   "pygments_lexer": "ipython3",
   "version": "3.8.10"
  },
  "varInspector": {
   "cols": {
    "lenName": 16,
    "lenType": 16,
    "lenVar": 40
   },
   "kernels_config": {
    "python": {
     "delete_cmd_postfix": "",
     "delete_cmd_prefix": "del ",
     "library": "var_list.py",
     "varRefreshCmd": "print(var_dic_list())"
    },
    "r": {
     "delete_cmd_postfix": ") ",
     "delete_cmd_prefix": "rm(",
     "library": "var_list.r",
     "varRefreshCmd": "cat(var_dic_list()) "
    }
   },
   "types_to_exclude": [
    "module",
    "function",
    "builtin_function_or_method",
    "instance",
    "_Feature"
   ],
   "window_display": false
  }
 },
 "nbformat": 4,
 "nbformat_minor": 4
}
