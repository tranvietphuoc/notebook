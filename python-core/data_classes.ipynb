{
 "cells": [
  {
   "cell_type": "code",
   "execution_count": 5,
   "id": "delayed-commander",
   "metadata": {},
   "outputs": [
    {
     "name": "stdout",
     "output_type": "stream",
     "text": [
      "Transaction(sender='Phuoc', amount=3000000, reciever='Tuyen')\n",
      "True\n"
     ]
    }
   ],
   "source": [
    "from dataclasses import dataclass\n",
    "from typing import Any\n",
    "\n",
    "\n",
    "@dataclass\n",
    "class Transaction:\n",
    "    sender: Any\n",
    "    amount: Any\n",
    "    reciever: Any\n",
    "\n",
    "\n",
    "trans = Transaction('Phuoc', 3000000, 'Tuyen')\n",
    "trans.sender\n",
    "trans.amount\n",
    "trans.reciever\n",
    "print(trans)  # auto implement __repr__() method\n",
    "print(trans == Transaction('Phuoc', 3000000, 'Tuyen'))  # auto implement __eq__() method\n"
   ]
  },
  {
   "cell_type": "code",
   "execution_count": null,
   "id": "acceptable-terror",
   "metadata": {},
   "outputs": [],
   "source": []
  },
  {
   "cell_type": "code",
   "execution_count": null,
   "id": "clear-married",
   "metadata": {},
   "outputs": [],
   "source": []
  }
 ],
 "metadata": {
  "kernelspec": {
   "display_name": "Python 3",
   "language": "python",
   "name": "python3"
  },
  "language_info": {
   "codemirror_mode": {
    "name": "ipython",
    "version": 3
   },
   "file_extension": ".py",
   "mimetype": "text/x-python",
   "name": "python",
   "nbconvert_exporter": "python",
   "pygments_lexer": "ipython3",
   "version": "3.8.5"
  }
 },
 "nbformat": 4,
 "nbformat_minor": 5
}
