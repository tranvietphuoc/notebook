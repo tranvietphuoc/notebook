{
 "cells": [
  {
   "cell_type": "markdown",
   "metadata": {},
   "source": [
    "# All about abstract classes and interface in Python\n",
    "\n",
    "### What is interfaces in OOP?\n",
    "\n",
    "* At high level, an **interface acts as blueprint** for designing classes. Like class, **interfaces define methods, unlike class, these methods are abstract**.\n",
    "* An abstract method is the one that interface simply defines. It's doesn't **implement** methods.\n",
    "\n",
    "### Python interfaces\n",
    "\n",
    "* Python doesn't have *interface* keyword. So, Python's approach to interface design is somewhat different when compare to other languages."
   ]
  },
  {
   "cell_type": "code",
   "execution_count": 19,
   "metadata": {},
   "outputs": [
    {
     "name": "stdout",
     "output_type": "stream",
     "text": [
      "True\n",
      "True\n"
     ]
    }
   ],
   "source": [
    "# Informal interface implement in python\n",
    "class InformalPersonInterface:\n",
    "    def name(self, name: str):\n",
    "        pass\n",
    "    \n",
    "    def job(self, job: str):\n",
    "        pass\n",
    "    \n",
    "\n",
    "class Employee(InformalPersonInterface):\n",
    "    def name(self, name: str):\n",
    "        \"\"\"Override the name method of InformalPersonInterface.\"\"\"\n",
    "        pass\n",
    "    \n",
    "    def job(self, age: int):\n",
    "        \"\"\"Override the job method of InformalPersonInterface.\"\"\"\n",
    "        pass\n",
    "\n",
    "    \n",
    "class AnotherEmployee(InformalPersonInterface):\n",
    "    def name():\n",
    "        \"\"\"Override the name method of InformalPerson\"\"\"\n",
    "        pass\n",
    "    \n",
    "    def age(self, age: int):\n",
    "        \"\"\"AnotherEmployee's method.\"\"\"\n",
    "        pass\n",
    "\n",
    "print(issubclass(Employee, InformalPersonInterface))  # Employee is subclass of Person\n",
    "print(issubclass(AnotherEmployee, InformalPersonInterface))\n",
    "# isinstance(Employee, Person)"
   ]
  },
  {
   "cell_type": "code",
   "execution_count": 20,
   "metadata": {},
   "outputs": [
    {
     "data": {
      "text/plain": [
       "(__main__.Employee, __main__.InformalPersonInterface, object)"
      ]
     },
     "execution_count": 20,
     "metadata": {},
     "output_type": "execute_result"
    }
   ],
   "source": [
    "# to see Employee Method Resolution Order(__mro__)\n",
    "Employee.__mro__"
   ]
  },
  {
   "cell_type": "markdown",
   "metadata": {},
   "source": [
    "### Using virtual base classes\n",
    "* The key difference between virtual base classes and standard subclasses is these use the .__subclasscheck__() dunder method to implicitly check if a class is a virtual subclass of the superclass"
   ]
  },
  {
   "cell_type": "code",
   "execution_count": 24,
   "metadata": {},
   "outputs": [
    {
     "name": "stdout",
     "output_type": "stream",
     "text": [
      "True\n",
      "False\n"
     ]
    }
   ],
   "source": [
    "# rewriting Person using metaclass\n",
    "# The idea is subclass will return False when implementing class \n",
    "# doesn't define all of interface abstract methods.\n",
    "# To do this, now we create a class call MetaPerson will override \n",
    "# two dunder methods:\n",
    "# __instancecheck__()\n",
    "# __subclasscheck__()\n",
    "\n",
    "class InformalPersonMetaInterface(type):\n",
    "    def __instancecheck__(cls, instance):\n",
    "        return cls.__subclasscheck__(type(instance))\n",
    "    \n",
    "    def __subclasscheck__(cls, subclass):\n",
    "        return hasattr(subclass, 'name') and callable(subclass.name) and hasattr(subclass, 'job') and callable(subclass.job)\n",
    "    \n",
    "\n",
    "class UpdatedPerson(metaclass=InformalPersonMetaInterface):\n",
    "    pass\n",
    "\n",
    "\n",
    "class UpdatedEmployee:\n",
    "    def name(self, name: str):\n",
    "        pass\n",
    "    \n",
    "    def job(self, job: str):\n",
    "        pass\n",
    "\n",
    "    \n",
    "print(issubclass(UpdatedEmployee, UpdatedPerson))  # return True\n",
    "\n",
    "\n",
    "class AnotherEmployee:\n",
    "    def name(self, name: str):\n",
    "        pass\n",
    "    \n",
    "    def age(self, age: int):\n",
    "        pass\n",
    "\n",
    "print(issubclass(AnotherEmployee, UpdatedPerson))  # return False\n"
   ]
  },
  {
   "cell_type": "markdown",
   "metadata": {},
   "source": [
    "### Formal interface\n",
    "* Use abc module to implement the abstract classes and interfaces.\n",
    "\n"
   ]
  },
  {
   "cell_type": "code",
   "execution_count": 25,
   "metadata": {},
   "outputs": [
    {
     "name": "stdout",
     "output_type": "stream",
     "text": [
      "True\n",
      "False\n",
      "True\n"
     ]
    }
   ],
   "source": [
    "import abc\n",
    "\n",
    "\n",
    "# use __subclasshook__\n",
    "class FormalPersonInterface(metaclass=abc.ABCMeta):\n",
    "    @classmethod\n",
    "    def __subclasshook__(cls, subclass):\n",
    "        return hasattr(subclass, 'name') and callable(subclass.name) and hasattr(subclass, 'job') and callable(subclass.job)\n",
    "    \n",
    "\n",
    "class FormalEmployee:\n",
    "    def name(self, name: str):\n",
    "        pass\n",
    "    \n",
    "    def job(self, job: str):\n",
    "        pass\n",
    "\n",
    "    \n",
    "class AnotherFormalEmployee:\n",
    "    def name(self, name: str):\n",
    "        pass\n",
    "    \n",
    "    def age(self, age: int):\n",
    "        pass\n",
    "    \n",
    "\n",
    "print(issubclass(FormalEmployee, FormalPersonInterface))  # True\n",
    "print(issubclass(AnotherFormalEmployee, FormalPersonInterface))  # False\n",
    "\n",
    "\n",
    "# Once you've imported  the abc module, you can directly a virtual subclass by using \n",
    "# the .register() metamethod.\n",
    "class EmployeeMeta(metaclass=abc.ABCMeta):\n",
    "    pass\n",
    "\n",
    "\n",
    "EmployeeMeta.register(str)  \n",
    "\n",
    "print(issubclass(str, EmployeeMeta))  # True"
   ]
  },
  {
   "cell_type": "markdown",
   "metadata": {},
   "source": [
    "#### Using subclass detection with registration\n",
    "* You must be careful when you're combining .__subclasshook__() with .register() as .__subclasshook__() takes precedence over virtual subclass registration.\n",
    "* To ensure that the registrated virtual subclasses are taken into consideration, you must add **NotImplemented** to the .__subclasshook__() dunder method\n"
   ]
  },
  {
   "cell_type": "code",
   "execution_count": 27,
   "metadata": {},
   "outputs": [
    {
     "name": "stdout",
     "output_type": "stream",
     "text": [
      "True\n",
      "True\n",
      "True\n"
     ]
    }
   ],
   "source": [
    "import abc\n",
    "\n",
    "\n",
    "# use subclass detection with registration\n",
    "class PersonInterface(metaclass=abc.ABCMeta):\n",
    "    @classmethod\n",
    "    def __subclasshook__(cls, subclass):\n",
    "        return hasattr(subclass, 'name') and callable(subclass.name) and hasattr(subclass, 'job') and callable(subclass.job) or NotImplemented\n",
    "\n",
    "\n",
    "class NewEmployee:\n",
    "    def name(self, name: str):\n",
    "        pass\n",
    "    \n",
    "    def job(self, job: str):\n",
    "        pass\n",
    "\n",
    "\n",
    "print(issubclass(NewEmployee, Person))\n",
    "\n",
    "\n",
    "# AnotherNewEmployee now is a virtual subclass of PersonInterface\n",
    "@PersonInterface.register\n",
    "class AnotherNewEmployee:\n",
    "    \"\"\"AnotherNewEmployee doesn't have job method.\"\"\"\n",
    "    def name(self, name: str):\n",
    "        pass\n",
    "    \n",
    "    def age(self, age: int):\n",
    "        pass\n",
    "\n",
    "\n",
    "print(issubclass(NewEmployee, PersonInterface))  # True\n",
    "print(issubclass(AnotherNewEmployee, PersonInterface))  # True => this is not what you want to see\n"
   ]
  },
  {
   "cell_type": "markdown",
   "metadata": {},
   "source": [
    "#### Using abstract method declaration\n",
    "* An abstract method is a method that's declared by the Python interface, but it may not have a useful implementation.\n",
    "* The abstract method must be overriden by the concrete class that implements the interface questions.\n",
    "* To create abstract methods in Python, you must add @abc.abstractmethod decorator to the interface's method."
   ]
  },
  {
   "cell_type": "code",
   "execution_count": 30,
   "metadata": {},
   "outputs": [
    {
     "ename": "TypeError",
     "evalue": "Can't instantiate abstract class AnotherFormalEmployee with abstract methods job",
     "output_type": "error",
     "traceback": [
      "\u001b[0;31m---------------------------------------------------------------------------\u001b[0m",
      "\u001b[0;31mTypeError\u001b[0m                                 Traceback (most recent call last)",
      "\u001b[0;32m<ipython-input-30-99d8547992d7>\u001b[0m in \u001b[0;36m<module>\u001b[0;34m\u001b[0m\n\u001b[1;32m     37\u001b[0m \u001b[0;34m\u001b[0m\u001b[0m\n\u001b[1;32m     38\u001b[0m \u001b[0memp1\u001b[0m \u001b[0;34m=\u001b[0m \u001b[0mFormalEmployee\u001b[0m\u001b[0;34m(\u001b[0m\u001b[0;34m)\u001b[0m  \u001b[0;31m# ok\u001b[0m\u001b[0;34m\u001b[0m\u001b[0;34m\u001b[0m\u001b[0m\n\u001b[0;32m---> 39\u001b[0;31m \u001b[0memp2\u001b[0m \u001b[0;34m=\u001b[0m \u001b[0mAnotherFormalEmployee\u001b[0m\u001b[0;34m(\u001b[0m\u001b[0;34m)\u001b[0m  \u001b[0;31m# raise error\u001b[0m\u001b[0;34m\u001b[0m\u001b[0;34m\u001b[0m\u001b[0m\n\u001b[0m",
      "\u001b[0;31mTypeError\u001b[0m: Can't instantiate abstract class AnotherFormalEmployee with abstract methods job"
     ]
    }
   ],
   "source": [
    "import abc\n",
    "\n",
    "\n",
    "class FormalPersonInterface(metaclass=abc.ABCMeta):\n",
    "    @classmethod\n",
    "    def __subclasshook__(cls, subclass):\n",
    "        return hasattr(subclass, 'name') and callable(subclass.name) and hasattr(subclass, 'job') and callable(subclass.job) or NotImplemented\n",
    "    \n",
    "    @abc.abstractmethod\n",
    "    def name(self, name: str):\n",
    "        \"\"\"Raise error if it isn't be orverriden.\"\"\"\n",
    "        raise NotImplemented\n",
    "    \n",
    "    @abc.abstractmethod\n",
    "    def job(self, job: str):\n",
    "        \"\"\"Raise error if it isn't be orverriden.\"\"\"\n",
    "        raise NotImplemented \n",
    "\n",
    "\n",
    "class FormalEmployee(FormalPersonInterface):\n",
    "    \"\"\"All methods are inherited from FormalPersonInterface are overriden\"\"\"\n",
    "    def name(self, name: str):\n",
    "        pass\n",
    "    \n",
    "    def job(self, job: str):\n",
    "        pass\n",
    "\n",
    "\n",
    "class AnotherFormalEmployee(FormalPersonInterface):\n",
    "    \"\"\"All methods are inherited from FormalPersonInterface aren't overriden.\"\"\"\n",
    "    def name(self, name: str):\n",
    "        pass\n",
    "    \n",
    "    def age(self, age: int):\n",
    "        pass\n",
    "\n",
    "\n",
    "emp1 = FormalEmployee()  # ok\n",
    "emp2 = AnotherFormalEmployee()  # raise error"
   ]
  },
  {
   "cell_type": "markdown",
   "metadata": {},
   "source": [
    "* In the example above, you've finally created a formal interface that will raise errors when abstract methods aren't overriden"
   ]
  },
  {
   "cell_type": "code",
   "execution_count": null,
   "metadata": {},
   "outputs": [],
   "source": []
  }
 ],
 "metadata": {
  "kernelspec": {
   "display_name": "Python 3",
   "language": "python",
   "name": "python3"
  },
  "language_info": {
   "codemirror_mode": {
    "name": "ipython",
    "version": 3
   },
   "file_extension": ".py",
   "mimetype": "text/x-python",
   "name": "python",
   "nbconvert_exporter": "python",
   "pygments_lexer": "ipython3",
   "version": "3.8.5"
  },
  "latex_envs": {
   "LaTeX_envs_menu_present": true,
   "autoclose": false,
   "autocomplete": true,
   "bibliofile": "biblio.bib",
   "cite_by": "apalike",
   "current_citInitial": 1,
   "eqLabelWithNumbers": true,
   "eqNumInitial": 1,
   "hotkeys": {
    "equation": "Ctrl-E",
    "itemize": "Ctrl-I"
   },
   "labels_anchors": false,
   "latex_user_defs": false,
   "report_style_numbering": false,
   "user_envs_cfg": false
  }
 },
 "nbformat": 4,
 "nbformat_minor": 4
}
