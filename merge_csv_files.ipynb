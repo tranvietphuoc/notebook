{
 "cells": [
  {
   "cell_type": "code",
   "execution_count": 1,
   "metadata": {},
   "outputs": [
    {
     "name": "stdout",
     "output_type": "stream",
     "text": [
      "['200619_Hồ Chí Minh.csv', '200618_Hồ Chí Minh.csv', '200617_Hồ Chí Minh.csv', '200616_Hồ Chí Minh.csv', '200615_Hồ Chí Minh.csv', '200614_Hồ Chí Minh.csv', '200613_Hồ Chí Minh.csv', '200612_Hồ Chí Minh.csv', '200611_Hồ Chí Minh.csv', '200610_Hồ Chí Minh.csv', '200620_Hồ Chí Minh.csv', '200621_Hồ Chí Minh.csv', '200622_Hồ Chí Minh.csv', '200623_Hồ Chí Minh.csv', '200624_Hồ Chí Minh.csv', '200625_Hồ Chí Minh.csv', '200626_Hồ Chí Minh.csv', '200627_Ho_Chi_Minh.csv', '200628_Ho_Chi_Minh.csv', '200629_Ho_Chi_Minh.csv', '200630_Ho_Chi_Minh.csv', '200701_Ho_Chi_Minh.csv', '200702_Ho_Chi_Minh.csv']\n",
      "Done!\n"
     ]
    }
   ],
   "source": [
    "import os\n",
    "import glob\n",
    "import pandas as pd\n",
    "\n",
    "\n",
    "os.chdir('/Volumes/UNTITLED/')\n",
    "\n",
    "extension = 'csv'\n",
    "all_filenames = [i for i in glob.glob('*.{}'.format(extension))]\n",
    "print(all_filenames)\n",
    "\n",
    "# read and concatenate all csv files\n",
    "combine_csv = pd.concat([pd.read_csv(f) for f in all_filenames])\n",
    "# export to csv\n",
    "combine_csv.to_csv('data_lastmile_10.06-02.07.csv', index=False, encoding='utf-8-sig')\n",
    "print(\"Done!\")\n"
   ]
  },
  {
   "cell_type": "code",
   "execution_count": null,
   "metadata": {},
   "outputs": [],
   "source": []
  }
 ],
 "metadata": {
  "kernelspec": {
   "display_name": "Python 3",
   "language": "python",
   "name": "python3"
  },
  "language_info": {
   "codemirror_mode": {
    "name": "ipython",
    "version": 3
   },
   "file_extension": ".py",
   "mimetype": "text/x-python",
   "name": "python",
   "nbconvert_exporter": "python",
   "pygments_lexer": "ipython3",
   "version": "3.8.3"
  }
 },
 "nbformat": 4,
 "nbformat_minor": 4
}
