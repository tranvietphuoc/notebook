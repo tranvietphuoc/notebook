{
 "cells": [
  {
   "cell_type": "code",
   "execution_count": 1,
   "id": "7438be9c-5d6f-4a39-ae47-6f448b55a3bb",
   "metadata": {},
   "outputs": [
    {
     "name": "stdout",
     "output_type": "stream",
     "text": [
      "Collecting openpyxl\n",
      "  Downloading openpyxl-3.0.10-py2.py3-none-any.whl (242 kB)\n",
      "     |████████████████████████████████| 242 kB 1.5 MB/s            \n",
      "\u001b[?25hCollecting et-xmlfile\n",
      "  Downloading et_xmlfile-1.1.0-py3-none-any.whl (4.7 kB)\n",
      "Installing collected packages: et-xmlfile, openpyxl\n",
      "Successfully installed et-xmlfile-1.1.0 openpyxl-3.0.10\n"
     ]
    }
   ],
   "source": [
    "!pip install openpyxl"
   ]
  },
  {
   "cell_type": "code",
   "execution_count": 2,
   "id": "c3057d75-58d9-4d44-b52b-f4fc67217a95",
   "metadata": {},
   "outputs": [],
   "source": [
    "import pandas as pd\n",
    "import numpy as np\n",
    "import os\n",
    "import glob\n",
    "\n",
    "\n"
   ]
  },
  {
   "cell_type": "code",
   "execution_count": 3,
   "id": "ab6f1b81-d649-41dc-a4e8-5bcf05a09c6f",
   "metadata": {},
   "outputs": [],
   "source": [
    "os.chdir('new-data')\n"
   ]
  },
  {
   "cell_type": "code",
   "execution_count": 4,
   "id": "5df6298f-e890-4771-b0af-49f569ae900a",
   "metadata": {},
   "outputs": [
    {
     "data": {
      "text/plain": [
       "['.DS_Store',\n",
       " '22.8.xlsx',\n",
       " 'anh-tham',\n",
       " 'data.zip',\n",
       " 'fahasa',\n",
       " 'new-outcome',\n",
       " 'njv-total.xlsx',\n",
       " 'sent-phones.xlsx',\n",
       " 'snappy-total.xlsx']"
      ]
     },
     "execution_count": 4,
     "metadata": {},
     "output_type": "execute_result"
    }
   ],
   "source": [
    "os.listdir()"
   ]
  },
  {
   "cell_type": "code",
   "execution_count": 5,
   "id": "f0d92ec4-c1f3-472f-85c0-a722612723a8",
   "metadata": {},
   "outputs": [],
   "source": [
    "snp = pd.read_excel('snappy-total.xlsx')"
   ]
  },
  {
   "cell_type": "code",
   "execution_count": 7,
   "id": "047edbf8-19e4-47ca-b361-3edfa6816e51",
   "metadata": {},
   "outputs": [],
   "source": [
    "snp.drop(['Unnamed: 0'], inplace=True, axis=1)"
   ]
  },
  {
   "cell_type": "code",
   "execution_count": 11,
   "id": "24120e95-5d1e-4443-820d-641b9f872dcf",
   "metadata": {},
   "outputs": [],
   "source": [
    "snp.drop_duplicates(subset=['To Contact'], inplace=True)"
   ]
  },
  {
   "cell_type": "code",
   "execution_count": 12,
   "id": "25ccfcc7-36fc-4955-8a49-75638b216277",
   "metadata": {},
   "outputs": [
    {
     "data": {
      "text/plain": [
       "True"
      ]
     },
     "execution_count": 12,
     "metadata": {},
     "output_type": "execute_result"
    }
   ],
   "source": [
    "snp['To Contact'].is_unique"
   ]
  },
  {
   "cell_type": "code",
   "execution_count": 16,
   "id": "af64227c-3274-43d4-8645-eeba19213e5b",
   "metadata": {},
   "outputs": [
    {
     "data": {
      "text/html": [
       "<div>\n",
       "<style scoped>\n",
       "    .dataframe tbody tr th:only-of-type {\n",
       "        vertical-align: middle;\n",
       "    }\n",
       "\n",
       "    .dataframe tbody tr th {\n",
       "        vertical-align: top;\n",
       "    }\n",
       "\n",
       "    .dataframe thead th {\n",
       "        text-align: right;\n",
       "    }\n",
       "</style>\n",
       "<table border=\"1\" class=\"dataframe\">\n",
       "  <thead>\n",
       "    <tr style=\"text-align: right;\">\n",
       "      <th></th>\n",
       "      <th>To Name</th>\n",
       "      <th>To Contact</th>\n",
       "      <th>To Address</th>\n",
       "      <th>To Province</th>\n",
       "      <th>To District</th>\n",
       "      <th>sent</th>\n",
       "    </tr>\n",
       "  </thead>\n",
       "  <tbody>\n",
       "    <tr>\n",
       "      <th>0</th>\n",
       "      <td>Long</td>\n",
       "      <td>0798310266</td>\n",
       "      <td>khách sạn hải yến đi lên ngã 3 tân cánh rẽ...</td>\n",
       "      <td>Quảng Ninh</td>\n",
       "      <td>Thành phố Cẩm Phả</td>\n",
       "      <td>False</td>\n",
       "    </tr>\n",
       "    <tr>\n",
       "      <th>1</th>\n",
       "      <td>Có Phạm Văn</td>\n",
       "      <td>0378136244</td>\n",
       "      <td>Khánh Bình 05 - Phường Khánh Bình, Thị xã Tân ...</td>\n",
       "      <td>Bình Dương</td>\n",
       "      <td>Thị xã Tân Uyên</td>\n",
       "      <td>False</td>\n",
       "    </tr>\n",
       "    <tr>\n",
       "      <th>2</th>\n",
       "      <td>Phiowng Thuý Hà</td>\n",
       "      <td>0379195023</td>\n",
       "      <td>Cây xăng Cẩm Đông - Phường Cẩm Đông, Thành phố...</td>\n",
       "      <td>Quảng Ninh</td>\n",
       "      <td>Thành phố Cẩm Phả</td>\n",
       "      <td>False</td>\n",
       "    </tr>\n",
       "    <tr>\n",
       "      <th>3</th>\n",
       "      <td>Thanh Vân Nguyễn</td>\n",
       "      <td>0936930336</td>\n",
       "      <td>Sau shop Linh Nguyên - Phường Cẩm Tây, Thành p...</td>\n",
       "      <td>Quảng Ninh</td>\n",
       "      <td>Thành phố Cẩm Phả</td>\n",
       "      <td>True</td>\n",
       "    </tr>\n",
       "    <tr>\n",
       "      <th>4</th>\n",
       "      <td>Face Tran Sau</td>\n",
       "      <td>0398498811</td>\n",
       "      <td>Cẩm phả - Phường Cẩm Đông, Thành phố Cẩm Phả, ...</td>\n",
       "      <td>Quảng Ninh</td>\n",
       "      <td>Thành phố Cẩm Phả</td>\n",
       "      <td>False</td>\n",
       "    </tr>\n",
       "  </tbody>\n",
       "</table>\n",
       "</div>"
      ],
      "text/plain": [
       "            To Name  To Contact  \\\n",
       "0              Long  0798310266   \n",
       "1       Có Phạm Văn  0378136244   \n",
       "2   Phiowng Thuý Hà  0379195023   \n",
       "3  Thanh Vân Nguyễn  0936930336   \n",
       "4     Face Tran Sau  0398498811   \n",
       "\n",
       "                                          To Address To Province  \\\n",
       "0  khách sạn hải yến đi lên ngã 3 tân cánh rẽ...  Quảng Ninh   \n",
       "1  Khánh Bình 05 - Phường Khánh Bình, Thị xã Tân ...  Bình Dương   \n",
       "2  Cây xăng Cẩm Đông - Phường Cẩm Đông, Thành phố...  Quảng Ninh   \n",
       "3  Sau shop Linh Nguyên - Phường Cẩm Tây, Thành p...  Quảng Ninh   \n",
       "4  Cẩm phả - Phường Cẩm Đông, Thành phố Cẩm Phả, ...  Quảng Ninh   \n",
       "\n",
       "         To District   sent  \n",
       "0  Thành phố Cẩm Phả  False  \n",
       "1    Thị xã Tân Uyên  False  \n",
       "2  Thành phố Cẩm Phả  False  \n",
       "3  Thành phố Cẩm Phả   True  \n",
       "4  Thành phố Cẩm Phả  False  "
      ]
     },
     "execution_count": 16,
     "metadata": {},
     "output_type": "execute_result"
    }
   ],
   "source": [
    "snp.head()"
   ]
  },
  {
   "cell_type": "code",
   "execution_count": 20,
   "id": "abc374f7-c2e6-477b-b23c-370f7e93c4ed",
   "metadata": {},
   "outputs": [],
   "source": [
    "isp_maps = {\n",
    "    70: 'Mobifone',\n",
    "    79: 'Mobifone',\n",
    "    77: 'Mobifone',\n",
    "    76: 'Mobifone',\n",
    "    78: 'Mobifone',\n",
    "    32: 'Viettel',\n",
    "    33: 'Viettel',\n",
    "    34: 'Viettel',\n",
    "    35: 'Viettel',\n",
    "    36: 'Viettel',\n",
    "    37: 'Viettel',\n",
    "    38: 'Viettel',\n",
    "    39: 'Viettel',\n",
    "    83: 'Vinaphone',\n",
    "    84: 'Vinaphone',\n",
    "    85: 'Vinaphone',\n",
    "    81: 'Vinaphone',\n",
    "    82: 'Vinaphone',\n",
    "    97: 'Viettel',\n",
    "    90: 'Mobifone',\n",
    "    93: 'Mobifone',\n",
    "    96: 'Viettel',\n",
    "    98: 'Viettel',\n",
    "    91: 'Vinaphone',\n",
    "    92: 'Vietnammobile',\n",
    "    94: 'Vinaphone',\n",
    "    89: 'Mobifone',\n",
    "    88: 'Vinaphone',\n",
    "    86: 'Viettel',\n",
    "    55: 'Vietnammobile',\n",
    "    56: 'Vietnammobile',\n",
    "    58: 'Vietnammobile',\n",
    "    87: 'I-telecom',\n",
    "    52: 'Vietnammobile'\n",
    "}\n",
    "\n",
    "\n",
    "def get_isp_name(maps, string):\n",
    "    # get isp name from mapping dict\n",
    "    try:\n",
    "        return maps.get(int(string[1:3]), np.nan)\n",
    "    except ValueError:\n",
    "        return np.nan"
   ]
  },
  {
   "cell_type": "code",
   "execution_count": 21,
   "id": "a09bdd36-1100-4fde-80c1-711ba8ad1d72",
   "metadata": {},
   "outputs": [],
   "source": [
    "snp['ISP'] = snp['To Contact'].astype('str').apply(lambda x: get_isp_name(isp_maps, x))\n"
   ]
  },
  {
   "cell_type": "code",
   "execution_count": 22,
   "id": "27d5ef00-8e1f-4bfe-a87b-2512408ee5ed",
   "metadata": {},
   "outputs": [
    {
     "data": {
      "text/html": [
       "<div>\n",
       "<style scoped>\n",
       "    .dataframe tbody tr th:only-of-type {\n",
       "        vertical-align: middle;\n",
       "    }\n",
       "\n",
       "    .dataframe tbody tr th {\n",
       "        vertical-align: top;\n",
       "    }\n",
       "\n",
       "    .dataframe thead th {\n",
       "        text-align: right;\n",
       "    }\n",
       "</style>\n",
       "<table border=\"1\" class=\"dataframe\">\n",
       "  <thead>\n",
       "    <tr style=\"text-align: right;\">\n",
       "      <th></th>\n",
       "      <th>To Name</th>\n",
       "      <th>To Contact</th>\n",
       "      <th>To Address</th>\n",
       "      <th>To Province</th>\n",
       "      <th>To District</th>\n",
       "      <th>sent</th>\n",
       "      <th>ISP</th>\n",
       "    </tr>\n",
       "  </thead>\n",
       "  <tbody>\n",
       "    <tr>\n",
       "      <th>0</th>\n",
       "      <td>Long</td>\n",
       "      <td>0798310266</td>\n",
       "      <td>khách sạn hải yến đi lên ngã 3 tân cánh rẽ...</td>\n",
       "      <td>Quảng Ninh</td>\n",
       "      <td>Thành phố Cẩm Phả</td>\n",
       "      <td>False</td>\n",
       "      <td>Mobifone</td>\n",
       "    </tr>\n",
       "    <tr>\n",
       "      <th>1</th>\n",
       "      <td>Có Phạm Văn</td>\n",
       "      <td>0378136244</td>\n",
       "      <td>Khánh Bình 05 - Phường Khánh Bình, Thị xã Tân ...</td>\n",
       "      <td>Bình Dương</td>\n",
       "      <td>Thị xã Tân Uyên</td>\n",
       "      <td>False</td>\n",
       "      <td>Viettel</td>\n",
       "    </tr>\n",
       "    <tr>\n",
       "      <th>2</th>\n",
       "      <td>Phiowng Thuý Hà</td>\n",
       "      <td>0379195023</td>\n",
       "      <td>Cây xăng Cẩm Đông - Phường Cẩm Đông, Thành phố...</td>\n",
       "      <td>Quảng Ninh</td>\n",
       "      <td>Thành phố Cẩm Phả</td>\n",
       "      <td>False</td>\n",
       "      <td>Viettel</td>\n",
       "    </tr>\n",
       "    <tr>\n",
       "      <th>3</th>\n",
       "      <td>Thanh Vân Nguyễn</td>\n",
       "      <td>0936930336</td>\n",
       "      <td>Sau shop Linh Nguyên - Phường Cẩm Tây, Thành p...</td>\n",
       "      <td>Quảng Ninh</td>\n",
       "      <td>Thành phố Cẩm Phả</td>\n",
       "      <td>True</td>\n",
       "      <td>Mobifone</td>\n",
       "    </tr>\n",
       "    <tr>\n",
       "      <th>4</th>\n",
       "      <td>Face Tran Sau</td>\n",
       "      <td>0398498811</td>\n",
       "      <td>Cẩm phả - Phường Cẩm Đông, Thành phố Cẩm Phả, ...</td>\n",
       "      <td>Quảng Ninh</td>\n",
       "      <td>Thành phố Cẩm Phả</td>\n",
       "      <td>False</td>\n",
       "      <td>Viettel</td>\n",
       "    </tr>\n",
       "  </tbody>\n",
       "</table>\n",
       "</div>"
      ],
      "text/plain": [
       "            To Name  To Contact  \\\n",
       "0              Long  0798310266   \n",
       "1       Có Phạm Văn  0378136244   \n",
       "2   Phiowng Thuý Hà  0379195023   \n",
       "3  Thanh Vân Nguyễn  0936930336   \n",
       "4     Face Tran Sau  0398498811   \n",
       "\n",
       "                                          To Address To Province  \\\n",
       "0  khách sạn hải yến đi lên ngã 3 tân cánh rẽ...  Quảng Ninh   \n",
       "1  Khánh Bình 05 - Phường Khánh Bình, Thị xã Tân ...  Bình Dương   \n",
       "2  Cây xăng Cẩm Đông - Phường Cẩm Đông, Thành phố...  Quảng Ninh   \n",
       "3  Sau shop Linh Nguyên - Phường Cẩm Tây, Thành p...  Quảng Ninh   \n",
       "4  Cẩm phả - Phường Cẩm Đông, Thành phố Cẩm Phả, ...  Quảng Ninh   \n",
       "\n",
       "         To District   sent       ISP  \n",
       "0  Thành phố Cẩm Phả  False  Mobifone  \n",
       "1    Thị xã Tân Uyên  False   Viettel  \n",
       "2  Thành phố Cẩm Phả  False   Viettel  \n",
       "3  Thành phố Cẩm Phả   True  Mobifone  \n",
       "4  Thành phố Cẩm Phả  False   Viettel  "
      ]
     },
     "execution_count": 22,
     "metadata": {},
     "output_type": "execute_result"
    }
   ],
   "source": [
    "snp.head()"
   ]
  },
  {
   "cell_type": "code",
   "execution_count": 23,
   "id": "2cb67d5c-2586-4710-a64f-fc7b438b4828",
   "metadata": {},
   "outputs": [],
   "source": [
    "snp.drop(['sent'], inplace=True, axis=1)"
   ]
  },
  {
   "cell_type": "code",
   "execution_count": 25,
   "id": "c7b155c7-0936-4668-9b27-2b77bde40c0b",
   "metadata": {},
   "outputs": [
    {
     "data": {
      "text/plain": [
       "True"
      ]
     },
     "execution_count": 25,
     "metadata": {},
     "output_type": "execute_result"
    }
   ],
   "source": [
    "snp['To Contact'].is_unique"
   ]
  },
  {
   "cell_type": "code",
   "execution_count": 26,
   "id": "90ad9b33-3ecc-49b2-a782-20d341d2075c",
   "metadata": {},
   "outputs": [],
   "source": [
    "hcm = snp[snp['To Province'] == 'Hồ Chí Minh']"
   ]
  },
  {
   "cell_type": "code",
   "execution_count": 27,
   "id": "cd402fb4-5d9b-4ec5-a36f-2d1ee241d573",
   "metadata": {},
   "outputs": [
    {
     "name": "stdout",
     "output_type": "stream",
     "text": [
      "<class 'pandas.core.frame.DataFrame'>\n",
      "Int64Index: 161809 entries, 9 to 889914\n",
      "Data columns (total 6 columns):\n",
      " #   Column       Non-Null Count   Dtype \n",
      "---  ------       --------------   ----- \n",
      " 0   To Name      161809 non-null  object\n",
      " 1   To Contact   161809 non-null  object\n",
      " 2   To Address   161809 non-null  object\n",
      " 3   To Province  161809 non-null  object\n",
      " 4   To District  161809 non-null  object\n",
      " 5   ISP          161582 non-null  object\n",
      "dtypes: object(6)\n",
      "memory usage: 8.6+ MB\n"
     ]
    }
   ],
   "source": [
    "hcm.info()"
   ]
  },
  {
   "cell_type": "code",
   "execution_count": 29,
   "id": "a22fe906-edeb-4ede-b847-36695e6b10d5",
   "metadata": {},
   "outputs": [
    {
     "data": {
      "text/plain": [
       "True"
      ]
     },
     "execution_count": 29,
     "metadata": {},
     "output_type": "execute_result"
    }
   ],
   "source": [
    "hcm['To Contact'].is_unique"
   ]
  },
  {
   "cell_type": "code",
   "execution_count": 30,
   "id": "0b787c9c-7f9b-4c98-a8a5-d65ea76a8d53",
   "metadata": {},
   "outputs": [],
   "source": [
    "def split_df(df, chunksize=10000):\n",
    "    chunks = []\n",
    "    num_chunks = len(df) // chunksize + 1\n",
    "    for i in range(num_chunks):\n",
    "        chunks.append(df[i*chunksize:(i+1)*chunksize])\n",
    "    return chunks\n",
    "\n",
    "# chunksize = 10000\n",
    "# chunks = len(data) // chunksize\n",
    "chunks = split_df(hcm)\n",
    "\n"
   ]
  },
  {
   "cell_type": "code",
   "execution_count": 32,
   "id": "113a703e-ff8a-491c-a0f6-13d6814f4538",
   "metadata": {},
   "outputs": [
    {
     "data": {
      "text/plain": [
       "17"
      ]
     },
     "execution_count": 32,
     "metadata": {},
     "output_type": "execute_result"
    }
   ],
   "source": [
    "len(chunks)"
   ]
  },
  {
   "cell_type": "code",
   "execution_count": null,
   "id": "21f26e5a-638c-4eea-88d3-9d074e8596a0",
   "metadata": {},
   "outputs": [],
   "source": [
    "i = 0\n",
    "for chunk in chunks:\n",
    "    chunk.to_excel('hcm-{:02d}.xlsx'.format(i), index=False)\n",
    "    i += 1"
   ]
  }
 ],
 "metadata": {
  "kernelspec": {
   "display_name": "Python 3 (ipykernel)",
   "language": "python",
   "name": "python3"
  },
  "language_info": {
   "codemirror_mode": {
    "name": "ipython",
    "version": 3
   },
   "file_extension": ".py",
   "mimetype": "text/x-python",
   "name": "python",
   "nbconvert_exporter": "python",
   "pygments_lexer": "ipython3",
   "version": "3.10.6"
  }
 },
 "nbformat": 4,
 "nbformat_minor": 5
}
