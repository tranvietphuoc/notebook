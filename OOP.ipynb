{
 "cells": [
  {
   "cell_type": "code",
   "execution_count": 18,
   "metadata": {
    "scrolled": true
   },
   "outputs": [
    {
     "name": "stdout",
     "output_type": "stream",
     "text": [
      "None\n"
     ]
    },
    {
     "ename": "ValueError",
     "evalue": "This is constant, cannot be changed!",
     "output_type": "error",
     "traceback": [
      "\u001b[0;31m---------------------------------------------------------------------------\u001b[0m",
      "\u001b[0;31mValueError\u001b[0m                                Traceback (most recent call last)",
      "\u001b[0;32m<ipython-input-18-fbc41372ff79>\u001b[0m in \u001b[0;36m<module>\u001b[0;34m\u001b[0m\n\u001b[1;32m     21\u001b[0m \u001b[0mc\u001b[0m\u001b[0;34m=\u001b[0m\u001b[0mConstant\u001b[0m\u001b[0;34m(\u001b[0m\u001b[0;34m)\u001b[0m\u001b[0;34m\u001b[0m\u001b[0;34m\u001b[0m\u001b[0m\n\u001b[1;32m     22\u001b[0m \u001b[0mprint\u001b[0m\u001b[0;34m(\u001b[0m\u001b[0mc\u001b[0m\u001b[0;34m.\u001b[0m\u001b[0mCONST\u001b[0m\u001b[0;34m)\u001b[0m\u001b[0;34m\u001b[0m\u001b[0;34m\u001b[0m\u001b[0m\n\u001b[0;32m---> 23\u001b[0;31m \u001b[0mc\u001b[0m\u001b[0;34m.\u001b[0m\u001b[0mCONST\u001b[0m\u001b[0;34m=\u001b[0m\u001b[0;36m3\u001b[0m  \u001b[0;31m# Error will appear here\u001b[0m\u001b[0;34m\u001b[0m\u001b[0;34m\u001b[0m\u001b[0m\n\u001b[0m\u001b[1;32m     24\u001b[0m \u001b[0mprint\u001b[0m\u001b[0;34m(\u001b[0m\u001b[0mc\u001b[0m\u001b[0;34m.\u001b[0m\u001b[0mCONST\u001b[0m\u001b[0;34m)\u001b[0m\u001b[0;34m\u001b[0m\u001b[0;34m\u001b[0m\u001b[0m\n\u001b[1;32m     25\u001b[0m \u001b[0;34m\u001b[0m\u001b[0m\n",
      "\u001b[0;32m<ipython-input-18-fbc41372ff79>\u001b[0m in \u001b[0;36m__set__\u001b[0;34m(self, instance, value)\u001b[0m\n\u001b[1;32m     13\u001b[0m \u001b[0;34m\u001b[0m\u001b[0m\n\u001b[1;32m     14\u001b[0m     \u001b[0;32mdef\u001b[0m \u001b[0m__set__\u001b[0m\u001b[0;34m(\u001b[0m\u001b[0mself\u001b[0m\u001b[0;34m,\u001b[0m\u001b[0minstance\u001b[0m\u001b[0;34m,\u001b[0m\u001b[0mvalue\u001b[0m\u001b[0;34m)\u001b[0m\u001b[0;34m:\u001b[0m\u001b[0;34m\u001b[0m\u001b[0;34m\u001b[0m\u001b[0m\n\u001b[0;32m---> 15\u001b[0;31m         \u001b[0;32mraise\u001b[0m \u001b[0mValueError\u001b[0m\u001b[0;34m(\u001b[0m\u001b[0;34m\"This is constant, cannot be changed!\"\u001b[0m\u001b[0;34m)\u001b[0m\u001b[0;34m\u001b[0m\u001b[0;34m\u001b[0m\u001b[0m\n\u001b[0m\u001b[1;32m     16\u001b[0m \u001b[0;34m\u001b[0m\u001b[0m\n\u001b[1;32m     17\u001b[0m \u001b[0;34m\u001b[0m\u001b[0m\n",
      "\u001b[0;31mValueError\u001b[0m: This is constant, cannot be changed!"
     ]
    }
   ],
   "source": [
    "# Demonstrating how to define a constant in Python\n",
    "# By using Python descriptors\n",
    "class Const:\n",
    "    \n",
    "    # Giving default value for const attribute\n",
    "    \n",
    "    \n",
    "    def __init__(self,const=None):\n",
    "        self.const=const\n",
    "    \n",
    "    def __get__(self,instance,owner):\n",
    "        return self.const # instance.__dict__[self.const]\n",
    "    \n",
    "    def __set__(self,instance,value):\n",
    "        # use setter but does not change value\n",
    "        raise ValueError(\"This is constant, cannot be changed!\")\n",
    "        \n",
    "        \n",
    "class Constant:\n",
    "    CONST= Const()\n",
    "\n",
    "c=Constant()\n",
    "print(c.CONST)  \n",
    "c.CONST=3  # Error will appear here\n",
    "print(c.CONST)\n",
    "\n",
    "    "
   ]
  },
  {
   "cell_type": "code",
   "execution_count": 86,
   "metadata": {},
   "outputs": [
    {
     "name": "stdout",
     "output_type": "stream",
     "text": [
      "original person: Phuoc is 25 years old\n",
      "change the information:\n",
      "after changed person: Tuyen is 23 years old\n"
     ]
    }
   ],
   "source": [
    "from datetime import datetime, date\n",
    "\n",
    "# use getter, setter and deleter\n",
    "\n",
    "\n",
    "class Person:\n",
    "    \n",
    "    def __init__(self, name, birthday):\n",
    "        self.name = name\n",
    "        self.birthday = birthday   \n",
    "    \n",
    "    # calculate the age\n",
    "    def age(self):\n",
    "        current=datetime.now()\n",
    "        return current.year - self.birthday.year - ((current.month, current.day) < (self.birthday.month, self.birthday.day))\n",
    "    \n",
    "    @property\n",
    "    def info(self):\n",
    "        return \"My name is: {} and I'm {}\".format(self.name,self.birthday.strftime(\"%Y-%m-%d\"))\n",
    "    \n",
    "    # setter\n",
    "    @info.setter\n",
    "    def change_info(self, value):\n",
    "        # value with format: \"name yyyy-mm-dd\"\n",
    "        print(\"change the information:\")\n",
    "        new_name, new_birthday = value.split(' ')\n",
    "        self.name = new_name\n",
    "        year, month, day = map(int, new_birthday.split('-'))\n",
    "        self.birthday = date(year, month, day)\n",
    "    \n",
    "    #deleter\n",
    "    @info.deleter\n",
    "    def del_info(self):\n",
    "        print(\"Person's information is deleted!\")\n",
    "        del self.name\n",
    "        del self.birthday\n",
    "    \n",
    "        \n",
    "per1 = Person(\"Phuoc\", datetime(1993, 10, 10))\n",
    "print(\"original person: {} is {} years old\".format(per1.name, per1.age()))\n",
    "# change the information\n",
    "per1.change_info = \"Tuyen 1995-11-23\"\n",
    "print(\"after changed person: {} is {} years old\".format(per1.name, per1.age()))\n",
    "\n"
   ]
  },
  {
   "cell_type": "code",
   "execution_count": null,
   "metadata": {},
   "outputs": [],
   "source": []
  }
 ],
 "metadata": {
  "kernelspec": {
   "display_name": "Python 3",
   "language": "python",
   "name": "python3"
  },
  "language_info": {
   "codemirror_mode": {
    "name": "ipython",
    "version": 3
   },
   "file_extension": ".py",
   "mimetype": "text/x-python",
   "name": "python",
   "nbconvert_exporter": "python",
   "pygments_lexer": "ipython3",
   "version": "3.7.3"
  }
 },
 "nbformat": 4,
 "nbformat_minor": 2
}
