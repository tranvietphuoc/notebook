{
 "cells": [
  {
   "cell_type": "code",
   "execution_count": 2,
   "id": "db274bf3-b3f8-4fda-b288-ca039dcc7eea",
   "metadata": {},
   "outputs": [],
   "source": [
    ":dep rand = \"0.6.0\"\n"
   ]
  },
  {
   "cell_type": "code",
   "execution_count": 3,
   "id": "0e794ec8-3017-4b14-80f0-3c317b2269ce",
   "metadata": {},
   "outputs": [],
   "source": [
    "use rand::Rng;\n",
    "use std::cmp::Ordering\n",
    "use std::io;"
   ]
  },
  {
   "cell_type": "code",
   "execution_count": 8,
   "id": "eda96a99-d87c-4ec9-9dad-409dbe261397",
   "metadata": {},
   "outputs": [],
   "source": [
    "fn main(){\n",
    "    println!(\"Guess the number!\");\n",
    "    let secret_num = rand::thread_rng().gen_range(1, 101);\n",
    "    loop {\n",
    "        // println!(\"The secret_num is {}:\", secret_num);\n",
    "        println!(\"Please input your guess.\");\n",
    "        let mut guess = String::new();\n",
    "        io::stdin()\n",
    "        .read_line(&mut guess)\n",
    "        .expect(\"Failed to read line.\");  // read data from io::stdin\n",
    "        \n",
    "        let guess: u32 = match guess.trim().parse(){\n",
    "            Ok(num) => num,\n",
    "            Err(_) => continue,\n",
    "        };\n",
    "        println!(\"Your guessed: {}\", guess);\n",
    "        match guess.cmp(&secret_num) {\n",
    "            Ordering::Less => println!(\"Too small\"),\n",
    "            Ordering::Greater => println!(\"Too big\"),\n",
    "            Ordering::Equal => {\n",
    "                println!(\"You win\");\n",
    "                break;\n",
    "            }\n",
    "        }\n",
    "    }\n",
    "}"
   ]
  },
  {
   "cell_type": "code",
   "execution_count": null,
   "id": "1ec100ca-4798-4ae4-b80d-a83f603b1035",
   "metadata": {},
   "outputs": [],
   "source": []
  },
  {
   "cell_type": "code",
   "execution_count": null,
   "id": "50666779-be2e-43cf-bab0-a755a9acbb6b",
   "metadata": {},
   "outputs": [],
   "source": []
  }
 ],
 "metadata": {
  "kernelspec": {
   "display_name": "Rust",
   "language": "rust",
   "name": "rust"
  },
  "language_info": {
   "codemirror_mode": "rust",
   "file_extension": ".rs",
   "mimetype": "text/rust",
   "name": "Rust",
   "pygment_lexer": "rust",
   "version": ""
  }
 },
 "nbformat": 4,
 "nbformat_minor": 5
}
