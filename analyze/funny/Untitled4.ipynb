{
 "cells": [
  {
   "cell_type": "code",
   "execution_count": 1,
   "id": "ea2dfcca-8c9a-40cc-a327-10c8bf0a4ecc",
   "metadata": {},
   "outputs": [],
   "source": [
    "import pandas as pd\n",
    "import glob\n",
    "import os\n",
    "import numpy as np\n"
   ]
  },
  {
   "cell_type": "code",
   "execution_count": 2,
   "id": "ba79d3a8-a7e7-40e5-93e2-d9ace792f159",
   "metadata": {},
   "outputs": [],
   "source": [
    "os.chdir('groupby_sp')"
   ]
  },
  {
   "cell_type": "code",
   "execution_count": 3,
   "id": "1800e4bf-255d-428b-90ac-81fcd6da39ef",
   "metadata": {},
   "outputs": [
    {
     "data": {
      "text/plain": [
       "['.DS_Store', 'Book1.xlsx', 'online.xlsx', 'online1.xlsx']"
      ]
     },
     "execution_count": 3,
     "metadata": {},
     "output_type": "execute_result"
    }
   ],
   "source": [
    "os.listdir()"
   ]
  },
  {
   "cell_type": "code",
   "execution_count": 4,
   "id": "e82e7e2b-b84d-4bc4-aa36-fbf49639e78d",
   "metadata": {},
   "outputs": [],
   "source": [
    "files = [f for f in glob.glob('online.xlsx')]"
   ]
  },
  {
   "cell_type": "code",
   "execution_count": 5,
   "id": "b257a34c-0fe7-4b4e-8980-e82a9439ce4e",
   "metadata": {},
   "outputs": [],
   "source": [
    "df = pd.concat([pd.read_excel(f, converters={'Số điện thoại': str, 'COD': int, 'Tổng tiền thu được': int, 'Khai giá': int}) for f in files])"
   ]
  },
  {
   "cell_type": "code",
   "execution_count": 7,
   "id": "022595ea-fdc6-48b5-8f7e-0e2f9d25f98e",
   "metadata": {},
   "outputs": [],
   "source": [
    "# df = pd.read_excel('snappy-total-2021.xlsx', converters={'Số điện thoại': str})"
   ]
  },
  {
   "cell_type": "code",
   "execution_count": 15,
   "id": "c470f54e-9f0b-425a-957e-cf825637d57a",
   "metadata": {},
   "outputs": [],
   "source": [
    "df1 = df[df['Sản phẩm'].notna()]"
   ]
  },
  {
   "cell_type": "code",
   "execution_count": 16,
   "id": "c48d4ec8-e97e-4a2c-9cec-2e638b273dcc",
   "metadata": {},
   "outputs": [],
   "source": [
    "df1 = df1[((df1['COD'] > 0) & (df['COD'] < 1000000)) & ((df1['Khai giá'] > 0) | (df1['Khai giá'] < 1000000))]"
   ]
  },
  {
   "cell_type": "code",
   "execution_count": 18,
   "id": "4fe22626-5f9c-4fe1-8af6-0d7edd93c421",
   "metadata": {},
   "outputs": [
    {
     "name": "stdout",
     "output_type": "stream",
     "text": [
      "<class 'pandas.core.frame.DataFrame'>\n",
      "Int64Index: 201668 entries, 42103 to 243770\n",
      "Data columns (total 10 columns):\n",
      " #   Column                Non-Null Count   Dtype \n",
      "---  ------                --------------   ----- \n",
      " 0   Sản phẩm              201668 non-null  object\n",
      " 1   Số điện thoại         201668 non-null  object\n",
      " 2   Người nhận            201668 non-null  object\n",
      " 3   Địa chỉ               201668 non-null  object\n",
      " 4   Tỉnh/ Thành phố giao  201668 non-null  object\n",
      " 5   Quận/ Huyện giao      201668 non-null  object\n",
      " 6   Phường/ Xã giao       189098 non-null  object\n",
      " 7   COD                   201668 non-null  int64 \n",
      " 8   Khai giá              201668 non-null  int64 \n",
      " 9   Nhà mạng              201398 non-null  object\n",
      "dtypes: int64(2), object(8)\n",
      "memory usage: 16.9+ MB\n"
     ]
    }
   ],
   "source": [
    "df1.info()"
   ]
  },
  {
   "cell_type": "code",
   "execution_count": null,
   "id": "06508208-e95b-423b-bba6-75f1948ab30f",
   "metadata": {},
   "outputs": [],
   "source": []
  },
  {
   "cell_type": "code",
   "execution_count": 19,
   "id": "d2fc7f66-9fb6-43bc-b0e1-3642e1d3285a",
   "metadata": {},
   "outputs": [],
   "source": [
    "df1.to_excel('online2.xlsx', index=False)"
   ]
  },
  {
   "cell_type": "code",
   "execution_count": 16,
   "id": "c301313d-adb1-4153-bfc9-d5feb227dab8",
   "metadata": {},
   "outputs": [],
   "source": [
    "import re\n",
    "\n",
    "pt = r'sữa|thực phẩm chức năng|trẻ em|bà bầu|phong thủy'\n",
    "\n",
    "pt = re.compile(pt, re.IGNORECASE)\n",
    "def findpt(pt, string):\n",
    "    try:\n",
    "        return pt.match(x).groups()\n",
    "    except:\n",
    "        return np.nan\n",
    "df1['sp'] = df1['Sản phẩm'].astype(str).apply(lambda x: findpt(pt,x))"
   ]
  },
  {
   "cell_type": "code",
   "execution_count": 18,
   "id": "968821d5-f93f-43cf-aaca-2045d918fc56",
   "metadata": {},
   "outputs": [
    {
     "name": "stdout",
     "output_type": "stream",
     "text": [
      "<class 'pandas.core.frame.DataFrame'>\n",
      "Int64Index: 271183 entries, 0 to 279525\n",
      "Data columns (total 11 columns):\n",
      " #   Column                Non-Null Count   Dtype  \n",
      "---  ------                --------------   -----  \n",
      " 0   Sản phẩm              271183 non-null  object \n",
      " 1   Số điện thoại         271183 non-null  object \n",
      " 2   Người nhận            271183 non-null  object \n",
      " 3   Địa chỉ               271183 non-null  object \n",
      " 4   Tỉnh/ Thành phố giao  271183 non-null  object \n",
      " 5   Quận/ Huyện giao      271183 non-null  object \n",
      " 6   Phường/ Xã giao       251367 non-null  object \n",
      " 7   COD                   271183 non-null  int64  \n",
      " 8   Khai giá              271183 non-null  int64  \n",
      " 9   Nhà mạng              270737 non-null  object \n",
      " 10  sp                    0 non-null       float64\n",
      "dtypes: float64(1), int64(2), object(8)\n",
      "memory usage: 24.8+ MB\n"
     ]
    }
   ],
   "source": [
    "df1.info()"
   ]
  },
  {
   "cell_type": "code",
   "execution_count": 19,
   "id": "35a4f961-58b9-401d-81c0-75f6da272ff4",
   "metadata": {},
   "outputs": [],
   "source": [
    "df1.to_excel('online1.xlsx', index=False)"
   ]
  },
  {
   "cell_type": "code",
   "execution_count": null,
   "id": "de17020f-4364-4b4f-8cce-d65fa40d1a5d",
   "metadata": {},
   "outputs": [],
   "source": []
  },
  {
   "cell_type": "code",
   "execution_count": 8,
   "id": "1f1ba4b0-220d-4a65-9ddd-6787377bcf5f",
   "metadata": {},
   "outputs": [],
   "source": [
    "df['Sản phẩm'] = df['Sản phẩm'].astype(str).apply(lambda x: ''.join(x.split(\"g \")[1:]))"
   ]
  },
  {
   "cell_type": "code",
   "execution_count": 9,
   "id": "8053e066-05b9-48b9-ac2e-e0572c9615e7",
   "metadata": {},
   "outputs": [
    {
     "data": {
      "text/html": [
       "<div>\n",
       "<style scoped>\n",
       "    .dataframe tbody tr th:only-of-type {\n",
       "        vertical-align: middle;\n",
       "    }\n",
       "\n",
       "    .dataframe tbody tr th {\n",
       "        vertical-align: top;\n",
       "    }\n",
       "\n",
       "    .dataframe thead th {\n",
       "        text-align: right;\n",
       "    }\n",
       "</style>\n",
       "<table border=\"1\" class=\"dataframe\">\n",
       "  <thead>\n",
       "    <tr style=\"text-align: right;\">\n",
       "      <th></th>\n",
       "      <th>Người nhận</th>\n",
       "      <th>Địa chỉ</th>\n",
       "      <th>Tỉnh/ Thành phố giao</th>\n",
       "      <th>Quận/ Huyện giao</th>\n",
       "      <th>Phường/ Xã giao</th>\n",
       "      <th>Số điện thoại</th>\n",
       "      <th>Sản phẩm</th>\n",
       "      <th>COD</th>\n",
       "      <th>Tổng tiền thu được</th>\n",
       "      <th>Khai giá</th>\n",
       "      <th>Nhà mạng</th>\n",
       "    </tr>\n",
       "  </thead>\n",
       "  <tbody>\n",
       "    <tr>\n",
       "      <th>0</th>\n",
       "      <td>A bảo</td>\n",
       "      <td>250 nguyễn thượng hiền P 5 Q Phú nhuận phuong ...</td>\n",
       "      <td>Hồ Chí Minh</td>\n",
       "      <td>Quận Phú Nhuận</td>\n",
       "      <td>Phường 5</td>\n",
       "      <td>0775509292</td>\n",
       "      <td>My pham</td>\n",
       "      <td>780000</td>\n",
       "      <td>780000</td>\n",
       "      <td>0</td>\n",
       "      <td>Mobifone</td>\n",
       "    </tr>\n",
       "    <tr>\n",
       "      <th>1</th>\n",
       "      <td>Ha Anh</td>\n",
       "      <td>49/3 đường 35 p hiệp bình chánh tp thủ đức - P...</td>\n",
       "      <td>Hồ Chí Minh</td>\n",
       "      <td>Thành phố Thủ Đức</td>\n",
       "      <td>Phường Hiệp Bình Chánh</td>\n",
       "      <td>0935494258</td>\n",
       "      <td>Đầm hoa cổ tròn thắt eo phối ren tay - D2153 -...</td>\n",
       "      <td>249000</td>\n",
       "      <td>249000</td>\n",
       "      <td>280000</td>\n",
       "      <td>Mobifone</td>\n",
       "    </tr>\n",
       "    <tr>\n",
       "      <th>2</th>\n",
       "      <td>Lê Anh Thư</td>\n",
       "      <td>17 thi sách p3 Vị Thanh Hậu Giang - Phường 3, ...</td>\n",
       "      <td>Hậu Giang</td>\n",
       "      <td>Thành phố Vị Thanh</td>\n",
       "      <td>Phường 3</td>\n",
       "      <td>0978187111</td>\n",
       "      <td>Áo khoác len mỏndệt kim Hàn Quốc - D2243 - NUDE</td>\n",
       "      <td>0</td>\n",
       "      <td>0</td>\n",
       "      <td>250000</td>\n",
       "      <td>Viettel</td>\n",
       "    </tr>\n",
       "    <tr>\n",
       "      <th>3</th>\n",
       "      <td>Viet Phan</td>\n",
       "      <td>Hoa Phượng 1-18 KĐT Vinhomes Riverside - Phúc ...</td>\n",
       "      <td>Hà Nội</td>\n",
       "      <td>Quận Long Biên</td>\n",
       "      <td>NaN</td>\n",
       "      <td>0968886068</td>\n",
       "      <td>Hộ vớ đi chân</td>\n",
       "      <td>249000</td>\n",
       "      <td>249000</td>\n",
       "      <td>0</td>\n",
       "      <td>Viettel</td>\n",
       "    </tr>\n",
       "    <tr>\n",
       "      <th>4</th>\n",
       "      <td>Nguyễn Hồng Son</td>\n",
       "      <td>bvđk tỉnh hậu giang khu vực 4 phường 3 thành p...</td>\n",
       "      <td>Hậu Giang</td>\n",
       "      <td>Thành phố Vị Thanh</td>\n",
       "      <td>Phường 3</td>\n",
       "      <td>0988890171</td>\n",
       "      <td>Cài tóc đen hoạ tiết đơn giản - A624, 1 x 0Đầm...</td>\n",
       "      <td>329000</td>\n",
       "      <td>329000</td>\n",
       "      <td>360000</td>\n",
       "      <td>Viettel</td>\n",
       "    </tr>\n",
       "  </tbody>\n",
       "</table>\n",
       "</div>"
      ],
      "text/plain": [
       "        Người nhận                                            Địa chỉ  \\\n",
       "0            A bảo  250 nguyễn thượng hiền P 5 Q Phú nhuận phuong ...   \n",
       "1           Ha Anh  49/3 đường 35 p hiệp bình chánh tp thủ đức - P...   \n",
       "2       Lê Anh Thư  17 thi sách p3 Vị Thanh Hậu Giang - Phường 3, ...   \n",
       "3        Viet Phan  Hoa Phượng 1-18 KĐT Vinhomes Riverside - Phúc ...   \n",
       "4  Nguyễn Hồng Son  bvđk tỉnh hậu giang khu vực 4 phường 3 thành p...   \n",
       "\n",
       "  Tỉnh/ Thành phố giao    Quận/ Huyện giao         Phường/ Xã giao  \\\n",
       "0          Hồ Chí Minh      Quận Phú Nhuận                Phường 5   \n",
       "1          Hồ Chí Minh   Thành phố Thủ Đức  Phường Hiệp Bình Chánh   \n",
       "2            Hậu Giang  Thành phố Vị Thanh                Phường 3   \n",
       "3               Hà Nội      Quận Long Biên                     NaN   \n",
       "4            Hậu Giang  Thành phố Vị Thanh                Phường 3   \n",
       "\n",
       "  Số điện thoại                                           Sản phẩm     COD  \\\n",
       "0    0775509292                                            My pham  780000   \n",
       "1    0935494258  Đầm hoa cổ tròn thắt eo phối ren tay - D2153 -...  249000   \n",
       "2    0978187111    Áo khoác len mỏndệt kim Hàn Quốc - D2243 - NUDE       0   \n",
       "3    0968886068                                      Hộ vớ đi chân  249000   \n",
       "4    0988890171  Cài tóc đen hoạ tiết đơn giản - A624, 1 x 0Đầm...  329000   \n",
       "\n",
       "   Tổng tiền thu được  Khai giá  Nhà mạng  \n",
       "0              780000         0  Mobifone  \n",
       "1              249000    280000  Mobifone  \n",
       "2                   0    250000   Viettel  \n",
       "3              249000         0   Viettel  \n",
       "4              329000    360000   Viettel  "
      ]
     },
     "execution_count": 9,
     "metadata": {},
     "output_type": "execute_result"
    }
   ],
   "source": [
    "df.head()"
   ]
  },
  {
   "cell_type": "code",
   "execution_count": 15,
   "id": "55cd01d0-0824-4c95-ab4c-3e35f6ab8a49",
   "metadata": {},
   "outputs": [],
   "source": [
    "df.drop(['Tổng tiền thu được'], axis=1, inplace=True)"
   ]
  },
  {
   "cell_type": "code",
   "execution_count": 16,
   "id": "fcce3f81-0b34-4220-a964-9d273216b945",
   "metadata": {},
   "outputs": [
    {
     "data": {
      "text/html": [
       "<div>\n",
       "<style scoped>\n",
       "    .dataframe tbody tr th:only-of-type {\n",
       "        vertical-align: middle;\n",
       "    }\n",
       "\n",
       "    .dataframe tbody tr th {\n",
       "        vertical-align: top;\n",
       "    }\n",
       "\n",
       "    .dataframe thead th {\n",
       "        text-align: right;\n",
       "    }\n",
       "</style>\n",
       "<table border=\"1\" class=\"dataframe\">\n",
       "  <thead>\n",
       "    <tr style=\"text-align: right;\">\n",
       "      <th></th>\n",
       "      <th>Người nhận</th>\n",
       "      <th>Địa chỉ</th>\n",
       "      <th>Tỉnh/ Thành phố giao</th>\n",
       "      <th>Quận/ Huyện giao</th>\n",
       "      <th>Phường/ Xã giao</th>\n",
       "      <th>Số điện thoại</th>\n",
       "      <th>Sản phẩm</th>\n",
       "      <th>COD</th>\n",
       "      <th>Khai giá</th>\n",
       "      <th>Nhà mạng</th>\n",
       "    </tr>\n",
       "  </thead>\n",
       "  <tbody>\n",
       "    <tr>\n",
       "      <th>0</th>\n",
       "      <td>A bảo</td>\n",
       "      <td>250 nguyễn thượng hiền P 5 Q Phú nhuận phuong ...</td>\n",
       "      <td>Hồ Chí Minh</td>\n",
       "      <td>Quận Phú Nhuận</td>\n",
       "      <td>Phường 5</td>\n",
       "      <td>0775509292</td>\n",
       "      <td>My pham</td>\n",
       "      <td>780000</td>\n",
       "      <td>0</td>\n",
       "      <td>Mobifone</td>\n",
       "    </tr>\n",
       "    <tr>\n",
       "      <th>1</th>\n",
       "      <td>Ha Anh</td>\n",
       "      <td>49/3 đường 35 p hiệp bình chánh tp thủ đức - P...</td>\n",
       "      <td>Hồ Chí Minh</td>\n",
       "      <td>Thành phố Thủ Đức</td>\n",
       "      <td>Phường Hiệp Bình Chánh</td>\n",
       "      <td>0935494258</td>\n",
       "      <td>Đầm hoa cổ tròn thắt eo phối ren tay - D2153 -...</td>\n",
       "      <td>249000</td>\n",
       "      <td>280000</td>\n",
       "      <td>Mobifone</td>\n",
       "    </tr>\n",
       "    <tr>\n",
       "      <th>2</th>\n",
       "      <td>Lê Anh Thư</td>\n",
       "      <td>17 thi sách p3 Vị Thanh Hậu Giang - Phường 3, ...</td>\n",
       "      <td>Hậu Giang</td>\n",
       "      <td>Thành phố Vị Thanh</td>\n",
       "      <td>Phường 3</td>\n",
       "      <td>0978187111</td>\n",
       "      <td>Áo khoác len mỏndệt kim Hàn Quốc - D2243 - NUDE</td>\n",
       "      <td>0</td>\n",
       "      <td>250000</td>\n",
       "      <td>Viettel</td>\n",
       "    </tr>\n",
       "    <tr>\n",
       "      <th>3</th>\n",
       "      <td>Viet Phan</td>\n",
       "      <td>Hoa Phượng 1-18 KĐT Vinhomes Riverside - Phúc ...</td>\n",
       "      <td>Hà Nội</td>\n",
       "      <td>Quận Long Biên</td>\n",
       "      <td>NaN</td>\n",
       "      <td>0968886068</td>\n",
       "      <td>Hộ vớ đi chân</td>\n",
       "      <td>249000</td>\n",
       "      <td>0</td>\n",
       "      <td>Viettel</td>\n",
       "    </tr>\n",
       "    <tr>\n",
       "      <th>4</th>\n",
       "      <td>Nguyễn Hồng Son</td>\n",
       "      <td>bvđk tỉnh hậu giang khu vực 4 phường 3 thành p...</td>\n",
       "      <td>Hậu Giang</td>\n",
       "      <td>Thành phố Vị Thanh</td>\n",
       "      <td>Phường 3</td>\n",
       "      <td>0988890171</td>\n",
       "      <td>Cài tóc đen hoạ tiết đơn giản - A624, 1 x 0Đầm...</td>\n",
       "      <td>329000</td>\n",
       "      <td>360000</td>\n",
       "      <td>Viettel</td>\n",
       "    </tr>\n",
       "  </tbody>\n",
       "</table>\n",
       "</div>"
      ],
      "text/plain": [
       "        Người nhận                                            Địa chỉ  \\\n",
       "0            A bảo  250 nguyễn thượng hiền P 5 Q Phú nhuận phuong ...   \n",
       "1           Ha Anh  49/3 đường 35 p hiệp bình chánh tp thủ đức - P...   \n",
       "2       Lê Anh Thư  17 thi sách p3 Vị Thanh Hậu Giang - Phường 3, ...   \n",
       "3        Viet Phan  Hoa Phượng 1-18 KĐT Vinhomes Riverside - Phúc ...   \n",
       "4  Nguyễn Hồng Son  bvđk tỉnh hậu giang khu vực 4 phường 3 thành p...   \n",
       "\n",
       "  Tỉnh/ Thành phố giao    Quận/ Huyện giao         Phường/ Xã giao  \\\n",
       "0          Hồ Chí Minh      Quận Phú Nhuận                Phường 5   \n",
       "1          Hồ Chí Minh   Thành phố Thủ Đức  Phường Hiệp Bình Chánh   \n",
       "2            Hậu Giang  Thành phố Vị Thanh                Phường 3   \n",
       "3               Hà Nội      Quận Long Biên                     NaN   \n",
       "4            Hậu Giang  Thành phố Vị Thanh                Phường 3   \n",
       "\n",
       "  Số điện thoại                                           Sản phẩm     COD  \\\n",
       "0    0775509292                                            My pham  780000   \n",
       "1    0935494258  Đầm hoa cổ tròn thắt eo phối ren tay - D2153 -...  249000   \n",
       "2    0978187111    Áo khoác len mỏndệt kim Hàn Quốc - D2243 - NUDE       0   \n",
       "3    0968886068                                      Hộ vớ đi chân  249000   \n",
       "4    0988890171  Cài tóc đen hoạ tiết đơn giản - A624, 1 x 0Đầm...  329000   \n",
       "\n",
       "   Khai giá  Nhà mạng  \n",
       "0         0  Mobifone  \n",
       "1    280000  Mobifone  \n",
       "2    250000   Viettel  \n",
       "3         0   Viettel  \n",
       "4    360000   Viettel  "
      ]
     },
     "execution_count": 16,
     "metadata": {},
     "output_type": "execute_result"
    }
   ],
   "source": [
    "df.head()"
   ]
  },
  {
   "cell_type": "code",
   "execution_count": 17,
   "id": "fd6873eb-8819-4bb4-aaf0-8bad7bd9efad",
   "metadata": {},
   "outputs": [],
   "source": [
    "gr = df.groupby(['Sản phẩm', 'Số điện thoại', 'Người nhận']).first()"
   ]
  },
  {
   "cell_type": "code",
   "execution_count": 18,
   "id": "f8e994fd-134c-48dd-a914-50a6a2f5a1fa",
   "metadata": {},
   "outputs": [
    {
     "data": {
      "text/html": [
       "<div>\n",
       "<style scoped>\n",
       "    .dataframe tbody tr th:only-of-type {\n",
       "        vertical-align: middle;\n",
       "    }\n",
       "\n",
       "    .dataframe tbody tr th {\n",
       "        vertical-align: top;\n",
       "    }\n",
       "\n",
       "    .dataframe thead th {\n",
       "        text-align: right;\n",
       "    }\n",
       "</style>\n",
       "<table border=\"1\" class=\"dataframe\">\n",
       "  <thead>\n",
       "    <tr style=\"text-align: right;\">\n",
       "      <th></th>\n",
       "      <th></th>\n",
       "      <th></th>\n",
       "      <th>Địa chỉ</th>\n",
       "      <th>Tỉnh/ Thành phố giao</th>\n",
       "      <th>Quận/ Huyện giao</th>\n",
       "      <th>Phường/ Xã giao</th>\n",
       "      <th>COD</th>\n",
       "      <th>Khai giá</th>\n",
       "      <th>Nhà mạng</th>\n",
       "    </tr>\n",
       "    <tr>\n",
       "      <th>Sản phẩm</th>\n",
       "      <th>Số điện thoại</th>\n",
       "      <th>Người nhận</th>\n",
       "      <th></th>\n",
       "      <th></th>\n",
       "      <th></th>\n",
       "      <th></th>\n",
       "      <th></th>\n",
       "      <th></th>\n",
       "      <th></th>\n",
       "    </tr>\n",
       "  </thead>\n",
       "  <tbody>\n",
       "    <tr>\n",
       "      <th rowspan=\"5\" valign=\"top\"></th>\n",
       "      <th>0328760507</th>\n",
       "      <th>Hanh Nguyen</th>\n",
       "      <td>Số 23 Ngõ 461 Nguyễn Văn Linh - Phường Sài Đồn...</td>\n",
       "      <td>Hà Nội</td>\n",
       "      <td>Quận Long Biên</td>\n",
       "      <td>Phường Sài Đồng</td>\n",
       "      <td>0</td>\n",
       "      <td>481839</td>\n",
       "      <td>Viettel</td>\n",
       "    </tr>\n",
       "    <tr>\n",
       "      <th rowspan=\"2\" valign=\"top\">0345752007</th>\n",
       "      <th>Ng.Nhận: Diệu My - Ng.Gửi: NHẤT TÍN EXPRESS</th>\n",
       "      <td>Toà Nhà Ebm 394 Ung Văn Khiêm - Phường 25, Quậ...</td>\n",
       "      <td>Hồ Chí Minh</td>\n",
       "      <td>Quận Bình Thạnh</td>\n",
       "      <td>Phường 25</td>\n",
       "      <td>247000</td>\n",
       "      <td>247000</td>\n",
       "      <td>Viettel</td>\n",
       "    </tr>\n",
       "    <tr>\n",
       "      <th>Ng.Nhận: My - Ng.Gửi: NHẤT TÍN EXPRESS</th>\n",
       "      <td>683 685 Điện Biện Phủ - Phường 25, Quận Bình T...</td>\n",
       "      <td>Hồ Chí Minh</td>\n",
       "      <td>Quận Bình Thạnh</td>\n",
       "      <td>Phường 25</td>\n",
       "      <td>313000</td>\n",
       "      <td>313000</td>\n",
       "      <td>Viettel</td>\n",
       "    </tr>\n",
       "    <tr>\n",
       "      <th>0347609500</th>\n",
       "      <th>Nguyễn văn công</th>\n",
       "      <td>Cửa hàng thực nguyễn thôn đồng tiến - Xã Phước...</td>\n",
       "      <td>Bình Phước</td>\n",
       "      <td>Huyện Phú Riềng</td>\n",
       "      <td>Xã Phước Tân</td>\n",
       "      <td>280000</td>\n",
       "      <td>280000</td>\n",
       "      <td>Viettel</td>\n",
       "    </tr>\n",
       "    <tr>\n",
       "      <th>0355804535</th>\n",
       "      <th>Trịnh thị Chuyền  ( ĐỒ CỦA BON)</th>\n",
       "      <td>Bản Hoàng Tân Trí Xã - Xã Tân Tri, Huyện Bắc S...</td>\n",
       "      <td>Lạng Sơn</td>\n",
       "      <td>Huyện Bắc Sơn</td>\n",
       "      <td>Xã Tân Tri</td>\n",
       "      <td>0</td>\n",
       "      <td>600000</td>\n",
       "      <td>Viettel</td>\n",
       "    </tr>\n",
       "  </tbody>\n",
       "</table>\n",
       "</div>"
      ],
      "text/plain": [
       "                                                                                                              Địa chỉ  \\\n",
       "Sản phẩm Số điện thoại Người nhận                                                                                       \n",
       "         0328760507    Hanh Nguyen                                  Số 23 Ngõ 461 Nguyễn Văn Linh - Phường Sài Đồn...   \n",
       "         0345752007    Ng.Nhận: Diệu My - Ng.Gửi: NHẤT TÍN EXPRESS  Toà Nhà Ebm 394 Ung Văn Khiêm - Phường 25, Quậ...   \n",
       "                       Ng.Nhận: My - Ng.Gửi: NHẤT TÍN EXPRESS       683 685 Điện Biện Phủ - Phường 25, Quận Bình T...   \n",
       "         0347609500    Nguyễn văn công                              Cửa hàng thực nguyễn thôn đồng tiến - Xã Phước...   \n",
       "         0355804535    Trịnh thị Chuyền  ( ĐỒ CỦA BON)              Bản Hoàng Tân Trí Xã - Xã Tân Tri, Huyện Bắc S...   \n",
       "\n",
       "                                                                   Tỉnh/ Thành phố giao  \\\n",
       "Sản phẩm Số điện thoại Người nhận                                                         \n",
       "         0328760507    Hanh Nguyen                                               Hà Nội   \n",
       "         0345752007    Ng.Nhận: Diệu My - Ng.Gửi: NHẤT TÍN EXPRESS          Hồ Chí Minh   \n",
       "                       Ng.Nhận: My - Ng.Gửi: NHẤT TÍN EXPRESS               Hồ Chí Minh   \n",
       "         0347609500    Nguyễn văn công                                       Bình Phước   \n",
       "         0355804535    Trịnh thị Chuyền  ( ĐỒ CỦA BON)                         Lạng Sơn   \n",
       "\n",
       "                                                                   Quận/ Huyện giao  \\\n",
       "Sản phẩm Số điện thoại Người nhận                                                     \n",
       "         0328760507    Hanh Nguyen                                   Quận Long Biên   \n",
       "         0345752007    Ng.Nhận: Diệu My - Ng.Gửi: NHẤT TÍN EXPRESS  Quận Bình Thạnh   \n",
       "                       Ng.Nhận: My - Ng.Gửi: NHẤT TÍN EXPRESS       Quận Bình Thạnh   \n",
       "         0347609500    Nguyễn văn công                              Huyện Phú Riềng   \n",
       "         0355804535    Trịnh thị Chuyền  ( ĐỒ CỦA BON)                Huyện Bắc Sơn   \n",
       "\n",
       "                                                                    Phường/ Xã giao  \\\n",
       "Sản phẩm Số điện thoại Người nhận                                                     \n",
       "         0328760507    Hanh Nguyen                                  Phường Sài Đồng   \n",
       "         0345752007    Ng.Nhận: Diệu My - Ng.Gửi: NHẤT TÍN EXPRESS        Phường 25   \n",
       "                       Ng.Nhận: My - Ng.Gửi: NHẤT TÍN EXPRESS             Phường 25   \n",
       "         0347609500    Nguyễn văn công                                 Xã Phước Tân   \n",
       "         0355804535    Trịnh thị Chuyền  ( ĐỒ CỦA BON)                   Xã Tân Tri   \n",
       "\n",
       "                                                                       COD  \\\n",
       "Sản phẩm Số điện thoại Người nhận                                            \n",
       "         0328760507    Hanh Nguyen                                       0   \n",
       "         0345752007    Ng.Nhận: Diệu My - Ng.Gửi: NHẤT TÍN EXPRESS  247000   \n",
       "                       Ng.Nhận: My - Ng.Gửi: NHẤT TÍN EXPRESS       313000   \n",
       "         0347609500    Nguyễn văn công                              280000   \n",
       "         0355804535    Trịnh thị Chuyền  ( ĐỒ CỦA BON)                   0   \n",
       "\n",
       "                                                                    Khai giá  \\\n",
       "Sản phẩm Số điện thoại Người nhận                                              \n",
       "         0328760507    Hanh Nguyen                                    481839   \n",
       "         0345752007    Ng.Nhận: Diệu My - Ng.Gửi: NHẤT TÍN EXPRESS    247000   \n",
       "                       Ng.Nhận: My - Ng.Gửi: NHẤT TÍN EXPRESS         313000   \n",
       "         0347609500    Nguyễn văn công                                280000   \n",
       "         0355804535    Trịnh thị Chuyền  ( ĐỒ CỦA BON)                600000   \n",
       "\n",
       "                                                                   Nhà mạng  \n",
       "Sản phẩm Số điện thoại Người nhận                                            \n",
       "         0328760507    Hanh Nguyen                                  Viettel  \n",
       "         0345752007    Ng.Nhận: Diệu My - Ng.Gửi: NHẤT TÍN EXPRESS  Viettel  \n",
       "                       Ng.Nhận: My - Ng.Gửi: NHẤT TÍN EXPRESS       Viettel  \n",
       "         0347609500    Nguyễn văn công                              Viettel  \n",
       "         0355804535    Trịnh thị Chuyền  ( ĐỒ CỦA BON)              Viettel  "
      ]
     },
     "execution_count": 18,
     "metadata": {},
     "output_type": "execute_result"
    }
   ],
   "source": [
    "gr.head()"
   ]
  },
  {
   "cell_type": "code",
   "execution_count": 24,
   "id": "010d3df3-0859-4201-b628-9e169450ed55",
   "metadata": {},
   "outputs": [],
   "source": [
    "def split_df(df, chunksize=100000):\n",
    "    chunks = []\n",
    "    num_chunks = len(df) // chunksize + 1\n",
    "    for i in range(num_chunks):\n",
    "        chunks.append(df[i*chunksize:(i+1)*chunksize])\n",
    "    return chunks\n",
    "\n",
    "# chunksize = 10000\n",
    "# chunks = len(data) // chunksize\n",
    "chunks = split_df(gr)\n"
   ]
  },
  {
   "cell_type": "code",
   "execution_count": 26,
   "id": "8712ecfe-59d1-481c-b6d6-6110b085f54d",
   "metadata": {},
   "outputs": [],
   "source": [
    "i = 0\n",
    "for chunk in chunks:\n",
    "    chunk.to_excel('groupby_sp-2022-100k-{:02d}.xlsx'.format(i), index=True)\n",
    "    i += 1"
   ]
  },
  {
   "cell_type": "code",
   "execution_count": 27,
   "id": "34f0df45-fd07-48a4-9f89-c2564d2727a8",
   "metadata": {},
   "outputs": [],
   "source": [
    "split_df(df, 200000)\n",
    "\n",
    "\n",
    "j = 0\n",
    "for chunk in chunks:\n",
    "    chunk.to_excel('snp-2022-{:02d}.xlsx'.format(j), index=True)\n",
    "    j += 1"
   ]
  },
  {
   "cell_type": "code",
   "execution_count": 12,
   "id": "23de0753-a181-4242-b636-d5e78d06eeda",
   "metadata": {},
   "outputs": [],
   "source": [
    "isp_maps = {\n",
    "    70: 'Mobifone',\n",
    "    79: 'Mobifone',\n",
    "    77: 'Mobifone',\n",
    "    76: 'Mobifone',\n",
    "    78: 'Mobifone',\n",
    "    32: 'Viettel',\n",
    "    33: 'Viettel',\n",
    "    34: 'Viettel',\n",
    "    35: 'Viettel',\n",
    "    36: 'Viettel',\n",
    "    37: 'Viettel',\n",
    "    38: 'Viettel',\n",
    "    39: 'Viettel',\n",
    "    83: 'Vinaphone',\n",
    "    84: 'Vinaphone',\n",
    "    85: 'Vinaphone',\n",
    "    81: 'Vinaphone',\n",
    "    82: 'Vinaphone',\n",
    "    97: 'Viettel',\n",
    "    90: 'Mobifone',\n",
    "    93: 'Mobifone',\n",
    "    96: 'Viettel',\n",
    "    98: 'Viettel',\n",
    "    91: 'Vinaphone',\n",
    "    92: 'Vietnammobile',\n",
    "    94: 'Vinaphone',\n",
    "    89: 'Mobifone',\n",
    "    88: 'Vinaphone',\n",
    "    86: 'Viettel',\n",
    "    55: 'Vietnammobile',\n",
    "    56: 'Vietnammobile',\n",
    "    58: 'Vietnammobile',\n",
    "    87: 'I-telecom',\n",
    "    52: 'Vietnammobile'\n",
    "}\n",
    "\n",
    "\n",
    "def get_isp_name(maps, string):\n",
    "    # get isp name from mapping dict\n",
    "    try:\n",
    "        return maps.get(int(string[1:3]), np.nan)\n",
    "    except ValueError:\n",
    "        return np.nan"
   ]
  },
  {
   "cell_type": "code",
   "execution_count": 15,
   "id": "67cb9115-71d8-43ca-9a36-96aa919a18a0",
   "metadata": {},
   "outputs": [
    {
     "name": "stderr",
     "output_type": "stream",
     "text": [
      "/tmp/ipykernel_56/1408219685.py:1: SettingWithCopyWarning: \n",
      "A value is trying to be set on a copy of a slice from a DataFrame.\n",
      "Try using .loc[row_indexer,col_indexer] = value instead\n",
      "\n",
      "See the caveats in the documentation: https://pandas.pydata.org/pandas-docs/stable/user_guide/indexing.html#returning-a-view-versus-a-copy\n",
      "  DN['Nhà mạng'] = DN['To Contact'].astype(str).apply(lambda x: get_isp_name(isp_maps, x))\n"
     ]
    }
   ],
   "source": [
    "DN['Nhà mạng'] = DN['To Contact'].astype(str).apply(lambda x: get_isp_name(isp_maps, x))"
   ]
  },
  {
   "cell_type": "code",
   "execution_count": 16,
   "id": "1cc2962c-1840-4d0a-a2e2-35f4b5b0f1a1",
   "metadata": {},
   "outputs": [
    {
     "data": {
      "text/html": [
       "<div>\n",
       "<style scoped>\n",
       "    .dataframe tbody tr th:only-of-type {\n",
       "        vertical-align: middle;\n",
       "    }\n",
       "\n",
       "    .dataframe tbody tr th {\n",
       "        vertical-align: top;\n",
       "    }\n",
       "\n",
       "    .dataframe thead th {\n",
       "        text-align: right;\n",
       "    }\n",
       "</style>\n",
       "<table border=\"1\" class=\"dataframe\">\n",
       "  <thead>\n",
       "    <tr style=\"text-align: right;\">\n",
       "      <th></th>\n",
       "      <th>To Name</th>\n",
       "      <th>To Contact</th>\n",
       "      <th>To Address</th>\n",
       "      <th>To Province</th>\n",
       "      <th>To District</th>\n",
       "      <th>sent</th>\n",
       "      <th>Nhà mạng</th>\n",
       "    </tr>\n",
       "  </thead>\n",
       "  <tbody>\n",
       "    <tr>\n",
       "      <th>1244</th>\n",
       "      <td>Thương Hoài</td>\n",
       "      <td>0984509674</td>\n",
       "      <td>H2/3 K74 Ngô Thị Nhậm - Phường Hòa Minh, Quận ...</td>\n",
       "      <td>Đà Nẵng</td>\n",
       "      <td>Quận Liên Chiểu</td>\n",
       "      <td>False</td>\n",
       "      <td>Viettel</td>\n",
       "    </tr>\n",
       "    <tr>\n",
       "      <th>1370</th>\n",
       "      <td>Nguyễn Thị Thảo Nhi</td>\n",
       "      <td>0987502627</td>\n",
       "      <td>117 hồ quý li hoa minh - Phường Hòa Minh, Quận...</td>\n",
       "      <td>Đà Nẵng</td>\n",
       "      <td>Quận Liên Chiểu</td>\n",
       "      <td>False</td>\n",
       "      <td>Viettel</td>\n",
       "    </tr>\n",
       "    <tr>\n",
       "      <th>1833</th>\n",
       "      <td>Phạm thị thảo (phamthithao)</td>\n",
       "      <td>0935767544</td>\n",
       "      <td>03 Lâm Quang Thự, Phường Hòa Minh, Quận Liên C...</td>\n",
       "      <td>Đà Nẵng</td>\n",
       "      <td>Quận Liên Chiểu</td>\n",
       "      <td>False</td>\n",
       "      <td>Mobifone</td>\n",
       "    </tr>\n",
       "    <tr>\n",
       "      <th>2197</th>\n",
       "      <td>Ngoc Trang</td>\n",
       "      <td>0796123287</td>\n",
       "      <td>Ngoc Trang Sdt: 0796123287 Đc: khu G chung cư ...</td>\n",
       "      <td>Đà Nẵng</td>\n",
       "      <td>Quận Liên Chiểu</td>\n",
       "      <td>False</td>\n",
       "      <td>Mobifone</td>\n",
       "    </tr>\n",
       "    <tr>\n",
       "      <th>2568</th>\n",
       "      <td>Anh sơn</td>\n",
       "      <td>0918685303</td>\n",
       "      <td>Ac 03 đường nguyễn tất thành p - Phường Hòa Hi...</td>\n",
       "      <td>Đà Nẵng</td>\n",
       "      <td>Quận Liên Chiểu</td>\n",
       "      <td>False</td>\n",
       "      <td>Vinaphone</td>\n",
       "    </tr>\n",
       "  </tbody>\n",
       "</table>\n",
       "</div>"
      ],
      "text/plain": [
       "                          To Name  To Contact  \\\n",
       "1244                  Thương Hoài  0984509674   \n",
       "1370          Nguyễn Thị Thảo Nhi  0987502627   \n",
       "1833  Phạm thị thảo (phamthithao)  0935767544   \n",
       "2197                   Ngoc Trang  0796123287   \n",
       "2568                      Anh sơn  0918685303   \n",
       "\n",
       "                                             To Address To Province  \\\n",
       "1244  H2/3 K74 Ngô Thị Nhậm - Phường Hòa Minh, Quận ...     Đà Nẵng   \n",
       "1370  117 hồ quý li hoa minh - Phường Hòa Minh, Quận...     Đà Nẵng   \n",
       "1833  03 Lâm Quang Thự, Phường Hòa Minh, Quận Liên C...     Đà Nẵng   \n",
       "2197  Ngoc Trang Sdt: 0796123287 Đc: khu G chung cư ...     Đà Nẵng   \n",
       "2568  Ac 03 đường nguyễn tất thành p - Phường Hòa Hi...     Đà Nẵng   \n",
       "\n",
       "          To District   sent   Nhà mạng  \n",
       "1244  Quận Liên Chiểu  False    Viettel  \n",
       "1370  Quận Liên Chiểu  False    Viettel  \n",
       "1833  Quận Liên Chiểu  False   Mobifone  \n",
       "2197  Quận Liên Chiểu  False   Mobifone  \n",
       "2568  Quận Liên Chiểu  False  Vinaphone  "
      ]
     },
     "execution_count": 16,
     "metadata": {},
     "output_type": "execute_result"
    }
   ],
   "source": [
    "DN.head()"
   ]
  },
  {
   "cell_type": "code",
   "execution_count": 18,
   "id": "a2fb6ab2-7a63-4204-b9bc-e04ff7befc9c",
   "metadata": {},
   "outputs": [
    {
     "name": "stderr",
     "output_type": "stream",
     "text": [
      "/tmp/ipykernel_56/1514655729.py:1: SettingWithCopyWarning: \n",
      "A value is trying to be set on a copy of a slice from a DataFrame\n",
      "\n",
      "See the caveats in the documentation: https://pandas.pydata.org/pandas-docs/stable/user_guide/indexing.html#returning-a-view-versus-a-copy\n",
      "  DN.drop_duplicates(subset=['To Contact'], inplace=True)\n"
     ]
    }
   ],
   "source": [
    "DN.drop_duplicates(subset=['To Contact'], inplace=True)"
   ]
  },
  {
   "cell_type": "code",
   "execution_count": 19,
   "id": "10afd65f-72b2-458d-b3be-2509b060e640",
   "metadata": {},
   "outputs": [
    {
     "name": "stdout",
     "output_type": "stream",
     "text": [
      "<class 'pandas.core.frame.DataFrame'>\n",
      "Int64Index: 807 entries, 1244 to 821391\n",
      "Data columns (total 7 columns):\n",
      " #   Column       Non-Null Count  Dtype \n",
      "---  ------       --------------  ----- \n",
      " 0   To Name      807 non-null    object\n",
      " 1   To Contact   807 non-null    object\n",
      " 2   To Address   807 non-null    object\n",
      " 3   To Province  807 non-null    object\n",
      " 4   To District  807 non-null    object\n",
      " 5   sent         807 non-null    bool  \n",
      " 6   Nhà mạng     807 non-null    object\n",
      "dtypes: bool(1), object(6)\n",
      "memory usage: 44.9+ KB\n"
     ]
    }
   ],
   "source": [
    "DN.info()"
   ]
  },
  {
   "cell_type": "code",
   "execution_count": null,
   "id": "a6352c16-4fe7-4c52-9d4f-b9950829f637",
   "metadata": {},
   "outputs": [],
   "source": []
  },
  {
   "cell_type": "code",
   "execution_count": 20,
   "id": "a431b369-249c-405e-821b-8b861459ff0a",
   "metadata": {},
   "outputs": [],
   "source": [
    "DN.to_excel('ĐN_LC-2021.xlsx', index=False)"
   ]
  },
  {
   "cell_type": "code",
   "execution_count": 21,
   "id": "c1ee79b3-c855-42d1-8414-83a98a46113d",
   "metadata": {},
   "outputs": [],
   "source": [
    "os.chdir('snp-2022')"
   ]
  },
  {
   "cell_type": "code",
   "execution_count": 22,
   "id": "308318ae-70b0-467c-961e-8db5087f6acb",
   "metadata": {},
   "outputs": [],
   "source": [
    "dn = pd.read_excel('ĐN_LC-2022.xlsx', converters={'Số điện thoại': str, 'COD': int, 'Tổng tiền thu được': int, 'Khai giá': int})"
   ]
  },
  {
   "cell_type": "code",
   "execution_count": 25,
   "id": "5ed58487-9a4c-46a4-b240-78095a177d34",
   "metadata": {},
   "outputs": [
    {
     "name": "stdout",
     "output_type": "stream",
     "text": [
      "<class 'pandas.core.frame.DataFrame'>\n",
      "RangeIndex: 3232 entries, 0 to 3231\n",
      "Data columns (total 11 columns):\n",
      " #   Column                Non-Null Count  Dtype \n",
      "---  ------                --------------  ----- \n",
      " 0   Người nhận            3232 non-null   object\n",
      " 1   Địa chỉ               3232 non-null   object\n",
      " 2   Tỉnh/ Thành phố giao  3232 non-null   object\n",
      " 3   Quận/ Huyện giao      3232 non-null   object\n",
      " 4   Phường/ Xã giao       2323 non-null   object\n",
      " 5   Số điện thoại         3232 non-null   object\n",
      " 6   Sản phẩm              2425 non-null   object\n",
      " 7   COD                   2425 non-null   object\n",
      " 8   Tổng tiền thu được    2425 non-null   object\n",
      " 9   Khai giá              2425 non-null   object\n",
      " 10  Nhà mạng              3226 non-null   object\n",
      "dtypes: object(11)\n",
      "memory usage: 277.9+ KB\n"
     ]
    }
   ],
   "source": [
    "dn.info()"
   ]
  },
  {
   "cell_type": "code",
   "execution_count": 26,
   "id": "041c3154-e289-452c-ac0a-a1fa848850e5",
   "metadata": {},
   "outputs": [],
   "source": [
    "dn.drop_duplicates(subset=['Số điện thoại'], inplace=True)"
   ]
  },
  {
   "cell_type": "code",
   "execution_count": 27,
   "id": "32e16f77-dc02-4fcf-bc5f-07baa8a14094",
   "metadata": {},
   "outputs": [
    {
     "name": "stdout",
     "output_type": "stream",
     "text": [
      "<class 'pandas.core.frame.DataFrame'>\n",
      "Int64Index: 2901 entries, 0 to 3154\n",
      "Data columns (total 11 columns):\n",
      " #   Column                Non-Null Count  Dtype \n",
      "---  ------                --------------  ----- \n",
      " 0   Người nhận            2901 non-null   object\n",
      " 1   Địa chỉ               2901 non-null   object\n",
      " 2   Tỉnh/ Thành phố giao  2901 non-null   object\n",
      " 3   Quận/ Huyện giao      2901 non-null   object\n",
      " 4   Phường/ Xã giao       2323 non-null   object\n",
      " 5   Số điện thoại         2901 non-null   object\n",
      " 6   Sản phẩm              2425 non-null   object\n",
      " 7   COD                   2425 non-null   object\n",
      " 8   Tổng tiền thu được    2425 non-null   object\n",
      " 9   Khai giá              2425 non-null   object\n",
      " 10  Nhà mạng              2895 non-null   object\n",
      "dtypes: object(11)\n",
      "memory usage: 272.0+ KB\n"
     ]
    }
   ],
   "source": [
    "dn.info()"
   ]
  },
  {
   "cell_type": "code",
   "execution_count": 30,
   "id": "de750350-d137-41f1-b8da-91c93a98c67a",
   "metadata": {},
   "outputs": [],
   "source": [
    "def split_df(df, chunksize=200000):\n",
    "    chunks = []\n",
    "    num_chunks = len(df) // chunksize + 1\n",
    "    for i in range(num_chunks):\n",
    "        chunks.append(df[i*chunksize:(i+1)*chunksize])\n",
    "    return chunks\n",
    "\n",
    "# chunksize = 10000\n",
    "# chunks = len(data) // chunksize\n",
    "chunks = split_df(df)\n"
   ]
  },
  {
   "cell_type": "code",
   "execution_count": 31,
   "id": "4c818255-72fb-4e29-b53b-cff676cedf48",
   "metadata": {},
   "outputs": [
    {
     "data": {
      "text/plain": [
       "9"
      ]
     },
     "execution_count": 31,
     "metadata": {},
     "output_type": "execute_result"
    }
   ],
   "source": [
    "len(chunks)"
   ]
  },
  {
   "cell_type": "code",
   "execution_count": 32,
   "id": "270f92c3-552d-4b7d-972d-469704bc63d0",
   "metadata": {},
   "outputs": [],
   "source": [
    "i = 0\n",
    "for chunk in chunks:\n",
    "    chunk.to_excel('snp_2022-{:02d}.xlsx'.format(i), index=False)\n",
    "    i += 1"
   ]
  },
  {
   "cell_type": "code",
   "execution_count": null,
   "id": "bb18333e-3c62-4894-a8eb-fbc8a8131a07",
   "metadata": {},
   "outputs": [],
   "source": []
  },
  {
   "cell_type": "code",
   "execution_count": null,
   "id": "f361dd1c-59dc-4dcb-8d4e-fb4ee0e47ad3",
   "metadata": {},
   "outputs": [],
   "source": []
  },
  {
   "cell_type": "code",
   "execution_count": 8,
   "id": "953054b7-74a6-4c2b-a098-ea86c846554b",
   "metadata": {},
   "outputs": [],
   "source": [
    "def split_df(df, chunksize=20000):\n",
    "    chunks = []\n",
    "    num_chunks = len(df) // chunksize + 1\n",
    "    for i in range(num_chunks):\n",
    "        chunks.append(df[i*chunksize:(i+1)*chunksize])\n",
    "    return chunks\n",
    "\n",
    "# chunksize = 10000\n",
    "# chunks = len(data) // chunksize\n",
    "chunks = split_df(df)\n"
   ]
  },
  {
   "cell_type": "code",
   "execution_count": 11,
   "id": "0b1d66a8-62e1-4737-848d-cc3c85fcd2f4",
   "metadata": {},
   "outputs": [],
   "source": [
    "i = 0\n",
    "for chunk in chunks:\n",
    "    chunk.to_excel('data-20k-{:02d}.xlsx'.format(i), index=False)\n",
    "    i += 1"
   ]
  },
  {
   "cell_type": "code",
   "execution_count": null,
   "id": "e42bc6cf-6714-4c68-a22d-ce09f73408de",
   "metadata": {},
   "outputs": [],
   "source": []
  }
 ],
 "metadata": {
  "kernelspec": {
   "display_name": "Python 3 (ipykernel)",
   "language": "python",
   "name": "python3"
  },
  "language_info": {
   "codemirror_mode": {
    "name": "ipython",
    "version": 3
   },
   "file_extension": ".py",
   "mimetype": "text/x-python",
   "name": "python",
   "nbconvert_exporter": "python",
   "pygments_lexer": "ipython3",
   "version": "3.10.6"
  }
 },
 "nbformat": 4,
 "nbformat_minor": 5
}
