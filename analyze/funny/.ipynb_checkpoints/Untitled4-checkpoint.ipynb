{
 "cells": [
  {
   "cell_type": "code",
   "execution_count": 1,
   "id": "ddb23777-9e52-41f6-9b21-b42c035ae522",
   "metadata": {},
   "outputs": [
    {
     "name": "stdout",
     "output_type": "stream",
     "text": [
      "Collecting openpyxl\n",
      "  Downloading openpyxl-3.0.10-py2.py3-none-any.whl (242 kB)\n",
      "\u001b[2K     \u001b[90m━━━━━━━━━━━━━━━━━━━━━━━━━━━━━━━━━━━━━━━\u001b[0m \u001b[32m242.1/242.1 kB\u001b[0m \u001b[31m1.9 MB/s\u001b[0m eta \u001b[36m0:00:00\u001b[0ma \u001b[36m0:00:01\u001b[0m\n",
      "\u001b[?25hCollecting et-xmlfile\n",
      "  Downloading et_xmlfile-1.1.0-py3-none-any.whl (4.7 kB)\n",
      "Installing collected packages: et-xmlfile, openpyxl\n",
      "Successfully installed et-xmlfile-1.1.0 openpyxl-3.0.10\n"
     ]
    }
   ],
   "source": [
    "!pip install openpyxl\n"
   ]
  },
  {
   "cell_type": "code",
   "execution_count": 1,
   "id": "ea2dfcca-8c9a-40cc-a327-10c8bf0a4ecc",
   "metadata": {},
   "outputs": [],
   "source": [
    "import pandas as pd\n",
    "import glob\n",
    "import os\n",
    "import numpy as np\n"
   ]
  },
  {
   "cell_type": "code",
   "execution_count": 2,
   "id": "ba79d3a8-a7e7-40e5-93e2-d9ace792f159",
   "metadata": {},
   "outputs": [],
   "source": [
    "os.chdir('new-data')"
   ]
  },
  {
   "cell_type": "code",
   "execution_count": 3,
   "id": "5ae0266c-dd95-4473-93d9-3f9cc1c4ce85",
   "metadata": {},
   "outputs": [],
   "source": [
    "os.chdir('snp-2022')"
   ]
  },
  {
   "cell_type": "code",
   "execution_count": 4,
   "id": "1800e4bf-255d-428b-90ac-81fcd6da39ef",
   "metadata": {},
   "outputs": [
    {
     "data": {
      "text/plain": [
       "['.DS_Store',\n",
       " 'shop.xlsx',\n",
       " 'snp_2022-00.xlsx',\n",
       " 'snp_2022-01.xlsx',\n",
       " 'snp_2022-02.xlsx',\n",
       " 'snp_2022-03.xlsx',\n",
       " 'snp_2022-04.xlsx',\n",
       " 'snp_2022-05.xlsx',\n",
       " 'snp_2022-06.xlsx',\n",
       " 'snp_2022-07.xlsx',\n",
       " 'snp_2022-08.xlsx',\n",
       " 'ĐN_LC-2021.xlsx',\n",
       " 'ĐN_LC-2022.xlsx']"
      ]
     },
     "execution_count": 4,
     "metadata": {},
     "output_type": "execute_result"
    }
   ],
   "source": [
    "os.listdir()"
   ]
  },
  {
   "cell_type": "code",
   "execution_count": 5,
   "id": "e82e7e2b-b84d-4bc4-aa36-fbf49639e78d",
   "metadata": {},
   "outputs": [],
   "source": [
    "files = [f for f in glob.glob('snp*.xlsx')]"
   ]
  },
  {
   "cell_type": "code",
   "execution_count": 6,
   "id": "b257a34c-0fe7-4b4e-8980-e82a9439ce4e",
   "metadata": {},
   "outputs": [],
   "source": [
    "df = pd.concat([pd.read_excel(f, converters={'Số điện thoại': str, 'COD': int, 'Tổng tiền thu được': int, 'Khai giá': int}) for f in files])"
   ]
  },
  {
   "cell_type": "code",
   "execution_count": 7,
   "id": "022595ea-fdc6-48b5-8f7e-0e2f9d25f98e",
   "metadata": {},
   "outputs": [],
   "source": [
    "# df = pd.read_excel('snappy-total-2021.xlsx', converters={'Số điện thoại': str})"
   ]
  },
  {
   "cell_type": "code",
   "execution_count": 8,
   "id": "c470f54e-9f0b-425a-957e-cf825637d57a",
   "metadata": {},
   "outputs": [
    {
     "data": {
      "text/html": [
       "<div>\n",
       "<style scoped>\n",
       "    .dataframe tbody tr th:only-of-type {\n",
       "        vertical-align: middle;\n",
       "    }\n",
       "\n",
       "    .dataframe tbody tr th {\n",
       "        vertical-align: top;\n",
       "    }\n",
       "\n",
       "    .dataframe thead th {\n",
       "        text-align: right;\n",
       "    }\n",
       "</style>\n",
       "<table border=\"1\" class=\"dataframe\">\n",
       "  <thead>\n",
       "    <tr style=\"text-align: right;\">\n",
       "      <th></th>\n",
       "      <th>Người nhận</th>\n",
       "      <th>Địa chỉ</th>\n",
       "      <th>Tỉnh/ Thành phố giao</th>\n",
       "      <th>Quận/ Huyện giao</th>\n",
       "      <th>Phường/ Xã giao</th>\n",
       "      <th>Số điện thoại</th>\n",
       "      <th>Sản phẩm</th>\n",
       "      <th>COD</th>\n",
       "      <th>Tổng tiền thu được</th>\n",
       "      <th>Khai giá</th>\n",
       "      <th>Nhà mạng</th>\n",
       "    </tr>\n",
       "  </thead>\n",
       "  <tbody>\n",
       "    <tr>\n",
       "      <th>0</th>\n",
       "      <td>A bảo</td>\n",
       "      <td>250 nguyễn thượng hiền P 5 Q Phú nhuận phuong ...</td>\n",
       "      <td>Hồ Chí Minh</td>\n",
       "      <td>Quận Phú Nhuận</td>\n",
       "      <td>Phường 5</td>\n",
       "      <td>0775509292</td>\n",
       "      <td>1 x 10g My pham</td>\n",
       "      <td>780000</td>\n",
       "      <td>780000</td>\n",
       "      <td>0</td>\n",
       "      <td>Mobifone</td>\n",
       "    </tr>\n",
       "    <tr>\n",
       "      <th>1</th>\n",
       "      <td>Ha Anh</td>\n",
       "      <td>49/3 đường 35 p hiệp bình chánh tp thủ đức - P...</td>\n",
       "      <td>Hồ Chí Minh</td>\n",
       "      <td>Thành phố Thủ Đức</td>\n",
       "      <td>Phường Hiệp Bình Chánh</td>\n",
       "      <td>0935494258</td>\n",
       "      <td>1 x 0g Đầm hoa cổ tròn thắt eo phối ren tay - ...</td>\n",
       "      <td>249000</td>\n",
       "      <td>249000</td>\n",
       "      <td>280000</td>\n",
       "      <td>Mobifone</td>\n",
       "    </tr>\n",
       "    <tr>\n",
       "      <th>2</th>\n",
       "      <td>Lê Anh Thư</td>\n",
       "      <td>17 thi sách p3 Vị Thanh Hậu Giang - Phường 3, ...</td>\n",
       "      <td>Hậu Giang</td>\n",
       "      <td>Thành phố Vị Thanh</td>\n",
       "      <td>Phường 3</td>\n",
       "      <td>0978187111</td>\n",
       "      <td>1 x 0g Áo khoác len mỏng dệt kim Hàn Quốc - D2...</td>\n",
       "      <td>0</td>\n",
       "      <td>0</td>\n",
       "      <td>250000</td>\n",
       "      <td>Viettel</td>\n",
       "    </tr>\n",
       "    <tr>\n",
       "      <th>3</th>\n",
       "      <td>Viet Phan</td>\n",
       "      <td>Hoa Phượng 1-18 KĐT Vinhomes Riverside - Phúc ...</td>\n",
       "      <td>Hà Nội</td>\n",
       "      <td>Quận Long Biên</td>\n",
       "      <td>NaN</td>\n",
       "      <td>0968886068</td>\n",
       "      <td>1 x 100g Hộ vớ đi chân</td>\n",
       "      <td>249000</td>\n",
       "      <td>249000</td>\n",
       "      <td>0</td>\n",
       "      <td>Viettel</td>\n",
       "    </tr>\n",
       "    <tr>\n",
       "      <th>4</th>\n",
       "      <td>Nguyễn Hồng Son</td>\n",
       "      <td>bvđk tỉnh hậu giang khu vực 4 phường 3 thành p...</td>\n",
       "      <td>Hậu Giang</td>\n",
       "      <td>Thành phố Vị Thanh</td>\n",
       "      <td>Phường 3</td>\n",
       "      <td>0988890171</td>\n",
       "      <td>1 x 0g Cài tóc đen hoạ tiết đơn giản - A624, 1...</td>\n",
       "      <td>329000</td>\n",
       "      <td>329000</td>\n",
       "      <td>360000</td>\n",
       "      <td>Viettel</td>\n",
       "    </tr>\n",
       "  </tbody>\n",
       "</table>\n",
       "</div>"
      ],
      "text/plain": [
       "        Người nhận                                            Địa chỉ  \\\n",
       "0            A bảo  250 nguyễn thượng hiền P 5 Q Phú nhuận phuong ...   \n",
       "1           Ha Anh  49/3 đường 35 p hiệp bình chánh tp thủ đức - P...   \n",
       "2       Lê Anh Thư  17 thi sách p3 Vị Thanh Hậu Giang - Phường 3, ...   \n",
       "3        Viet Phan  Hoa Phượng 1-18 KĐT Vinhomes Riverside - Phúc ...   \n",
       "4  Nguyễn Hồng Son  bvđk tỉnh hậu giang khu vực 4 phường 3 thành p...   \n",
       "\n",
       "  Tỉnh/ Thành phố giao    Quận/ Huyện giao         Phường/ Xã giao  \\\n",
       "0          Hồ Chí Minh      Quận Phú Nhuận                Phường 5   \n",
       "1          Hồ Chí Minh   Thành phố Thủ Đức  Phường Hiệp Bình Chánh   \n",
       "2            Hậu Giang  Thành phố Vị Thanh                Phường 3   \n",
       "3               Hà Nội      Quận Long Biên                     NaN   \n",
       "4            Hậu Giang  Thành phố Vị Thanh                Phường 3   \n",
       "\n",
       "  Số điện thoại                                           Sản phẩm     COD  \\\n",
       "0    0775509292                                    1 x 10g My pham  780000   \n",
       "1    0935494258  1 x 0g Đầm hoa cổ tròn thắt eo phối ren tay - ...  249000   \n",
       "2    0978187111  1 x 0g Áo khoác len mỏng dệt kim Hàn Quốc - D2...       0   \n",
       "3    0968886068                             1 x 100g Hộ vớ đi chân  249000   \n",
       "4    0988890171  1 x 0g Cài tóc đen hoạ tiết đơn giản - A624, 1...  329000   \n",
       "\n",
       "   Tổng tiền thu được  Khai giá  Nhà mạng  \n",
       "0              780000         0  Mobifone  \n",
       "1              249000    280000  Mobifone  \n",
       "2                   0    250000   Viettel  \n",
       "3              249000         0   Viettel  \n",
       "4              329000    360000   Viettel  "
      ]
     },
     "execution_count": 8,
     "metadata": {},
     "output_type": "execute_result"
    }
   ],
   "source": [
    "df.head()"
   ]
  },
  {
   "cell_type": "code",
   "execution_count": 16,
   "id": "1f1ba4b0-220d-4a65-9ddd-6787377bcf5f",
   "metadata": {},
   "outputs": [],
   "source": [
    "df['Sản phẩm'] = df['Sản phẩm'].astype(str).apply(lambda x: ''.join(x.split(\"g \")[1:]))"
   ]
  },
  {
   "cell_type": "code",
   "execution_count": 15,
   "id": "e55bbad2-2809-4fdd-a82a-3370c7548094",
   "metadata": {},
   "outputs": [
    {
     "data": {
      "text/plain": [
       "list"
      ]
     },
     "execution_count": 15,
     "metadata": {},
     "output_type": "execute_result"
    }
   ],
   "source": [
    "s = '1 x 10g My pham'\n",
    "\n",
    "type(s.split('g '))"
   ]
  },
  {
   "cell_type": "code",
   "execution_count": 20,
   "id": "fd6873eb-8819-4bb4-aaf0-8bad7bd9efad",
   "metadata": {},
   "outputs": [],
   "source": [
    "gr = df.groupby(['Sản phẩm', 'Số điện thoại', 'Người nhận'])"
   ]
  },
  {
   "cell_type": "code",
   "execution_count": null,
   "id": "f8e994fd-134c-48dd-a914-50a6a2f5a1fa",
   "metadata": {},
   "outputs": [],
   "source": [
    "gr.head()"
   ]
  },
  {
   "cell_type": "code",
   "execution_count": null,
   "id": "010d3df3-0859-4201-b628-9e169450ed55",
   "metadata": {},
   "outputs": [],
   "source": []
  },
  {
   "cell_type": "code",
   "execution_count": 9,
   "id": "8712ecfe-59d1-481c-b6d6-6110b085f54d",
   "metadata": {},
   "outputs": [],
   "source": [
    "DN = df[df['To District'] == 'Quận Liên Chiểu']"
   ]
  },
  {
   "cell_type": "code",
   "execution_count": 11,
   "id": "34f0df45-fd07-48a4-9f89-c2564d2727a8",
   "metadata": {},
   "outputs": [
    {
     "name": "stdout",
     "output_type": "stream",
     "text": [
      "<class 'pandas.core.frame.DataFrame'>\n",
      "Int64Index: 1034 entries, 1244 to 889328\n",
      "Data columns (total 6 columns):\n",
      " #   Column       Non-Null Count  Dtype \n",
      "---  ------       --------------  ----- \n",
      " 0   To Name      1034 non-null   object\n",
      " 1   To Contact   1034 non-null   object\n",
      " 2   To Address   1034 non-null   object\n",
      " 3   To Province  1034 non-null   object\n",
      " 4   To District  1034 non-null   object\n",
      " 5   sent         1034 non-null   bool  \n",
      "dtypes: bool(1), object(5)\n",
      "memory usage: 49.5+ KB\n"
     ]
    }
   ],
   "source": [
    "DN.info()"
   ]
  },
  {
   "cell_type": "code",
   "execution_count": 12,
   "id": "23de0753-a181-4242-b636-d5e78d06eeda",
   "metadata": {},
   "outputs": [],
   "source": [
    "isp_maps = {\n",
    "    70: 'Mobifone',\n",
    "    79: 'Mobifone',\n",
    "    77: 'Mobifone',\n",
    "    76: 'Mobifone',\n",
    "    78: 'Mobifone',\n",
    "    32: 'Viettel',\n",
    "    33: 'Viettel',\n",
    "    34: 'Viettel',\n",
    "    35: 'Viettel',\n",
    "    36: 'Viettel',\n",
    "    37: 'Viettel',\n",
    "    38: 'Viettel',\n",
    "    39: 'Viettel',\n",
    "    83: 'Vinaphone',\n",
    "    84: 'Vinaphone',\n",
    "    85: 'Vinaphone',\n",
    "    81: 'Vinaphone',\n",
    "    82: 'Vinaphone',\n",
    "    97: 'Viettel',\n",
    "    90: 'Mobifone',\n",
    "    93: 'Mobifone',\n",
    "    96: 'Viettel',\n",
    "    98: 'Viettel',\n",
    "    91: 'Vinaphone',\n",
    "    92: 'Vietnammobile',\n",
    "    94: 'Vinaphone',\n",
    "    89: 'Mobifone',\n",
    "    88: 'Vinaphone',\n",
    "    86: 'Viettel',\n",
    "    55: 'Vietnammobile',\n",
    "    56: 'Vietnammobile',\n",
    "    58: 'Vietnammobile',\n",
    "    87: 'I-telecom',\n",
    "    52: 'Vietnammobile'\n",
    "}\n",
    "\n",
    "\n",
    "def get_isp_name(maps, string):\n",
    "    # get isp name from mapping dict\n",
    "    try:\n",
    "        return maps.get(int(string[1:3]), np.nan)\n",
    "    except ValueError:\n",
    "        return np.nan"
   ]
  },
  {
   "cell_type": "code",
   "execution_count": 15,
   "id": "67cb9115-71d8-43ca-9a36-96aa919a18a0",
   "metadata": {},
   "outputs": [
    {
     "name": "stderr",
     "output_type": "stream",
     "text": [
      "/tmp/ipykernel_56/1408219685.py:1: SettingWithCopyWarning: \n",
      "A value is trying to be set on a copy of a slice from a DataFrame.\n",
      "Try using .loc[row_indexer,col_indexer] = value instead\n",
      "\n",
      "See the caveats in the documentation: https://pandas.pydata.org/pandas-docs/stable/user_guide/indexing.html#returning-a-view-versus-a-copy\n",
      "  DN['Nhà mạng'] = DN['To Contact'].astype(str).apply(lambda x: get_isp_name(isp_maps, x))\n"
     ]
    }
   ],
   "source": [
    "DN['Nhà mạng'] = DN['To Contact'].astype(str).apply(lambda x: get_isp_name(isp_maps, x))"
   ]
  },
  {
   "cell_type": "code",
   "execution_count": 16,
   "id": "1cc2962c-1840-4d0a-a2e2-35f4b5b0f1a1",
   "metadata": {},
   "outputs": [
    {
     "data": {
      "text/html": [
       "<div>\n",
       "<style scoped>\n",
       "    .dataframe tbody tr th:only-of-type {\n",
       "        vertical-align: middle;\n",
       "    }\n",
       "\n",
       "    .dataframe tbody tr th {\n",
       "        vertical-align: top;\n",
       "    }\n",
       "\n",
       "    .dataframe thead th {\n",
       "        text-align: right;\n",
       "    }\n",
       "</style>\n",
       "<table border=\"1\" class=\"dataframe\">\n",
       "  <thead>\n",
       "    <tr style=\"text-align: right;\">\n",
       "      <th></th>\n",
       "      <th>To Name</th>\n",
       "      <th>To Contact</th>\n",
       "      <th>To Address</th>\n",
       "      <th>To Province</th>\n",
       "      <th>To District</th>\n",
       "      <th>sent</th>\n",
       "      <th>Nhà mạng</th>\n",
       "    </tr>\n",
       "  </thead>\n",
       "  <tbody>\n",
       "    <tr>\n",
       "      <th>1244</th>\n",
       "      <td>Thương Hoài</td>\n",
       "      <td>0984509674</td>\n",
       "      <td>H2/3 K74 Ngô Thị Nhậm - Phường Hòa Minh, Quận ...</td>\n",
       "      <td>Đà Nẵng</td>\n",
       "      <td>Quận Liên Chiểu</td>\n",
       "      <td>False</td>\n",
       "      <td>Viettel</td>\n",
       "    </tr>\n",
       "    <tr>\n",
       "      <th>1370</th>\n",
       "      <td>Nguyễn Thị Thảo Nhi</td>\n",
       "      <td>0987502627</td>\n",
       "      <td>117 hồ quý li hoa minh - Phường Hòa Minh, Quận...</td>\n",
       "      <td>Đà Nẵng</td>\n",
       "      <td>Quận Liên Chiểu</td>\n",
       "      <td>False</td>\n",
       "      <td>Viettel</td>\n",
       "    </tr>\n",
       "    <tr>\n",
       "      <th>1833</th>\n",
       "      <td>Phạm thị thảo (phamthithao)</td>\n",
       "      <td>0935767544</td>\n",
       "      <td>03 Lâm Quang Thự, Phường Hòa Minh, Quận Liên C...</td>\n",
       "      <td>Đà Nẵng</td>\n",
       "      <td>Quận Liên Chiểu</td>\n",
       "      <td>False</td>\n",
       "      <td>Mobifone</td>\n",
       "    </tr>\n",
       "    <tr>\n",
       "      <th>2197</th>\n",
       "      <td>Ngoc Trang</td>\n",
       "      <td>0796123287</td>\n",
       "      <td>Ngoc Trang Sdt: 0796123287 Đc: khu G chung cư ...</td>\n",
       "      <td>Đà Nẵng</td>\n",
       "      <td>Quận Liên Chiểu</td>\n",
       "      <td>False</td>\n",
       "      <td>Mobifone</td>\n",
       "    </tr>\n",
       "    <tr>\n",
       "      <th>2568</th>\n",
       "      <td>Anh sơn</td>\n",
       "      <td>0918685303</td>\n",
       "      <td>Ac 03 đường nguyễn tất thành p - Phường Hòa Hi...</td>\n",
       "      <td>Đà Nẵng</td>\n",
       "      <td>Quận Liên Chiểu</td>\n",
       "      <td>False</td>\n",
       "      <td>Vinaphone</td>\n",
       "    </tr>\n",
       "  </tbody>\n",
       "</table>\n",
       "</div>"
      ],
      "text/plain": [
       "                          To Name  To Contact  \\\n",
       "1244                  Thương Hoài  0984509674   \n",
       "1370          Nguyễn Thị Thảo Nhi  0987502627   \n",
       "1833  Phạm thị thảo (phamthithao)  0935767544   \n",
       "2197                   Ngoc Trang  0796123287   \n",
       "2568                      Anh sơn  0918685303   \n",
       "\n",
       "                                             To Address To Province  \\\n",
       "1244  H2/3 K74 Ngô Thị Nhậm - Phường Hòa Minh, Quận ...     Đà Nẵng   \n",
       "1370  117 hồ quý li hoa minh - Phường Hòa Minh, Quận...     Đà Nẵng   \n",
       "1833  03 Lâm Quang Thự, Phường Hòa Minh, Quận Liên C...     Đà Nẵng   \n",
       "2197  Ngoc Trang Sdt: 0796123287 Đc: khu G chung cư ...     Đà Nẵng   \n",
       "2568  Ac 03 đường nguyễn tất thành p - Phường Hòa Hi...     Đà Nẵng   \n",
       "\n",
       "          To District   sent   Nhà mạng  \n",
       "1244  Quận Liên Chiểu  False    Viettel  \n",
       "1370  Quận Liên Chiểu  False    Viettel  \n",
       "1833  Quận Liên Chiểu  False   Mobifone  \n",
       "2197  Quận Liên Chiểu  False   Mobifone  \n",
       "2568  Quận Liên Chiểu  False  Vinaphone  "
      ]
     },
     "execution_count": 16,
     "metadata": {},
     "output_type": "execute_result"
    }
   ],
   "source": [
    "DN.head()"
   ]
  },
  {
   "cell_type": "code",
   "execution_count": 18,
   "id": "a2fb6ab2-7a63-4204-b9bc-e04ff7befc9c",
   "metadata": {},
   "outputs": [
    {
     "name": "stderr",
     "output_type": "stream",
     "text": [
      "/tmp/ipykernel_56/1514655729.py:1: SettingWithCopyWarning: \n",
      "A value is trying to be set on a copy of a slice from a DataFrame\n",
      "\n",
      "See the caveats in the documentation: https://pandas.pydata.org/pandas-docs/stable/user_guide/indexing.html#returning-a-view-versus-a-copy\n",
      "  DN.drop_duplicates(subset=['To Contact'], inplace=True)\n"
     ]
    }
   ],
   "source": [
    "DN.drop_duplicates(subset=['To Contact'], inplace=True)"
   ]
  },
  {
   "cell_type": "code",
   "execution_count": 19,
   "id": "10afd65f-72b2-458d-b3be-2509b060e640",
   "metadata": {},
   "outputs": [
    {
     "name": "stdout",
     "output_type": "stream",
     "text": [
      "<class 'pandas.core.frame.DataFrame'>\n",
      "Int64Index: 807 entries, 1244 to 821391\n",
      "Data columns (total 7 columns):\n",
      " #   Column       Non-Null Count  Dtype \n",
      "---  ------       --------------  ----- \n",
      " 0   To Name      807 non-null    object\n",
      " 1   To Contact   807 non-null    object\n",
      " 2   To Address   807 non-null    object\n",
      " 3   To Province  807 non-null    object\n",
      " 4   To District  807 non-null    object\n",
      " 5   sent         807 non-null    bool  \n",
      " 6   Nhà mạng     807 non-null    object\n",
      "dtypes: bool(1), object(6)\n",
      "memory usage: 44.9+ KB\n"
     ]
    }
   ],
   "source": [
    "DN.info()"
   ]
  },
  {
   "cell_type": "code",
   "execution_count": null,
   "id": "a6352c16-4fe7-4c52-9d4f-b9950829f637",
   "metadata": {},
   "outputs": [],
   "source": []
  },
  {
   "cell_type": "code",
   "execution_count": 20,
   "id": "a431b369-249c-405e-821b-8b861459ff0a",
   "metadata": {},
   "outputs": [],
   "source": [
    "DN.to_excel('ĐN_LC-2021.xlsx', index=False)"
   ]
  },
  {
   "cell_type": "code",
   "execution_count": 21,
   "id": "c1ee79b3-c855-42d1-8414-83a98a46113d",
   "metadata": {},
   "outputs": [],
   "source": [
    "os.chdir('snp-2022')"
   ]
  },
  {
   "cell_type": "code",
   "execution_count": 22,
   "id": "308318ae-70b0-467c-961e-8db5087f6acb",
   "metadata": {},
   "outputs": [],
   "source": [
    "dn = pd.read_excel('ĐN_LC-2022.xlsx', converters={'Số điện thoại': str, 'COD': int, 'Tổng tiền thu được': int, 'Khai giá': int})"
   ]
  },
  {
   "cell_type": "code",
   "execution_count": 25,
   "id": "5ed58487-9a4c-46a4-b240-78095a177d34",
   "metadata": {},
   "outputs": [
    {
     "name": "stdout",
     "output_type": "stream",
     "text": [
      "<class 'pandas.core.frame.DataFrame'>\n",
      "RangeIndex: 3232 entries, 0 to 3231\n",
      "Data columns (total 11 columns):\n",
      " #   Column                Non-Null Count  Dtype \n",
      "---  ------                --------------  ----- \n",
      " 0   Người nhận            3232 non-null   object\n",
      " 1   Địa chỉ               3232 non-null   object\n",
      " 2   Tỉnh/ Thành phố giao  3232 non-null   object\n",
      " 3   Quận/ Huyện giao      3232 non-null   object\n",
      " 4   Phường/ Xã giao       2323 non-null   object\n",
      " 5   Số điện thoại         3232 non-null   object\n",
      " 6   Sản phẩm              2425 non-null   object\n",
      " 7   COD                   2425 non-null   object\n",
      " 8   Tổng tiền thu được    2425 non-null   object\n",
      " 9   Khai giá              2425 non-null   object\n",
      " 10  Nhà mạng              3226 non-null   object\n",
      "dtypes: object(11)\n",
      "memory usage: 277.9+ KB\n"
     ]
    }
   ],
   "source": [
    "dn.info()"
   ]
  },
  {
   "cell_type": "code",
   "execution_count": 26,
   "id": "041c3154-e289-452c-ac0a-a1fa848850e5",
   "metadata": {},
   "outputs": [],
   "source": [
    "dn.drop_duplicates(subset=['Số điện thoại'], inplace=True)"
   ]
  },
  {
   "cell_type": "code",
   "execution_count": 27,
   "id": "32e16f77-dc02-4fcf-bc5f-07baa8a14094",
   "metadata": {},
   "outputs": [
    {
     "name": "stdout",
     "output_type": "stream",
     "text": [
      "<class 'pandas.core.frame.DataFrame'>\n",
      "Int64Index: 2901 entries, 0 to 3154\n",
      "Data columns (total 11 columns):\n",
      " #   Column                Non-Null Count  Dtype \n",
      "---  ------                --------------  ----- \n",
      " 0   Người nhận            2901 non-null   object\n",
      " 1   Địa chỉ               2901 non-null   object\n",
      " 2   Tỉnh/ Thành phố giao  2901 non-null   object\n",
      " 3   Quận/ Huyện giao      2901 non-null   object\n",
      " 4   Phường/ Xã giao       2323 non-null   object\n",
      " 5   Số điện thoại         2901 non-null   object\n",
      " 6   Sản phẩm              2425 non-null   object\n",
      " 7   COD                   2425 non-null   object\n",
      " 8   Tổng tiền thu được    2425 non-null   object\n",
      " 9   Khai giá              2425 non-null   object\n",
      " 10  Nhà mạng              2895 non-null   object\n",
      "dtypes: object(11)\n",
      "memory usage: 272.0+ KB\n"
     ]
    }
   ],
   "source": [
    "dn.info()"
   ]
  },
  {
   "cell_type": "code",
   "execution_count": 30,
   "id": "de750350-d137-41f1-b8da-91c93a98c67a",
   "metadata": {},
   "outputs": [],
   "source": [
    "def split_df(df, chunksize=200000):\n",
    "    chunks = []\n",
    "    num_chunks = len(df) // chunksize + 1\n",
    "    for i in range(num_chunks):\n",
    "        chunks.append(df[i*chunksize:(i+1)*chunksize])\n",
    "    return chunks\n",
    "\n",
    "# chunksize = 10000\n",
    "# chunks = len(data) // chunksize\n",
    "chunks = split_df(df)\n"
   ]
  },
  {
   "cell_type": "code",
   "execution_count": 31,
   "id": "4c818255-72fb-4e29-b53b-cff676cedf48",
   "metadata": {},
   "outputs": [
    {
     "data": {
      "text/plain": [
       "9"
      ]
     },
     "execution_count": 31,
     "metadata": {},
     "output_type": "execute_result"
    }
   ],
   "source": [
    "len(chunks)"
   ]
  },
  {
   "cell_type": "code",
   "execution_count": 32,
   "id": "270f92c3-552d-4b7d-972d-469704bc63d0",
   "metadata": {},
   "outputs": [],
   "source": [
    "i = 0\n",
    "for chunk in chunks:\n",
    "    chunk.to_excel('snp_2022-{:02d}.xlsx'.format(i), index=False)\n",
    "    i += 1"
   ]
  },
  {
   "cell_type": "code",
   "execution_count": null,
   "id": "bb18333e-3c62-4894-a8eb-fbc8a8131a07",
   "metadata": {},
   "outputs": [],
   "source": []
  },
  {
   "cell_type": "code",
   "execution_count": null,
   "id": "f361dd1c-59dc-4dcb-8d4e-fb4ee0e47ad3",
   "metadata": {},
   "outputs": [],
   "source": []
  },
  {
   "cell_type": "code",
   "execution_count": 8,
   "id": "953054b7-74a6-4c2b-a098-ea86c846554b",
   "metadata": {},
   "outputs": [],
   "source": [
    "def split_df(df, chunksize=20000):\n",
    "    chunks = []\n",
    "    num_chunks = len(df) // chunksize + 1\n",
    "    for i in range(num_chunks):\n",
    "        chunks.append(df[i*chunksize:(i+1)*chunksize])\n",
    "    return chunks\n",
    "\n",
    "# chunksize = 10000\n",
    "# chunks = len(data) // chunksize\n",
    "chunks = split_df(df)\n"
   ]
  },
  {
   "cell_type": "code",
   "execution_count": 11,
   "id": "0b1d66a8-62e1-4737-848d-cc3c85fcd2f4",
   "metadata": {},
   "outputs": [],
   "source": [
    "i = 0\n",
    "for chunk in chunks:\n",
    "    chunk.to_excel('data-20k-{:02d}.xlsx'.format(i), index=False)\n",
    "    i += 1"
   ]
  },
  {
   "cell_type": "code",
   "execution_count": null,
   "id": "e42bc6cf-6714-4c68-a22d-ce09f73408de",
   "metadata": {},
   "outputs": [],
   "source": []
  }
 ],
 "metadata": {
  "kernelspec": {
   "display_name": "Python 3 (ipykernel)",
   "language": "python",
   "name": "python3"
  },
  "language_info": {
   "codemirror_mode": {
    "name": "ipython",
    "version": 3
   },
   "file_extension": ".py",
   "mimetype": "text/x-python",
   "name": "python",
   "nbconvert_exporter": "python",
   "pygments_lexer": "ipython3",
   "version": "3.10.6"
  }
 },
 "nbformat": 4,
 "nbformat_minor": 5
}
