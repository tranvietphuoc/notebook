{
 "cells": [
  {
   "cell_type": "code",
   "execution_count": 3,
   "id": "41026f31-4546-40c0-9d40-b3089a1fb9ff",
   "metadata": {},
   "outputs": [],
   "source": [
    "use std::io;\n",
    "use std::collections::HashMap;\n"
   ]
  },
  {
   "cell_type": "code",
   "execution_count": 4,
   "id": "6ef4f4c6-d5d2-4a52-bb3f-e5b7257001ce",
   "metadata": {},
   "outputs": [],
   "source": [
    "fn main(){\n",
    "    let mut v = Vec::new();\n",
    "    println!(\"input the number of elements of list\");\n",
    "    let mut string_number = String::new();\n",
    "    io::stdin().read_line(&mut string_number).expect(\"Failed to read line from stdin\");\n",
    "    let n: u32 = string_number.trim().parse().expect(\"Input the integer\");\n",
    "    println!(\"Now, input the list elements\");\n",
    "    \n",
    "    for _ in 0..n {\n",
    "        let mut tmp = String::new();\n",
    "        io::stdin().read_line(&mut tmp).expect(\"Failed to read line from stdin\");\n",
    "        let element: i32 = tmp.trim().parse().expect(\"Please input the number\");\n",
    "        &mut v.push(element);\n",
    "    }\n",
    "    \n",
    "    let tmp_v = &mut v[..];\n",
    "    tmp_v.sort();  // sort list\n",
    "    let sum_of_vector: i32 = tmp_v.iter().sum();  // calculate the mean\n",
    "    let mean = (sum_of_vector as f32) / n as f32;\n",
    "    println!(\"The mean of vector is {:.3}\", mean);\n",
    "    \n",
    "    // calculate median\n",
    "    if n % 2 == 0 {\n",
    "        let index = n / 2 - 1;\n",
    "        println!(\"The median is: {}\", &tmp_v[index as usize]);\n",
    "    } else {\n",
    "        let index = n / 2;\n",
    "        println!(\"The median is: {}\", &tmp_v[index as usize]);\n",
    "    }\n",
    "    \n",
    "    // calculate mode of list\n",
    "    // a mode is the value occurs most often\n",
    "    // here we use HashMap to implement mode of list\n",
    "    let mut map = HashMap::new();\n",
    "    for element in tmp_v {\n",
    "        let count = map.entry(element).or_insert(0);\n",
    "        *count += 1;\n",
    "    }\n",
    "    println!(\"The map is {:?}\", map);\n",
    "    let max_value = map.values().max();\n",
    "    println!(\"max value: {}\", &max_value.unwrap());\n",
    "}"
   ]
  },
  {
   "cell_type": "code",
   "execution_count": 7,
   "id": "02c987d6-a172-4d52-99b5-295c9b582b31",
   "metadata": {},
   "outputs": [
    {
     "ename": "Error",
     "evalue": "borrow expressions cannot be annotated with lifetimes",
     "output_type": "error",
     "traceback": [
      "let tmp_v = &'static mut v[..];",
      "\u001b[91m             ^^^^^^^\u001b[0m \u001b[94mannotated with lifetime here\u001b[0m",
      "let tmp_v = &'static mut v[..];",
      "\u001b[91m            ^^^^^^^^^^^^^^^^^^\u001b[0m \u001b[94m\u001b[0m",
      "borrow expressions cannot be annotated with lifetimes",
      "\u001b[1mhelp\u001b[0m: remove the lifetime annotation\n\n"
     ]
    }
   ],
   "source": [
    "let mut v = Vec::new();\n",
    "println!(\"input the number of elements of list\");\n",
    "let mut string_number = String::new();\n",
    "io::stdin().read_line(&mut string_number).expect(\"Failed to read line from stdin\");\n",
    "let n: u32 = string_number.trim().parse().expect(\"Input the integer\");\n",
    "println!(\"Now, input the list elements\");\n",
    "    \n",
    "for _ in 0..n {\n",
    "    let mut tmp = String::new();\n",
    "    io::stdin().read_line(&mut tmp).expect(\"Failed to read line from stdin\");\n",
    "    let element: i32 = tmp.trim().parse().expect(\"Please input the number\");\n",
    "    &mut v.push(element);\n",
    "}\n",
    "    \n",
    "let tmp_v = &'static mut v[..];\n",
    "tmp_v.sort();  // sort list\n",
    "let sum_of_vector: i32 = tmp_v.iter().sum();  // calculate the mean\n",
    "let mean = (sum_of_vector as f32) / n as f32;\n",
    "println!(\"The mean of vector is {:.3}\", mean);\n",
    "    \n",
    "// calculate median\n",
    "if n % 2 == 0 {\n",
    "    let index = n / 2 - 1;\n",
    "    println!(\"The median is: {}\", &tmp_v[index as usize]);\n",
    "} else {\n",
    "    let index = n / 2;\n",
    "    println!(\"The median is: {}\", &tmp_v[index as usize]);\n",
    "}\n",
    "    \n",
    "// calculate mode of list\n",
    "// a mode is the value occurs most often\n",
    "// here we use HashMap to implement mode of list\n",
    "let mut map = HashMap::new();\n",
    "for element in tmp_v {\n",
    "    let count = map.entry(element).or_insert(0);\n",
    "    *count += 1;\n",
    "}\n",
    "println!(\"The map is {:?}\", map);\n",
    "let max_value = map.values().max();\n",
    "println!(\"max value: {}\", &max_value.unwrap());"
   ]
  },
  {
   "cell_type": "code",
   "execution_count": null,
   "id": "2bbf1ac8-6045-4ec6-82b3-7a7c94f769bb",
   "metadata": {},
   "outputs": [],
   "source": []
  }
 ],
 "metadata": {
  "kernelspec": {
   "display_name": "Rust",
   "language": "rust",
   "name": "rust"
  },
  "language_info": {
   "codemirror_mode": "rust",
   "file_extension": ".rs",
   "mimetype": "text/rust",
   "name": "Rust",
   "pygment_lexer": "rust",
   "version": ""
  }
 },
 "nbformat": 4,
 "nbformat_minor": 5
}
