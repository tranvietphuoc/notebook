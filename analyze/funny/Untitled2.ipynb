{
 "cells": [
  {
   "cell_type": "code",
   "execution_count": 1,
   "id": "3919e1c5-543a-4864-be46-bc170db0f62b",
   "metadata": {},
   "outputs": [
    {
     "name": "stdout",
     "output_type": "stream",
     "text": [
      "Collecting openpyxl\n",
      "  Downloading openpyxl-3.0.10-py2.py3-none-any.whl (242 kB)\n",
      "     |████████████████████████████████| 242 kB 2.0 MB/s            \n",
      "\u001b[?25hCollecting et-xmlfile\n",
      "  Downloading et_xmlfile-1.1.0-py3-none-any.whl (4.7 kB)\n",
      "Installing collected packages: et-xmlfile, openpyxl\n",
      "Successfully installed et-xmlfile-1.1.0 openpyxl-3.0.10\n"
     ]
    }
   ],
   "source": [
    "!pip install openpyxl"
   ]
  },
  {
   "cell_type": "code",
   "execution_count": 2,
   "id": "d3de9b9a-5d9f-4efe-ae1d-1a2d2e06f75b",
   "metadata": {},
   "outputs": [],
   "source": [
    "import glob\n",
    "import pandas as pd\n",
    "import numpy as np\n",
    "import re\n",
    "import os\n",
    "from sklearn.utils import shuffle"
   ]
  },
  {
   "cell_type": "code",
   "execution_count": 25,
   "id": "b95fd9c2-7633-454b-a48c-85c309d201d8",
   "metadata": {},
   "outputs": [],
   "source": [
    "os.chdir('..')\n"
   ]
  },
  {
   "cell_type": "code",
   "execution_count": 28,
   "id": "c4f1d758-728a-4d7f-9453-1d4d425e573b",
   "metadata": {},
   "outputs": [],
   "source": [
    "columns = ['To Name', 'To Contact', 'To Address']\n",
    "\n",
    "addition = pd.read_excel('22.8.xlsx',names=columns)\n"
   ]
  },
  {
   "cell_type": "code",
   "execution_count": 29,
   "id": "7903d5bd-a0e3-4e61-972c-e17422308f1d",
   "metadata": {},
   "outputs": [
    {
     "data": {
      "text/html": [
       "<div>\n",
       "<style scoped>\n",
       "    .dataframe tbody tr th:only-of-type {\n",
       "        vertical-align: middle;\n",
       "    }\n",
       "\n",
       "    .dataframe tbody tr th {\n",
       "        vertical-align: top;\n",
       "    }\n",
       "\n",
       "    .dataframe thead th {\n",
       "        text-align: right;\n",
       "    }\n",
       "</style>\n",
       "<table border=\"1\" class=\"dataframe\">\n",
       "  <thead>\n",
       "    <tr style=\"text-align: right;\">\n",
       "      <th></th>\n",
       "      <th>To Name</th>\n",
       "      <th>To Contact</th>\n",
       "      <th>To Address</th>\n",
       "    </tr>\n",
       "  </thead>\n",
       "  <tbody>\n",
       "    <tr>\n",
       "      <th>0</th>\n",
       "      <td>Nguyễn Thị Như Ý</td>\n",
       "      <td>84963418989</td>\n",
       "      <td>Thôn Phú Quang xã IahRu'  , Huyện Chư Pưh , Gi...</td>\n",
       "    </tr>\n",
       "    <tr>\n",
       "      <th>1</th>\n",
       "      <td>Mã văn lễ</td>\n",
       "      <td>84945444919</td>\n",
       "      <td>So NHA 40, DUONG 1/5  , Phường Hộ Phòng , Thị ...</td>\n",
       "    </tr>\n",
       "    <tr>\n",
       "      <th>2</th>\n",
       "      <td>Yến Rùa</td>\n",
       "      <td>84846323376</td>\n",
       "      <td>Xã Tân đông  , Xã Tân Đông , Huyện Tân Châu , ...</td>\n",
       "    </tr>\n",
       "    <tr>\n",
       "      <th>3</th>\n",
       "      <td>Vũ Trần Ngọc Hân</td>\n",
       "      <td>84908515830</td>\n",
       "      <td>029 Lô C2 Chung cư Tân Vĩnh  , Phường 6 , Quận...</td>\n",
       "    </tr>\n",
       "    <tr>\n",
       "      <th>4</th>\n",
       "      <td>razido1 (RTS)</td>\n",
       "      <td>84522408401</td>\n",
       "      <td>153/1g tổ 82 ấp tam đông  , Xã Thới Tam Thôn ,...</td>\n",
       "    </tr>\n",
       "  </tbody>\n",
       "</table>\n",
       "</div>"
      ],
      "text/plain": [
       "            To Name   To Contact  \\\n",
       "0  Nguyễn Thị Như Ý  84963418989   \n",
       "1         Mã văn lễ  84945444919   \n",
       "2           Yến Rùa  84846323376   \n",
       "3  Vũ Trần Ngọc Hân  84908515830   \n",
       "4     razido1 (RTS)  84522408401   \n",
       "\n",
       "                                          To Address  \n",
       "0  Thôn Phú Quang xã IahRu'  , Huyện Chư Pưh , Gi...  \n",
       "1  So NHA 40, DUONG 1/5  , Phường Hộ Phòng , Thị ...  \n",
       "2  Xã Tân đông  , Xã Tân Đông , Huyện Tân Châu , ...  \n",
       "3  029 Lô C2 Chung cư Tân Vĩnh  , Phường 6 , Quận...  \n",
       "4  153/1g tổ 82 ấp tam đông  , Xã Thới Tam Thôn ,...  "
      ]
     },
     "execution_count": 29,
     "metadata": {},
     "output_type": "execute_result"
    }
   ],
   "source": [
    "addition.head()"
   ]
  },
  {
   "cell_type": "code",
   "execution_count": 30,
   "id": "1aa6c19b-6912-430a-ba9f-2bf95a27c7fb",
   "metadata": {},
   "outputs": [],
   "source": [
    "import numpy as np\n",
    "\n",
    "\n",
    "isp_maps = {\n",
    "    70: 'Mobifone',\n",
    "    79: 'Mobifone',\n",
    "    77: 'Mobifone',\n",
    "    76: 'Mobifone',\n",
    "    78: 'Mobifone',\n",
    "    32: 'Viettel',\n",
    "    33: 'Viettel',\n",
    "    34: 'Viettel',\n",
    "    35: 'Viettel',\n",
    "    36: 'Viettel',\n",
    "    37: 'Viettel',\n",
    "    38: 'Viettel',\n",
    "    39: 'Viettel',\n",
    "    83: 'Vinaphone',\n",
    "    84: 'Vinaphone',\n",
    "    85: 'Vinaphone',\n",
    "    81: 'Vinaphone',\n",
    "    82: 'Vinaphone',\n",
    "    97: 'Viettel',\n",
    "    90: 'Mobifone',\n",
    "    93: 'Mobifone',\n",
    "    96: 'Viettel',\n",
    "    98: 'Viettel',\n",
    "    91: 'Vinaphone',\n",
    "    92: 'Vietnammobile',\n",
    "    94: 'Vinaphone',\n",
    "    89: 'Mobifone',\n",
    "    88: 'Vinaphone',\n",
    "    86: 'Viettel',\n",
    "    55: 'Vietnammobile',\n",
    "    56: 'Vietnammobile',\n",
    "    58: 'Vietnammobile',\n",
    "    87: 'I-telecom',\n",
    "    52: 'Vietnammobile'\n",
    "}\n",
    "\n",
    "\n",
    "def get_isp_name(maps, string):\n",
    "    # get isp name from mapping dict\n",
    "    try:\n",
    "        return maps.get(int(string[1:3]), np.nan)\n",
    "    except ValueError:\n",
    "        return np.nan"
   ]
  },
  {
   "cell_type": "code",
   "execution_count": 33,
   "id": "295e3f02-1921-432a-ac93-fce3b641189c",
   "metadata": {},
   "outputs": [],
   "source": [
    "def normalize_phones(s: str) -> str:\n",
    "    if s.startswith('84'):\n",
    "        return '0' + s[2:]\n",
    "    elif s.startswith('0'):\n",
    "        return s[:]\n",
    "    else:\n",
    "        return '0' + s"
   ]
  },
  {
   "cell_type": "code",
   "execution_count": 34,
   "id": "b6c24a55-5885-4348-bb96-dd0fc0fce289",
   "metadata": {},
   "outputs": [],
   "source": [
    "addition['To Contact'] = addition['To Contact'].astype('str').apply(lambda x: normalize_phones(x))"
   ]
  },
  {
   "cell_type": "code",
   "execution_count": 36,
   "id": "30a36689-48d6-4df5-b0e0-f129824b691a",
   "metadata": {},
   "outputs": [],
   "source": [
    "import unicodedata\n",
    "from typing import List\n",
    "\n",
    "\n",
    "def check_valid_provinces(list_of_provinces: List[str]) -> str:\n",
    "    provinces = \"Hà Nội  Hà Giang  Cao Bằng  Bắc Kạn  Tuyên Quang\\\n",
    "        Lào Cai  Điện Biên  Lai Châu  Sơn La  Yên Bái\\\n",
    "        Hòa Bình  Thái Nguyên  Lạng Sơn  Quảng Ninh  Bắc Giang\\\n",
    "        Phú Thọ  Vĩnh Phúc  Bắc Ninh  Hải Dương  Hải Phòng\\\n",
    "        Hưng Yên  Thái Bình  Hà Nam  Nam Định  Ninh Bình\\\n",
    "        Thanh Hóa  Nghệ An  Hà Tĩnh  Quảng Bình  Quảng Trị\\\n",
    "        Thừa Thiên Huế  Đà Nẵng  Quảng Nam  Quảng Ngãi  Bình Định\\\n",
    "        Phú Yên  Khánh Hòa  Ninh Thuận  Bình Thuận  Kon Tum  Gia Lai\\\n",
    "        Đắk Lắk  Đắk Nông  Lâm Đồng  Bình Phước  Tây Ninh  Bình Dương\\\n",
    "        Đồng Nai  Bà Rịa Vũng Tàu  Hồ Chí Minh  Long An  Tiền Giang\\\n",
    "        Bến Tre  Trà Vinh  Vĩnh Long  Đồng Tháp  An Giang  Kiên Giang\\\n",
    "        Cần Thơ  Hậu Giang  Sóc Trăng  Bạc Liêu  Cà Mau\"\n",
    "    \n",
    "    provinces_ascii = unicodedata.normalize('NFKD', provinces.strip()).encode('ascii', 'ignore').decode('ascii')\n",
    "    provinces = provinces + provinces_ascii\n",
    "    provinces = ' '.join(provinces.strip().split())\n",
    "    # print(provinces)\n",
    "    \n",
    "    length = len(list_of_provinces)\n",
    "    last = list_of_provinces[length - 1]\n",
    "    if last.title() in provinces:\n",
    "        return last.title()\n",
    "    else:\n",
    "        list_of_provinces.pop()\n",
    "        check_valid_provinces(list_of_provinces)\n",
    "\n",
    "def location(address: str) -> str:\n",
    "    \n",
    "    \n",
    "    raw = r\"h. ch. minh|h. n.i|h. giang|c.o b.ng\\\n",
    "    |b.c k.n|tuy.n quang|l.o cai|.i.n bi.n|lai ch.u|s.n la\\\n",
    "    |y.n b.i|h.. b.nh|th.i nguy.n|l.ng s.n|qu.ng ninh|b.c giang\\\n",
    "    |ph. th.|v.nh ph.c|b.c ninh|h.i d..ng|h.i ph.ng|h.ng y.n\\\n",
    "    |th.i b.nh|h. nam|nam ..nh|ninh b.nh|thanh h..|ngh. an|h. t.nh\\\n",
    "    |qu.ng b.nh|qu.ng tr.|th.a thi.n hu.|.. n.ng|qu.ng nam|qu.ng ng.i\\\n",
    "    |b.nh ..nh|ph. y.n|kh.nh h.a|ninh thu.n|b.nh thu.n|kon tum\\\n",
    "    |gia lai|..k l.k|..k n.ng|l.m ..ng|b.nh ph..c|t.y ninh|b.nh d..ng|..ng nai\\\n",
    "    |b. r.a - v.ng t.u|b. r.a v.ng t.u|long an|ti.n giang\\\n",
    "    |b.n tre|tr. vinh|v.nh long|..ng th.p|an giang|ki.n giang|c.n th.\\\n",
    "    |h.u giang|s.c tr.ng|b.c li.u|c. mau|hn|hcm\"\n",
    "    r = raw.strip().split('|')\n",
    "    raw = '|(?<=[\\s,])'.join(r)\n",
    "    raw = '(?<=[\\s,])' + raw\n",
    "    \n",
    "    pattern = re.compile(raw, flags=re.I)\n",
    "    # print(pattern.pattern)\n",
    "    \n",
    "    try:\n",
    "        # result =  re.search(raw, address, re.IGNORECASE).group()\n",
    "        results = pattern.findall(address)\n",
    "        return check_valid_provinces(results)\n",
    "            \n",
    "        # return results\n",
    "    except:\n",
    "        return 'check lai dia chi'\n"
   ]
  },
  {
   "cell_type": "code",
   "execution_count": null,
   "id": "975b968b-68be-49e2-b690-c6997cea219c",
   "metadata": {},
   "outputs": [],
   "source": []
  },
  {
   "cell_type": "code",
   "execution_count": 37,
   "id": "91ce391f-e15d-4538-b0fd-593c23c85990",
   "metadata": {},
   "outputs": [],
   "source": [
    "addition['To Province'] = addition['To Address'].apply(lambda x: location(x))\n"
   ]
  },
  {
   "cell_type": "code",
   "execution_count": 38,
   "id": "7ddaf233-aeb2-4dac-9baf-85cd34c34080",
   "metadata": {},
   "outputs": [
    {
     "data": {
      "text/html": [
       "<div>\n",
       "<style scoped>\n",
       "    .dataframe tbody tr th:only-of-type {\n",
       "        vertical-align: middle;\n",
       "    }\n",
       "\n",
       "    .dataframe tbody tr th {\n",
       "        vertical-align: top;\n",
       "    }\n",
       "\n",
       "    .dataframe thead th {\n",
       "        text-align: right;\n",
       "    }\n",
       "</style>\n",
       "<table border=\"1\" class=\"dataframe\">\n",
       "  <thead>\n",
       "    <tr style=\"text-align: right;\">\n",
       "      <th></th>\n",
       "      <th>To Name</th>\n",
       "      <th>To Contact</th>\n",
       "      <th>To Address</th>\n",
       "      <th>To Province</th>\n",
       "    </tr>\n",
       "  </thead>\n",
       "  <tbody>\n",
       "    <tr>\n",
       "      <th>0</th>\n",
       "      <td>Nguyễn Thị Như Ý</td>\n",
       "      <td>0963418989</td>\n",
       "      <td>Thôn Phú Quang xã IahRu'  , Huyện Chư Pưh , Gi...</td>\n",
       "      <td>Gia Lai</td>\n",
       "    </tr>\n",
       "    <tr>\n",
       "      <th>1</th>\n",
       "      <td>Mã văn lễ</td>\n",
       "      <td>0945444919</td>\n",
       "      <td>So NHA 40, DUONG 1/5  , Phường Hộ Phòng , Thị ...</td>\n",
       "      <td>Bạc Liêu</td>\n",
       "    </tr>\n",
       "    <tr>\n",
       "      <th>2</th>\n",
       "      <td>Yến Rùa</td>\n",
       "      <td>0846323376</td>\n",
       "      <td>Xã Tân đông  , Xã Tân Đông , Huyện Tân Châu , ...</td>\n",
       "      <td>Tây Ninh</td>\n",
       "    </tr>\n",
       "    <tr>\n",
       "      <th>3</th>\n",
       "      <td>Vũ Trần Ngọc Hân</td>\n",
       "      <td>0908515830</td>\n",
       "      <td>029 Lô C2 Chung cư Tân Vĩnh  , Phường 6 , Quận...</td>\n",
       "      <td>Hồ Chí Minh</td>\n",
       "    </tr>\n",
       "    <tr>\n",
       "      <th>4</th>\n",
       "      <td>razido1 (RTS)</td>\n",
       "      <td>0522408401</td>\n",
       "      <td>153/1g tổ 82 ấp tam đông  , Xã Thới Tam Thôn ,...</td>\n",
       "      <td>Hồ Chí Minh</td>\n",
       "    </tr>\n",
       "  </tbody>\n",
       "</table>\n",
       "</div>"
      ],
      "text/plain": [
       "            To Name  To Contact  \\\n",
       "0  Nguyễn Thị Như Ý  0963418989   \n",
       "1         Mã văn lễ  0945444919   \n",
       "2           Yến Rùa  0846323376   \n",
       "3  Vũ Trần Ngọc Hân  0908515830   \n",
       "4     razido1 (RTS)  0522408401   \n",
       "\n",
       "                                          To Address  To Province  \n",
       "0  Thôn Phú Quang xã IahRu'  , Huyện Chư Pưh , Gi...      Gia Lai  \n",
       "1  So NHA 40, DUONG 1/5  , Phường Hộ Phòng , Thị ...     Bạc Liêu  \n",
       "2  Xã Tân đông  , Xã Tân Đông , Huyện Tân Châu , ...     Tây Ninh  \n",
       "3  029 Lô C2 Chung cư Tân Vĩnh  , Phường 6 , Quận...  Hồ Chí Minh  \n",
       "4  153/1g tổ 82 ấp tam đông  , Xã Thới Tam Thôn ,...  Hồ Chí Minh  "
      ]
     },
     "execution_count": 38,
     "metadata": {},
     "output_type": "execute_result"
    }
   ],
   "source": [
    "addition['To District'] = np.nan"
   ]
  },
  {
   "cell_type": "code",
   "execution_count": 40,
   "id": "44c51c91-5f1f-4822-8fb9-d740b6895524",
   "metadata": {},
   "outputs": [],
   "source": [
    "addition['ISP'] = addition['To Contact'].astype('str').apply(lambda x: get_isp_name(isp_maps, x))"
   ]
  },
  {
   "cell_type": "code",
   "execution_count": 42,
   "id": "40a3334c-9613-4f04-95a1-2a166c09a269",
   "metadata": {},
   "outputs": [
    {
     "data": {
      "text/html": [
       "<div>\n",
       "<style scoped>\n",
       "    .dataframe tbody tr th:only-of-type {\n",
       "        vertical-align: middle;\n",
       "    }\n",
       "\n",
       "    .dataframe tbody tr th {\n",
       "        vertical-align: top;\n",
       "    }\n",
       "\n",
       "    .dataframe thead th {\n",
       "        text-align: right;\n",
       "    }\n",
       "</style>\n",
       "<table border=\"1\" class=\"dataframe\">\n",
       "  <thead>\n",
       "    <tr style=\"text-align: right;\">\n",
       "      <th></th>\n",
       "      <th>To Name</th>\n",
       "      <th>To Contact</th>\n",
       "      <th>To Address</th>\n",
       "      <th>To Province</th>\n",
       "      <th>ISP</th>\n",
       "    </tr>\n",
       "  </thead>\n",
       "  <tbody>\n",
       "    <tr>\n",
       "      <th>0</th>\n",
       "      <td>Nguyễn Thị Như Ý</td>\n",
       "      <td>0963418989</td>\n",
       "      <td>Thôn Phú Quang xã IahRu'  , Huyện Chư Pưh , Gi...</td>\n",
       "      <td>Gia Lai</td>\n",
       "      <td>Viettel</td>\n",
       "    </tr>\n",
       "    <tr>\n",
       "      <th>1</th>\n",
       "      <td>Mã văn lễ</td>\n",
       "      <td>0945444919</td>\n",
       "      <td>So NHA 40, DUONG 1/5  , Phường Hộ Phòng , Thị ...</td>\n",
       "      <td>Bạc Liêu</td>\n",
       "      <td>Vinaphone</td>\n",
       "    </tr>\n",
       "    <tr>\n",
       "      <th>2</th>\n",
       "      <td>Yến Rùa</td>\n",
       "      <td>0846323376</td>\n",
       "      <td>Xã Tân đông  , Xã Tân Đông , Huyện Tân Châu , ...</td>\n",
       "      <td>Tây Ninh</td>\n",
       "      <td>Vinaphone</td>\n",
       "    </tr>\n",
       "    <tr>\n",
       "      <th>3</th>\n",
       "      <td>Vũ Trần Ngọc Hân</td>\n",
       "      <td>0908515830</td>\n",
       "      <td>029 Lô C2 Chung cư Tân Vĩnh  , Phường 6 , Quận...</td>\n",
       "      <td>Hồ Chí Minh</td>\n",
       "      <td>Mobifone</td>\n",
       "    </tr>\n",
       "    <tr>\n",
       "      <th>4</th>\n",
       "      <td>razido1 (RTS)</td>\n",
       "      <td>0522408401</td>\n",
       "      <td>153/1g tổ 82 ấp tam đông  , Xã Thới Tam Thôn ,...</td>\n",
       "      <td>Hồ Chí Minh</td>\n",
       "      <td>Vietnammobile</td>\n",
       "    </tr>\n",
       "  </tbody>\n",
       "</table>\n",
       "</div>"
      ],
      "text/plain": [
       "            To Name  To Contact  \\\n",
       "0  Nguyễn Thị Như Ý  0963418989   \n",
       "1         Mã văn lễ  0945444919   \n",
       "2           Yến Rùa  0846323376   \n",
       "3  Vũ Trần Ngọc Hân  0908515830   \n",
       "4     razido1 (RTS)  0522408401   \n",
       "\n",
       "                                          To Address  To Province  \\\n",
       "0  Thôn Phú Quang xã IahRu'  , Huyện Chư Pưh , Gi...      Gia Lai   \n",
       "1  So NHA 40, DUONG 1/5  , Phường Hộ Phòng , Thị ...     Bạc Liêu   \n",
       "2  Xã Tân đông  , Xã Tân Đông , Huyện Tân Châu , ...     Tây Ninh   \n",
       "3  029 Lô C2 Chung cư Tân Vĩnh  , Phường 6 , Quận...  Hồ Chí Minh   \n",
       "4  153/1g tổ 82 ấp tam đông  , Xã Thới Tam Thôn ,...  Hồ Chí Minh   \n",
       "\n",
       "             ISP  \n",
       "0        Viettel  \n",
       "1      Vinaphone  \n",
       "2      Vinaphone  \n",
       "3       Mobifone  \n",
       "4  Vietnammobile  "
      ]
     },
     "execution_count": 42,
     "metadata": {},
     "output_type": "execute_result"
    }
   ],
   "source": [
    "addition.head()"
   ]
  },
  {
   "cell_type": "code",
   "execution_count": null,
   "id": "ad764123-a78b-4f02-b8b3-f9107dfad5de",
   "metadata": {},
   "outputs": [],
   "source": []
  },
  {
   "cell_type": "code",
   "execution_count": 45,
   "id": "1ca533f3-7fe5-4b92-b14a-c7a2575989f7",
   "metadata": {},
   "outputs": [],
   "source": [
    "os.chdir('new-outcome')"
   ]
  },
  {
   "cell_type": "code",
   "execution_count": 46,
   "id": "74958607-986c-4c42-b282-3cb1487648ee",
   "metadata": {},
   "outputs": [
    {
     "data": {
      "text/plain": [
       "['data-shuffle-00.xlsx',\n",
       " 'data-shuffle-01.xlsx',\n",
       " 'data-shuffle-02.xlsx',\n",
       " 'data-shuffle-03.xlsx',\n",
       " 'data-shuffle-04.xlsx',\n",
       " 'data-shuffle-05.xlsx',\n",
       " 'data-shuffle-06.xlsx',\n",
       " 'data-shuffle-07.xlsx',\n",
       " 'data-shuffle-08.xlsx',\n",
       " 'data-shuffle-09.xlsx',\n",
       " 'data-shuffle-10.xlsx',\n",
       " 'data-shuffle-11.xlsx',\n",
       " 'data-shuffle-12.xlsx',\n",
       " 'data-shuffle-13.xlsx',\n",
       " 'data-shuffle-14.xlsx',\n",
       " 'data-shuffle-15.xlsx',\n",
       " 'data-shuffle-16.xlsx',\n",
       " 'data-shuffle-17.xlsx',\n",
       " 'data-shuffle-18.xlsx',\n",
       " 'data-shuffle-19.xlsx',\n",
       " 'data-shuffle-20.xlsx',\n",
       " 'data-shuffle-21.xlsx',\n",
       " 'data-shuffle-22.xlsx',\n",
       " 'data-shuffle-23.xlsx',\n",
       " 'data-shuffle-24.xlsx',\n",
       " 'data-shuffle-25.xlsx',\n",
       " 'data-shuffle-26.xlsx',\n",
       " 'data-shuffle-27.xlsx',\n",
       " 'data-shuffle-28.xlsx',\n",
       " 'data-shuffle-29.xlsx',\n",
       " 'data-shuffle-30.xlsx',\n",
       " 'data-shuffle-31.xlsx',\n",
       " 'data-shuffle-32.xlsx',\n",
       " 'data-shuffle-33.xlsx',\n",
       " 'data-shuffle-34.xlsx',\n",
       " 'data-shuffle-35.xlsx',\n",
       " 'data-shuffle-36.xlsx',\n",
       " 'data-shuffle-37.xlsx',\n",
       " 'data-shuffle-38.xlsx',\n",
       " 'data-shuffle-39.xlsx',\n",
       " 'data-shuffle-40.xlsx',\n",
       " 'data-shuffle-41.xlsx',\n",
       " 'data-shuffle-42.xlsx',\n",
       " 'data-shuffle-43.xlsx',\n",
       " 'data-shuffle-44.xlsx',\n",
       " 'data-shuffle-45.xlsx',\n",
       " 'data-shuffle-46.xlsx',\n",
       " 'data-shuffle-47.xlsx',\n",
       " 'data-shuffle-48.xlsx',\n",
       " 'data-shuffle-49.xlsx',\n",
       " 'data-shuffle-50.xlsx',\n",
       " 'data-shuffle-51.xlsx',\n",
       " 'data-shuffle-52.xlsx',\n",
       " 'data-shuffle-53.xlsx',\n",
       " 'data-shuffle-54.xlsx',\n",
       " 'data-shuffle-55.xlsx',\n",
       " 'data-shuffle-56.xlsx',\n",
       " 'data-shuffle-57.xlsx',\n",
       " 'data-shuffle-58.xlsx',\n",
       " 'data-shuffle-59.xlsx',\n",
       " 'data-shuffle-60.xlsx',\n",
       " 'data-shuffle-61.xlsx',\n",
       " 'data-shuffle-62.xlsx',\n",
       " 'data-shuffle-63.xlsx',\n",
       " 'data-shuffle-64.xlsx',\n",
       " 'data-shuffle-65.xlsx',\n",
       " 'data-shuffle-66.xlsx',\n",
       " 'data-shuffle-67.xlsx',\n",
       " 'data-shuffle-68.xlsx',\n",
       " 'data-shuffle-69.xlsx',\n",
       " 'data-shuffle-70.xlsx',\n",
       " 'data-shuffle-71.xlsx',\n",
       " 'data-shuffle-72.xlsx',\n",
       " 'data-shuffle-73.xlsx',\n",
       " 'data-shuffle-74.xlsx',\n",
       " 'data-shuffle-75.xlsx',\n",
       " 'data-shuffle-76.xlsx',\n",
       " 'data-shuffle-77.xlsx',\n",
       " 'data-shuffle-78.xlsx',\n",
       " 'data-shuffle-79.xlsx']"
      ]
     },
     "execution_count": 46,
     "metadata": {},
     "output_type": "execute_result"
    }
   ],
   "source": [
    "files = [f for f in glob.glob('data-*.xlsx')]\n",
    "files"
   ]
  },
  {
   "cell_type": "code",
   "execution_count": 15,
   "id": "6ffc548b-3445-48fc-acd9-b07282afa2a1",
   "metadata": {},
   "outputs": [],
   "source": [
    "# files.remove('data-00.xlsx')\n",
    "# files.remove('data-01.xlsx')\n",
    "# files"
   ]
  },
  {
   "cell_type": "code",
   "execution_count": 47,
   "id": "ef7c4640-0f49-4aae-8e47-88e69d00ba8c",
   "metadata": {},
   "outputs": [],
   "source": [
    "data = [pd.read_excel(file, converters={'To Contact': str}) for file in files]  # read excel do not parse number\n",
    "\n"
   ]
  },
  {
   "cell_type": "code",
   "execution_count": 49,
   "id": "872296be-add6-4f3e-af65-0d61571a041b",
   "metadata": {},
   "outputs": [],
   "source": [
    "data = [df.drop(['sent'], axis=1) for df in data]"
   ]
  },
  {
   "cell_type": "code",
   "execution_count": 52,
   "id": "fcac1693-9ea6-4e07-a7d7-3af53489f38f",
   "metadata": {},
   "outputs": [],
   "source": [
    "total = pd.concat(data)"
   ]
  },
  {
   "cell_type": "code",
   "execution_count": 54,
   "id": "74dc15c6-c9dd-48a7-890d-cbd51b4706a5",
   "metadata": {},
   "outputs": [],
   "source": [
    "total.drop_duplicates(subset=['To Contact'], inplace=True)"
   ]
  },
  {
   "cell_type": "code",
   "execution_count": 55,
   "id": "a6426ca6-1d0f-42fb-a03e-21f64a8b286f",
   "metadata": {},
   "outputs": [
    {
     "name": "stdout",
     "output_type": "stream",
     "text": [
      "<class 'pandas.core.frame.DataFrame'>\n",
      "Int64Index: 1174575 entries, 0 to 7021\n",
      "Data columns (total 6 columns):\n",
      " #   Column       Non-Null Count    Dtype \n",
      "---  ------       --------------    ----- \n",
      " 0   To Name      1174569 non-null  object\n",
      " 1   To Contact   1174575 non-null  object\n",
      " 2   To Address   1174575 non-null  object\n",
      " 3   To Province  1104135 non-null  object\n",
      " 4   To District  451420 non-null   object\n",
      " 5   ISP          1173118 non-null  object\n",
      "dtypes: object(6)\n",
      "memory usage: 62.7+ MB\n"
     ]
    }
   ],
   "source": [
    "total.info()"
   ]
  },
  {
   "cell_type": "code",
   "execution_count": 57,
   "id": "e5e3bd91-cb37-49c8-81f6-a61a636ec43c",
   "metadata": {},
   "outputs": [],
   "source": [
    "total = pd.concat([total, addition])"
   ]
  },
  {
   "cell_type": "code",
   "execution_count": 59,
   "id": "86e5b58d-4889-407b-a4ef-a1b48ea2946d",
   "metadata": {},
   "outputs": [
    {
     "data": {
      "text/plain": [
       "False"
      ]
     },
     "execution_count": 59,
     "metadata": {},
     "output_type": "execute_result"
    }
   ],
   "source": [
    "total['To Contact'].is_unique "
   ]
  },
  {
   "cell_type": "code",
   "execution_count": 60,
   "id": "3c5387c3-df0e-4fdd-b844-21d85c7fdb28",
   "metadata": {},
   "outputs": [],
   "source": [
    "total.drop_duplicates(subset=['To Contact'], inplace=True)"
   ]
  },
  {
   "cell_type": "code",
   "execution_count": 61,
   "id": "672255d6-eb47-4b9a-8777-bf65edec4f60",
   "metadata": {},
   "outputs": [
    {
     "data": {
      "text/plain": [
       "True"
      ]
     },
     "execution_count": 61,
     "metadata": {},
     "output_type": "execute_result"
    }
   ],
   "source": [
    "total['To Contact'].is_unique"
   ]
  },
  {
   "cell_type": "code",
   "execution_count": 63,
   "id": "7510f640-3310-4ab2-91ab-a729afe0593e",
   "metadata": {},
   "outputs": [
    {
     "name": "stdout",
     "output_type": "stream",
     "text": [
      "<class 'pandas.core.frame.DataFrame'>\n",
      "Int64Index: 1194326 entries, 0 to 23178\n",
      "Data columns (total 6 columns):\n",
      " #   Column       Non-Null Count    Dtype \n",
      "---  ------       --------------    ----- \n",
      " 0   To Name      1194320 non-null  object\n",
      " 1   To Contact   1194326 non-null  object\n",
      " 2   To Address   1194325 non-null  object\n",
      " 3   To Province  1122698 non-null  object\n",
      " 4   To District  451420 non-null   object\n",
      " 5   ISP          1192849 non-null  object\n",
      "dtypes: object(6)\n",
      "memory usage: 63.8+ MB\n"
     ]
    }
   ],
   "source": [
    "total.info()"
   ]
  },
  {
   "cell_type": "code",
   "execution_count": 64,
   "id": "50882f25-a512-44a7-80e0-0b0a8eea809d",
   "metadata": {},
   "outputs": [
    {
     "data": {
      "text/html": [
       "<div>\n",
       "<style scoped>\n",
       "    .dataframe tbody tr th:only-of-type {\n",
       "        vertical-align: middle;\n",
       "    }\n",
       "\n",
       "    .dataframe tbody tr th {\n",
       "        vertical-align: top;\n",
       "    }\n",
       "\n",
       "    .dataframe thead th {\n",
       "        text-align: right;\n",
       "    }\n",
       "</style>\n",
       "<table border=\"1\" class=\"dataframe\">\n",
       "  <thead>\n",
       "    <tr style=\"text-align: right;\">\n",
       "      <th></th>\n",
       "      <th>To Name</th>\n",
       "      <th>To Contact</th>\n",
       "      <th>To Address</th>\n",
       "      <th>To Province</th>\n",
       "      <th>To District</th>\n",
       "      <th>ISP</th>\n",
       "    </tr>\n",
       "  </thead>\n",
       "  <tbody>\n",
       "    <tr>\n",
       "      <th>0</th>\n",
       "      <td>Nguyễn Thị Hồng</td>\n",
       "      <td>0395262438</td>\n",
       "      <td>Vĩnh An Cam Hiếu, Cam Lộ  , Xã Cam Hiếu , Huyệ...</td>\n",
       "      <td>Quảng Trị</td>\n",
       "      <td>NaN</td>\n",
       "      <td>Viettel</td>\n",
       "    </tr>\n",
       "    <tr>\n",
       "      <th>1</th>\n",
       "      <td>13 Đỗ Thị Hà 200000</td>\n",
       "      <td>0376374191</td>\n",
       "      <td>xã thanh lâm thôn đức hậu huyện mê linh tp hà ...</td>\n",
       "      <td>Hà Nội</td>\n",
       "      <td>NaN</td>\n",
       "      <td>Viettel</td>\n",
       "    </tr>\n",
       "    <tr>\n",
       "      <th>2</th>\n",
       "      <td>Hoàng Nguyễn</td>\n",
       "      <td>0943935759</td>\n",
       "      <td>số A2302, Toà Nhà Riverside, 90 Nguyễn Hưữ Cản...</td>\n",
       "      <td>Hồ Chí Minh</td>\n",
       "      <td>NaN</td>\n",
       "      <td>Vinaphone</td>\n",
       "    </tr>\n",
       "    <tr>\n",
       "      <th>3</th>\n",
       "      <td>Vũ Đặng Thiện Hiếu</td>\n",
       "      <td>0349268851</td>\n",
       "      <td>51B Xuân An, (đi đường Đào Duy Từ, chợ đi xuốn...</td>\n",
       "      <td>Lâm Đồng</td>\n",
       "      <td>NaN</td>\n",
       "      <td>Viettel</td>\n",
       "    </tr>\n",
       "    <tr>\n",
       "      <th>4</th>\n",
       "      <td>Lê Hoàng Triều</td>\n",
       "      <td>0707109041</td>\n",
       "      <td>Ấp lý hoà hiệp  , Xã Lý Nhơn , Huyện Cần Giờ ,...</td>\n",
       "      <td>Hồ Chí Minh</td>\n",
       "      <td>NaN</td>\n",
       "      <td>Mobifone</td>\n",
       "    </tr>\n",
       "  </tbody>\n",
       "</table>\n",
       "</div>"
      ],
      "text/plain": [
       "               To Name  To Contact  \\\n",
       "0      Nguyễn Thị Hồng  0395262438   \n",
       "1  13 Đỗ Thị Hà 200000  0376374191   \n",
       "2         Hoàng Nguyễn  0943935759   \n",
       "3   Vũ Đặng Thiện Hiếu  0349268851   \n",
       "4       Lê Hoàng Triều  0707109041   \n",
       "\n",
       "                                          To Address  To Province To District  \\\n",
       "0  Vĩnh An Cam Hiếu, Cam Lộ  , Xã Cam Hiếu , Huyệ...    Quảng Trị         NaN   \n",
       "1  xã thanh lâm thôn đức hậu huyện mê linh tp hà ...       Hà Nội         NaN   \n",
       "2  số A2302, Toà Nhà Riverside, 90 Nguyễn Hưữ Cản...  Hồ Chí Minh         NaN   \n",
       "3  51B Xuân An, (đi đường Đào Duy Từ, chợ đi xuốn...     Lâm Đồng         NaN   \n",
       "4  Ấp lý hoà hiệp  , Xã Lý Nhơn , Huyện Cần Giờ ,...  Hồ Chí Minh         NaN   \n",
       "\n",
       "         ISP  \n",
       "0    Viettel  \n",
       "1    Viettel  \n",
       "2  Vinaphone  \n",
       "3    Viettel  \n",
       "4   Mobifone  "
      ]
     },
     "execution_count": 64,
     "metadata": {},
     "output_type": "execute_result"
    }
   ],
   "source": [
    "total.head()"
   ]
  },
  {
   "cell_type": "code",
   "execution_count": 65,
   "id": "789ddc2c-1ad7-4b45-92ef-28025696f874",
   "metadata": {},
   "outputs": [],
   "source": [
    "def split_df(df, chunksize=15000):\n",
    "    chunks = []\n",
    "    num_chunks = len(df) // chunksize + 1\n",
    "    for i in range(num_chunks):\n",
    "        chunks.append(df[i*chunksize:(i+1)*chunksize])\n",
    "    return chunks\n",
    "\n",
    "# chunksize = 10000\n",
    "# chunks = len(data) // chunksize\n",
    "chunks = split_df(total)\n",
    "\n",
    "i = 0\n",
    "for chunk in chunks:\n",
    "    chunk.to_excel('data-shuffle-{:02d}.xlsx'.format(i), index=False)\n",
    "    i += 1"
   ]
  },
  {
   "cell_type": "code",
   "execution_count": null,
   "id": "da25e179-d94f-4ac0-95ad-6cebcf2e5b33",
   "metadata": {},
   "outputs": [],
   "source": []
  },
  {
   "cell_type": "code",
   "execution_count": 6,
   "id": "20842097-f1ed-4ab4-9e61-9f84fde84e84",
   "metadata": {},
   "outputs": [
    {
     "data": {
      "text/plain": [
       "False"
      ]
     },
     "execution_count": 6,
     "metadata": {},
     "output_type": "execute_result"
    }
   ],
   "source": [
    "# data[1]['To Contact'].is_unique"
   ]
  },
  {
   "cell_type": "code",
   "execution_count": 10,
   "id": "2eae64f5-f22d-4304-aa4e-eba485c70c1e",
   "metadata": {},
   "outputs": [],
   "source": [
    "# data = [shuffle(df) for df in data]"
   ]
  },
  {
   "cell_type": "code",
   "execution_count": 11,
   "id": "5d851fe0-201f-4ce9-b03c-cf6ec081dfcd",
   "metadata": {},
   "outputs": [
    {
     "data": {
      "text/html": [
       "<div>\n",
       "<style scoped>\n",
       "    .dataframe tbody tr th:only-of-type {\n",
       "        vertical-align: middle;\n",
       "    }\n",
       "\n",
       "    .dataframe tbody tr th {\n",
       "        vertical-align: top;\n",
       "    }\n",
       "\n",
       "    .dataframe thead th {\n",
       "        text-align: right;\n",
       "    }\n",
       "</style>\n",
       "<table border=\"1\" class=\"dataframe\">\n",
       "  <thead>\n",
       "    <tr style=\"text-align: right;\">\n",
       "      <th></th>\n",
       "      <th>To Name</th>\n",
       "      <th>To Contact</th>\n",
       "      <th>To Address</th>\n",
       "      <th>To Province</th>\n",
       "      <th>To District</th>\n",
       "      <th>sent</th>\n",
       "      <th>ISP</th>\n",
       "    </tr>\n",
       "  </thead>\n",
       "  <tbody>\n",
       "    <tr>\n",
       "      <th>4504</th>\n",
       "      <td>Tào Thu</td>\n",
       "      <td>0853168816</td>\n",
       "      <td>Cho e 1 đôi này size 35 Sđt 0853168816 Thôn gi...</td>\n",
       "      <td>Thanh Hóa</td>\n",
       "      <td>Huyện Bá Thước</td>\n",
       "      <td>False</td>\n",
       "      <td>Vinaphone</td>\n",
       "    </tr>\n",
       "    <tr>\n",
       "      <th>7709</th>\n",
       "      <td>Yu Miu</td>\n",
       "      <td>0336705687</td>\n",
       "      <td>47 Âu Cơ  , Xã Lộc Nga , Thành Phố Bảo Lộc , L...</td>\n",
       "      <td>Lâm Đồng</td>\n",
       "      <td>NaN</td>\n",
       "      <td>False</td>\n",
       "      <td>Viettel</td>\n",
       "    </tr>\n",
       "    <tr>\n",
       "      <th>16</th>\n",
       "      <td>NTD- Chị Thu</td>\n",
       "      <td>0926651631</td>\n",
       "      <td>23 Đường Suối Nhum - Phường Linh Xuân, Thành p...</td>\n",
       "      <td>Hồ Chí Minh</td>\n",
       "      <td>Thành phố Thủ Đức</td>\n",
       "      <td>False</td>\n",
       "      <td>Vietnammobile</td>\n",
       "    </tr>\n",
       "    <tr>\n",
       "      <th>6428</th>\n",
       "      <td>Mạnh Hà</td>\n",
       "      <td>0862176226</td>\n",
       "      <td>khu vui chơi victory ql 37b tây vinh  , Xã Yên...</td>\n",
       "      <td>Nam Định</td>\n",
       "      <td>NaN</td>\n",
       "      <td>False</td>\n",
       "      <td>Viettel</td>\n",
       "    </tr>\n",
       "    <tr>\n",
       "      <th>10899</th>\n",
       "      <td>Nguyễn Hoàng Thùy Lâm</td>\n",
       "      <td>0763725149</td>\n",
       "      <td>Công Viên Diên Hồng, Đường Tản Đà,Phường 1  , ...</td>\n",
       "      <td>Phú Yên</td>\n",
       "      <td>NaN</td>\n",
       "      <td>False</td>\n",
       "      <td>Mobifone</td>\n",
       "    </tr>\n",
       "  </tbody>\n",
       "</table>\n",
       "</div>"
      ],
      "text/plain": [
       "                     To Name  To Contact  \\\n",
       "4504                 Tào Thu  0853168816   \n",
       "7709                  Yu Miu  0336705687   \n",
       "16              NTD- Chị Thu  0926651631   \n",
       "6428                 Mạnh Hà  0862176226   \n",
       "10899  Nguyễn Hoàng Thùy Lâm  0763725149   \n",
       "\n",
       "                                              To Address  To Province  \\\n",
       "4504   Cho e 1 đôi này size 35 Sđt 0853168816 Thôn gi...    Thanh Hóa   \n",
       "7709   47 Âu Cơ  , Xã Lộc Nga , Thành Phố Bảo Lộc , L...     Lâm Đồng   \n",
       "16     23 Đường Suối Nhum - Phường Linh Xuân, Thành p...  Hồ Chí Minh   \n",
       "6428   khu vui chơi victory ql 37b tây vinh  , Xã Yên...     Nam Định   \n",
       "10899  Công Viên Diên Hồng, Đường Tản Đà,Phường 1  , ...      Phú Yên   \n",
       "\n",
       "             To District   sent            ISP  \n",
       "4504      Huyện Bá Thước  False      Vinaphone  \n",
       "7709                 NaN  False        Viettel  \n",
       "16     Thành phố Thủ Đức  False  Vietnammobile  \n",
       "6428                 NaN  False        Viettel  \n",
       "10899                NaN  False       Mobifone  "
      ]
     },
     "execution_count": 11,
     "metadata": {},
     "output_type": "execute_result"
    }
   ],
   "source": [
    "# data[1].head()"
   ]
  },
  {
   "cell_type": "code",
   "execution_count": 12,
   "id": "4d50feac-0424-4917-8cd7-711fcf43a711",
   "metadata": {},
   "outputs": [],
   "source": [
    "# i = 0\n",
    "# for df in data:\n",
    "#     df.to_excel('data-shuffle-{:02d}.xlsx'.format(i), index=False)\n",
    "#     i += 1"
   ]
  },
  {
   "cell_type": "code",
   "execution_count": null,
   "id": "0b888727-080a-4b1c-ac2a-76d31cb504c6",
   "metadata": {},
   "outputs": [],
   "source": []
  },
  {
   "cell_type": "code",
   "execution_count": null,
   "id": "fccce226-7d69-4d2c-a8ed-9cf880f672f9",
   "metadata": {},
   "outputs": [],
   "source": []
  }
 ],
 "metadata": {
  "kernelspec": {
   "display_name": "Python 3 (ipykernel)",
   "language": "python",
   "name": "python3"
  },
  "language_info": {
   "codemirror_mode": {
    "name": "ipython",
    "version": 3
   },
   "file_extension": ".py",
   "mimetype": "text/x-python",
   "name": "python",
   "nbconvert_exporter": "python",
   "pygments_lexer": "ipython3",
   "version": "3.9.7"
  }
 },
 "nbformat": 4,
 "nbformat_minor": 5
}
