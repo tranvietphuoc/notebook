{
 "cells": [
  {
   "cell_type": "code",
   "execution_count": 2,
   "id": "19a313d3-55e6-4b29-8af8-4d433b376b1e",
   "metadata": {},
   "outputs": [],
   "source": [
    "use std::mem;"
   ]
  },
  {
   "cell_type": "code",
   "execution_count": 4,
   "id": "40308499-8d7f-4e6b-b4dd-3a7bd5e3fab7",
   "metadata": {},
   "outputs": [],
   "source": [
    "fn analyze_slice(slice: &[i32]){\n",
    "    println!(\"first element of the slice is: {}\", slice[0]);\n",
    "    println!(\"the slice  has {} elements\", slice.len());\n",
    "}"
   ]
  },
  {
   "cell_type": "code",
   "execution_count": 6,
   "id": "e8280272-e380-4480-9cd5-519a9a34dc82",
   "metadata": {},
   "outputs": [
    {
     "ename": "Error",
     "evalue": "this function takes 0 arguments but 1 argument was supplied",
     "output_type": "error",
     "traceback": [
      "    println!(\"{}\", mem::zeroed(&xs));",
      "\u001b[91m                               ^^^\u001b[0m \u001b[94msupplied 1 argument\u001b[0m",
      "    println!(\"{}\", mem::zeroed(&xs));",
      "\u001b[91m                   ^^^^^^^^^^^\u001b[0m \u001b[94mexpected 0 arguments\u001b[0m",
      "this function takes 0 arguments but 1 argument was supplied"
     ]
    }
   ],
   "source": [
    "fn main(){\n",
    "    let xs: [i32; 5] = [1, 2, 3, 4, 5];  // fixed-size array (type signature is superflouus)\n",
    "    let ys: [i32; 500] = [0; 500];  // all elements can be initialized to the same value\n",
    "    println!(\"first element of the array: {}\", xs[0]);  // index starts at 0\n",
    "    println!(\"second elmenent of the array: {}\", xs[1]);\n",
    "    \n",
    "    // `len` returns the count of elements in the array\n",
    "    println!(\"number of elements in array: {}\", xs.len());\n",
    "    \n",
    "    // array are stack allocated\n",
    "    println!(\"array occupies {} bytes\", mem::size_of_val(&xs));\n",
    "    println!(\"{}\", mem::zeroed(&xs));\n",
    "    \n",
    "    // arrays can be automatically\n",
    "    println!(\"borrow the whole array as a slice\");\n",
    "    analyze_slice(&xs);\n",
    "    \n",
    "    // slices can point to a section of an array\n",
    "    // they are of the form [starting_index..ending_index]\n",
    "    // starting_index is one more than the last position in the slice\n",
    "    println!(\"borrow a section of the array as a slice\");\n",
    "    analyze_slice(&ys[1..4]);\n",
    "    \n",
    "    // out of bound indexing causes compiler error\n",
    "    println!(\"{}\", xs[5]);\n",
    "}\n",
    "    "
   ]
  },
  {
   "cell_type": "code",
   "execution_count": null,
   "id": "4a6b904a-c8e4-480a-bca7-7c7f29ad3570",
   "metadata": {},
   "outputs": [],
   "source": []
  }
 ],
 "metadata": {
  "kernelspec": {
   "display_name": "Rust",
   "language": "rust",
   "name": "rust"
  },
  "language_info": {
   "codemirror_mode": "rust",
   "file_extension": ".rs",
   "mimetype": "text/rust",
   "name": "Rust",
   "pygment_lexer": "rust",
   "version": ""
  }
 },
 "nbformat": 4,
 "nbformat_minor": 5
}
