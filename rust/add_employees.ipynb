{
 "cells": [
  {
   "cell_type": "markdown",
   "id": "b46c8c50-57ca-487f-9625-077c5b3c2522",
   "metadata": {},
   "source": [
    "**Problem:**\n",
    "Using a hash map and vectors to create a text interface to allow a user to add employee names\n",
    "to a department in a company.\n",
    "For example: \"Add Sally to Engineering\" or \"Add Amir to Sales\".\n",
    "\n"
   ]
  },
  {
   "cell_type": "code",
   "execution_count": 2,
   "id": "53254ba0-167a-4e68-b107-0379d481eeb8",
   "metadata": {},
   "outputs": [],
   "source": [
    "use std::io;\n",
    "use std::collections::HashMap;\n",
    "use std::collections::hash_map::Entry;\n"
   ]
  },
  {
   "cell_type": "code",
   "execution_count": 5,
   "id": "3e2f30db-2483-4da1-b5f9-fee35198d369",
   "metadata": {},
   "outputs": [],
   "source": [
    "fn create_employee(map: &mut HashMap<String, Vec<String>>) {\n",
    "    let mut s = String::new();\n",
    "    let mut v = Vec::new();\n",
    "    \n",
    "    loop {\n",
    "        println!(\"Input string:\");\n",
    "        io::stdin().read_line(&mut s).expect(\"Must a string\");\n",
    "        let tmp = s.clone();\n",
    "        for w in tmp.split_whitespace() {\n",
    "            v.push(w.to_string());\n",
    "        }\n",
    "        if v.len() == 4 {\n",
    "            let value = v[1].to_string();\n",
    "            let key = v[3].to_string();\n",
    "            \n",
    "            // add value to a vector of values if key does not exists\n",
    "            // use Entry enum\n",
    "            match map.entry(key) {\n",
    "                Entry::Vacant(e) => { e.insert(vec![value]); },\n",
    "                Entry::Occupied(mut e) => { e.get_mut().push(value); },\n",
    "            }\n",
    "            break;\n",
    "        } else {\n",
    "            println!(\"Please input follow the format!\");\n",
    "        }\n",
    "    }\n",
    "}"
   ]
  },
  {
   "cell_type": "code",
   "execution_count": null,
   "id": "2f05767c-a86d-403a-8bfc-021ba04c6a56",
   "metadata": {},
   "outputs": [],
   "source": [
    "fn main() {\n",
    "    let mut result: HashMap<String, Vec<String>> = HashMap::new();\n",
    "    for _ in 1..5 {\n",
    "        create_employee(&mut result);\n",
    "    }\n",
    "    println!(\"result: {:?}\", result);\n",
    "}"
   ]
  },
  {
   "cell_type": "code",
   "execution_count": null,
   "id": "c0dc77fb-820c-492d-bd6f-7e7d592f8cf3",
   "metadata": {},
   "outputs": [],
   "source": []
  }
 ],
 "metadata": {
  "kernelspec": {
   "display_name": "Rust",
   "language": "rust",
   "name": "rust"
  },
  "language_info": {
   "codemirror_mode": "rust",
   "file_extension": ".rs",
   "mimetype": "text/rust",
   "name": "Rust",
   "pygment_lexer": "rust",
   "version": ""
  }
 },
 "nbformat": 4,
 "nbformat_minor": 5
}
