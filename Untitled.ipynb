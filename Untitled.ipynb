{
 "cells": [
  {
   "cell_type": "code",
   "execution_count": 1,
   "metadata": {},
   "outputs": [
    {
     "data": {
      "text/plain": [
       "15118"
      ]
     },
     "execution_count": 1,
     "metadata": {},
     "output_type": "execute_result"
    }
   ],
   "source": [
    "import pandas as pd\n",
    "import numpy as np\n",
    "from datetime import datetime\n",
    "\n",
    "delivery_or_return = [\n",
    "    'Lưu kho', 'Đang giao hàng',\n",
    "    'Giao không thành công',\n",
    "    'Trả hàng', 'Chờ trả hàng', 'Đang hoàn hàng',\n",
    "    'Hoàn không thành công', 'Chờ xác nhận giao lại',\n",
    "    'Tạo thành công'\n",
    "]\n",
    "# read data\n",
    "export = pd.read_excel('export_29.06.xlsx')\n",
    "inside = pd.read_excel('inside_29.06.xlsx')\n",
    "pd.set_option('display.max_columns', 88)\n",
    "len(export)"
   ]
  },
  {
   "cell_type": "code",
   "execution_count": 8,
   "metadata": {},
   "outputs": [],
   "source": [
    "# delivery backlog (backlog giao)\n",
    "delivery_backlog = export[export['TrangThai'].isin([\n",
    "    'Đang giao hàng', 'Giao không thành công',\n",
    "    'Chờ xác nhận giao lại'\n",
    "]) | ((export['TrangThai'] == 'Lưu kho') & (export['KhoGiao'] == export['KhoHienTai'])) |\\\n",
    "                          ((export['TrangThai'] == 'Tạo thành công') & ((export['ThoiGianKetThucLay'] != '<nil>') ^\\\n",
    "                          (export['ThoiGianKetThucGiao'] != '<nil>')))]\n",
    "\n",
    "\n",
    "\n",
    "# return backlog (backlog trả)\n",
    "return_backlog = export[export['TrangThai'].isin([\n",
    "    'Đang hoàn hàng', 'Hoàn không thành công'\n",
    "    ]) | ((export['TrangThai'] == 'Trả hàng') & (((export['KhoTra'] != '<nil>') & (export['KhoTra'] == export['KhoHienTai'])) |\\\n",
    "                                                 ((export['KhoTra'] == '<nil>') & (export['KhoLay'] == export['KhoHienTai'])))) |\\\n",
    "          ((export['TrangThai'] == 'Tạo thành công') & (export['ThoiGianKetThucGiao'] != '<nil>'))]\n",
    "\n",
    "\n",
    "\n",
    "# pick_backlog (backlog lấy)\n",
    "pick_backlog = export[export['TrangThai'].isin(['Chờ lấy hàng', 'Đang lấy hàng', 'Lấy không thành công'])]\n",
    "\n",
    "\n",
    "\n",
    "# transit_backlog (backlog luân chuyển)\n",
    "transit_backlog = export[(export['TrangThai'] == 'GHN đã lấy') |\\\n",
    "                         ((export['TrangThai'] == 'Lưu kho') & (export['KhoGiao'] != export['KhoHienTai']))]\n",
    "\n",
    "\n",
    "\n",
    "# returned_transit_backlog (backlog luân chuyển trả hàng)\n",
    "returned_transit_backlog = export[export['TrangThai'].isin([\n",
    "    'Trả hàng', 'Chờ trả hàng'\n",
    "]) & (((export['KhoTra'] == '<nil>') & (export['KhoLay'] != export['KhoHienTai'])) |\\\n",
    "      ((export['KhoTra'] != '<nil>') & (export['KhoTra'] != export['KhoHienTai'])))]\n",
    "\n"
   ]
  },
  {
   "cell_type": "code",
   "execution_count": null,
   "metadata": {},
   "outputs": [],
   "source": []
  }
 ],
 "metadata": {
  "kernelspec": {
   "display_name": "Python 3",
   "language": "python",
   "name": "python3"
  },
  "language_info": {
   "codemirror_mode": {
    "name": "ipython",
    "version": 3
   },
   "file_extension": ".py",
   "mimetype": "text/x-python",
   "name": "python",
   "nbconvert_exporter": "python",
   "pygments_lexer": "ipython3",
   "version": "3.8.3"
  }
 },
 "nbformat": 4,
 "nbformat_minor": 4
}
